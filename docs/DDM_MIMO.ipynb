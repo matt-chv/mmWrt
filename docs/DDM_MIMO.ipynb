{
 "cells": [
  {
   "cell_type": "markdown",
   "id": "b237b957-6e4f-4784-97b5-ccd1d910a4cd",
   "metadata": {},
   "source": [
    "# DDM MIMO\n",
    "\n",
    "## DDM MIMO ULA"
   ]
  },
  {
   "cell_type": "code",
   "execution_count": 1,
   "id": "fe509725-1ac0-4347-8be0-6b1f7c5247e1",
   "metadata": {},
   "outputs": [
    {
     "name": "stdout",
     "output_type": "stream",
     "text": [
      "running from git folder, using local path (latest) mmWrt code c:\\git\\mmWrt\n",
      "version: 0.0.8-pre.1\n",
      "last run on  2024-10-27 16:58:34.442277\n"
     ]
    }
   ],
   "source": [
    "# Install a pip package in the current Jupyter kernel\n",
    "import sys\n",
    "from os.path import abspath, basename, join, pardir\n",
    "import datetime\n",
    "\n",
    "# hack to handle if running from git cloned folder or stand alone (like Google Colab)\n",
    "cw = basename(abspath(join(\".\")))\n",
    "dp = abspath(join(\".\",pardir))\n",
    "if cw==\"docs\" and basename(dp) == \"mmWrt\":\n",
    "    # running from cloned folder\n",
    "    print(\"running from git folder, using local path (latest) mmWrt code\", dp)\n",
    "    sys.path.insert(0, dp)\n",
    "else:\n",
    "    print(\"running standalone, need to ensure mmWrt is installed\")\n",
    "    !{sys.executable} -m pip install mmWrt\n",
    "\n",
    "from os.path import abspath, join, pardir\n",
    "import sys\n",
    "from numpy.fft import fft, fftshift\n",
    "from scipy.signal import find_peaks\n",
    "import matplotlib.pyplot as plt\n",
    "from numpy import arange, cos, sin, pi, zeros\n",
    "\n",
    "from mmWrt.Scene import Antenna, Medium, Radar, Receiver, Target, Transmitter\n",
    "from mmWrt.Raytracing import rt_points\n",
    "from mmWrt import __version__\n",
    "print(\"version:\", __version__)\n",
    "\n",
    "print(\"last run on \", datetime.datetime.now())"
   ]
  },
  {
   "cell_type": "code",
   "execution_count": 2,
   "id": "9c51acf6-a832-4297-b517-242376d6edb6",
   "metadata": {},
   "outputs": [
    {
     "name": "stdout",
     "output_type": "stream",
     "text": [
      "Generic observations about the simulation\n",
      "Compute: True\n",
      "Radar freq: 60.0 GHz\n",
      "ADC samples # 64\n",
      "range resolution 0.75\n",
      "Range resolution 0.75\n",
      "Tc 0.0007142857142857143\n",
      "T[-1] 0.038715\n",
      "ts 5e-06\n",
      "N adc per chirp 64\n",
      "t_interchirp 0.0012\n",
      "frame timing: 0.0015199999999999999\n",
      "simulation time 0.0015199999999999999\n",
      "Dmax 107142.85714285714\n",
      "Dmax as function fs 107.14285714285714\n",
      "radar lambda: 0.005\n",
      "vmax :1.0416666666666667\n",
      "speed resolution (within a frame of N chirps): 0.109375\n",
      "---- TARGETS ---\n",
      "IF frequency for target[0] is 18853.333333333332, which is 0.094 of fs\n",
      "----- target[0] covers less than one range: 0.0 < 0.75 range res.\n",
      "Range index: from 13.0 to 13.0\n",
      "vmax of target is: 0.0 < unambiguous speed: 1.0416666666666667\n",
      "vt_min: 0.0, vt_mean: 0.0, vt_max:0.0\n",
      "End of simulation time: 0.038715\n",
      "IF frequency for target[1] is 28186.666666666668, which is 0.14 of fs\n",
      "----- target[1] covers less than one range: 0.0 < 0.75 range res.\n",
      "Range index: from 20.0 to 20.0\n",
      "vmax of target is: 0.0 < unambiguous speed: 1.0416666666666667\n",
      "vt_min: 0.0, vt_mean: 0.0, vt_max:0.0\n",
      "End of simulation time: 0.038715\n",
      "IF frequency for target[2] is 37520.0, which is 0.19 of fs\n",
      "----- target[2] covers less than one range: 0.0 < 0.75 range res.\n",
      "Range index: from 26.0 to 26.0\n",
      "vmax of target is: 0.0 < unambiguous speed: 1.0416666666666667\n",
      "vt_min: 0.0, vt_mean: 0.0, vt_max:0.0\n",
      "End of simulation time: 0.038715\n"
     ]
    },
    {
     "data": {
      "text/plain": [
       "<matplotlib.patches.Circle at 0x2196c267ad0>"
      ]
     },
     "execution_count": 2,
     "metadata": {},
     "output_type": "execute_result"
    },
    {
     "data": {
      "image/png": "[encoded data removed]",
      "text/plain": [
       "<Figure size 640x480 with 1 Axes>"
      ]
     },
     "metadata": {},
     "output_type": "display_data"
    }
   ],
   "source": [
    "from scipy.fft import fft, fft2\n",
    "\n",
    "f0 = 62e9\n",
    "# Number of ADC samples\n",
    "NA = 64\n",
    "# Number of TX channels\n",
    "NT = 2\n",
    "# Number of RX channels\n",
    "NR = 8\n",
    "# Number of chirps (used for speed)\n",
    "NC=32\n",
    "\n",
    "tic0 = 1.2e-3\n",
    "\n",
    "void = Medium()\n",
    "c = void.v\n",
    "lambda0 = c/f0\n",
    "_fs = 2e5\n",
    "_k = 28e10 # chirp slope\n",
    "tic0 = 1.2e-3\n",
    "\n",
    "TXs = [Antenna(x=NR*lambda0/2*i) for i in range(NT)]\n",
    "RXs = [Antenna(x=lambda0/2*i) for i in range(NR)]\n",
    "\n",
    "radar = Radar(transmitter=Transmitter(bw=0.2e9, slope=_k,\n",
    "                                      antennas=TXs,\n",
    "                                      t_inter_chirp=tic0,\n",
    "                                      chirps_count=NC,\n",
    "                                      conf={\"mimo_mode\":\"DDM\",\n",
    "                                            \"TX_phase_offsets\":[0,0.5]}),\n",
    "              receiver=Receiver(fs=_fs, max_adc_buffer_size=2048,\n",
    "                                n_adc=NA,\n",
    "                                antennas=RXs),\n",
    "              debug=False)\n",
    "r1, theta1 = 10.1, 0\n",
    "x1, y1 = r1*cos(theta1), r1*sin(theta1)\n",
    "r2, theta2 = 15.1, pi/2\n",
    "x2, y2 = r2*cos(theta2), r2*sin(theta2)\n",
    "r3, theta3 = 20.1, pi*0.8\n",
    "x3, y3 = r3*cos(theta3), r3*sin(theta3)\n",
    "\n",
    "target1 = Target(x1, y1, 0)  # 0 degrees on x-axis <=> -pi/2 vs bore sight\n",
    "target2 = Target(x2, y2, 0) # pi/2 degrees vs x-ax <=> 0 degree vs bore sight\n",
    "target3 = Target(x3, y3, 0) # 180 degrees on x-axis <=> pi/2 vs boresight\n",
    "targets = [target1, target2, target3]\n",
    "\n",
    "bb = rt_points(radar, targets,\n",
    "               debug=True)\n",
    "fast_time_axis = 4\n",
    "slow_time_axis = 1\n",
    "cube = bb[\"adc_cube\"]\n",
    "# bb[frame_i, chirp_i, tx_i, rx_i, adc_i]\n",
    "virtual_cube_RX0 = bb[\"adc_cube\"][0,:,0,0,:]\n",
    "virtual_cube_RX1 = bb[\"adc_cube\"][0,:,0,1,:]\n",
    "Z = fft(fft(cube, axis=fast_time_axis), axis=slow_time_axis)\n",
    "Z0 = abs(fft2(virtual_cube_RX0))\n",
    "Z1 = abs(fft2(virtual_cube_RX1))\n",
    "\n",
    "fig, (ax0) = plt.subplots(ncols=1)\n",
    "ax0.set_xlabel(\"Range\")\n",
    "ax0.set_ylabel(\"Velocity\")\n",
    "ax0.set_title('Velocity-Range 2D FFT')\n",
    "# ax0.imshow(Z0[:,:NA//2])\n",
    "ax0.imshow(abs(Z[0,:,0, 0,:NA//2]))\n",
    "sub_doppler_ghost1 = plt.Circle((0.34, 0.48), 0.02, fill=False, color=\"white\")\n",
    "sub_doppler_ghost2 = plt.Circle((0.4, 0.48), 0.02, fill=False, color=\"white\")\n",
    "sub_doppler_ghost3 = plt.Circle((0.45, 0.48), 0.02, fill=False, color=\"white\")\n",
    "fig.text(0.3, 0.55, f\"Doppler ghost from DDM\", color=\"white\", fontsize=12)\n",
    "fig.add_artist(sub_doppler_ghost1)\n",
    "fig.add_artist(sub_doppler_ghost2)\n",
    "fig.add_artist(sub_doppler_ghost3)\n",
    "# ax1.imshow(Z1[:,:NA//2])"
   ]
  },
  {
   "cell_type": "code",
   "execution_count": 6,
   "id": "aa089eaf-d7c6-4274-98a7-d9b5b9fa72e7",
   "metadata": {},
   "outputs": [
    {
     "name": "stdout",
     "output_type": "stream",
     "text": [
      "(16, 16, 32)\n"
     ]
    },
    {
     "data": {
      "text/plain": [
       "<matplotlib.image.AxesImage at 0x2196f95e590>"
      ]
     },
     "execution_count": 6,
     "metadata": {},
     "output_type": "execute_result"
    },
    {
     "data": {
      "image/png": "[encoded data removed]",
      "text/plain": [
       "<Figure size 640x480 with 1 Axes>"
      ]
     },
     "metadata": {},
     "output_type": "display_data"
    }
   ],
   "source": [
    "from scipy.signal import find_peaks\n",
    "# generate virtual antennas\n",
    "\n",
    "# important to declare the zeros as complex otherwise assignement\n",
    "# forces a type cast to real\n",
    "virtual_cube = zeros(( NC//NT, NT * NR, NA//2)).astype(complex)\n",
    "print(virtual_cube.shape)\n",
    "for tx_idx in range(NT):\n",
    "    for rx_idx in range(NR):\n",
    "        # virtual antenna index =\n",
    "        # tx_idx*NT+ rx_idx\n",
    "        virtual_rx_idx = tx_idx*NR+ rx_idx\n",
    "        virtual_cube[:,virtual_rx_idx,:] = Z[0, tx_idx*NC//NT:(tx_idx+1)*NC//NT, 0, rx_idx, :NA//2]\n",
    "\n",
    "doppler_axis=0\n",
    "rx_axis = 1\n",
    "range_axis=2\n",
    "A = fftshift(fft(virtual_cube, axis=rx_axis), axes=1)\n",
    "# plot AoA at zero Doppler\n",
    "plt.xlabel(\"Range (idx)\")\n",
    "plt.ylabel(\"AoA (idx)\")\n",
    "plt.title('AoA-Range 2D FFT')\n",
    "plt.imshow(abs(A[0,:,:]))"
   ]
  },
  {
   "cell_type": "markdown",
   "id": "71a0b855-096d-403a-aa9d-f92a56174a6b",
   "metadata": {},
   "source": [
    "## Dummy sub doppler"
   ]
  },
  {
   "cell_type": "code",
   "execution_count": 12,
   "id": "8fc20144-646f-479d-8619-0f0929102d32",
   "metadata": {},
   "outputs": [
    {
     "name": "stdout",
     "output_type": "stream",
     "text": [
      "range peaks (array([ 6,  9, 12, 52, 55, 58], dtype=int64), {})\n",
      "first range bin 6\n",
      "doppler peaks (array([16, 26], dtype=int64), {})\n",
      "sub doppler width 10\n",
      "min 16\n",
      "15.0\n"
     ]
    },
    {
     "data": {
      "image/png": "[encoded data removed]",
      "text/plain": [
       "<Figure size 640x480 with 1 Axes>"
      ]
     },
     "metadata": {},
     "output_type": "display_data"
    }
   ],
   "source": [
    "from numpy import mean, concatenate, array\n",
    "radar = Radar(transmitter=Transmitter(bw=0.2e9, slope=_k,\n",
    "                                      antennas=TXs,\n",
    "                                      t_inter_chirp=tic0,\n",
    "                                      chirps_count=NC,\n",
    "                                      conf={\"mimo_mode\":\"DDM\",\n",
    "                                            \"TX_phase_offsets\":[0,0.3]}),\n",
    "              receiver=Receiver(fs=_fs, max_adc_buffer_size=2048,\n",
    "                                n_adc=NA,\n",
    "                                antennas=RXs),\n",
    "              debug=False)\n",
    "r1, theta1 = 10.1, 0\n",
    "x1, y1 = r1*cos(theta1), r1*sin(theta1)\n",
    "r2, theta2 = 15.1, pi/2\n",
    "x2, y2 = r2*cos(theta2), r2*sin(theta2)\n",
    "r3, theta3 = 20.1, pi*0.8\n",
    "x3, y3 = r3*cos(theta3), r3*sin(theta3)\n",
    "\n",
    "v1 = 1.0\n",
    "target1 = Target(x1, y1, 0, xt= lambda t: x1+v1*t)  # 0 degrees on x-axis <=> -pi/2 vs bore sight\n",
    "target2 = Target(x2, y2, 0) # pi/2 degrees vs x-ax <=> 0 degree vs bore sight\n",
    "target3 = Target(x3, y3, 0) # 180 degrees on x-axis <=> pi/2 vs boresight\n",
    "targets = [target1, target2, target3]\n",
    "\n",
    "bb = rt_points(radar, targets,\n",
    "               debug=False)\n",
    "fast_time_axis = 4\n",
    "slow_time_axis = 1\n",
    "cube = bb[\"adc_cube\"]\n",
    "# bb[frame_i, chirp_i, tx_i, rx_i, adc_i]\n",
    "virtual_cube_RX0 = bb[\"adc_cube\"][0,:,0,0,:]\n",
    "virtual_cube_RX1 = bb[\"adc_cube\"][0,:,0,1,:]\n",
    "Z = fft(fft(cube, axis=fast_time_axis), axis=slow_time_axis)\n",
    "Z0 = abs(fft2(virtual_cube_RX0))\n",
    "Z1 = abs(fft2(virtual_cube_RX1))\n",
    "\n",
    "fig, (ax0) = plt.subplots(ncols=1)\n",
    "ax0.set_xlabel(\"Range\")\n",
    "ax0.set_ylabel(\"Velocity\")\n",
    "ax0.set_title('Velocity-Range 2D FFT')\n",
    "ax0.imshow(abs(Z[0,:,0, 0,:NA//2]))\n",
    "\n",
    "# find peaks\n",
    "range_pks = find_peaks(abs(Z[0,0,0,0,:]))\n",
    "print(\"range peaks\", range_pks)\n",
    "range_bin_idx = range_pks[0][0]\n",
    "print(\"first range bin\",range_bin_idx)\n",
    "doppler_peaks = find_peaks(concatenate((array([0]),abs(Z[0,:,0,0,range_bin_idx]))))\n",
    "print(\"doppler peaks\", doppler_peaks)\n",
    "doppler_peaks = doppler_peaks[0]\n",
    "sub_dop_width = NC//(NT+1)\n",
    "print(\"sub doppler width\", sub_dop_width)\n",
    "print(\"min\", min(doppler_peaks))\n",
    "if min(doppler_peaks) >= sub_dop_width:\n",
    "    dopplers = [d-(idx+1)*sub_dop_width-1 for idx,d in enumerate(doppler_peaks)]\n",
    "    # print(\"dopplers shifted\", dopplers)\n",
    "    print(sub_dop_width+mean(dopplers))"
   ]
  },
  {
   "cell_type": "code",
   "execution_count": 11,
   "id": "4c94a91c-38f0-460b-b7ca-c08a7486de0f",
   "metadata": {},
   "outputs": [],
   "source": [
    "# non regression hook\n",
    "# ensure first range bin does not have velocity \n",
    "# < NF//NT\n",
    "assert min(doppler_peaks) == 16\n",
    "assert min(doppler_peaks) >= NC//NT"
   ]
  }
 ],
 "metadata": {
  "kernelspec": {
   "display_name": "Python 3 (ipykernel)",
   "language": "python",
   "name": "python3"
  },
  "language_info": {
   "codemirror_mode": {
    "name": "ipython",
    "version": 3
   },
   "file_extension": ".py",
   "mimetype": "text/x-python",
   "name": "python",
   "nbconvert_exporter": "python",
   "pygments_lexer": "ipython3",
   "version": "3.11.1"
  }
 },
 "nbformat": 4,
 "nbformat_minor": 5
}
