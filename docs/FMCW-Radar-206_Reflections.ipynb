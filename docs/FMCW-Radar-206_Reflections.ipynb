{
 "cells": [
  {
   "cell_type": "markdown",
   "metadata": {},
   "source": [
    "# FMCW Radar 206 - Reflections"
   ]
  },
  {
   "cell_type": "markdown",
   "metadata": {
    "id": "ievkv-71F_zH"
   },
   "source": [
    "swra705.pdf 2.9 is given in Table 3-1 as the permittivity for polycarbonate.\n",
    "\n",
    "| Material | Permitiviy | Dissipation |\n",
    "|---|---|---|\n",
    "| polycarbonate | 2.9  |0.012 |\n",
    "\n",
    "swra705 Equation 4 is:\n",
    "\n",
    "\\begin{align}\n",
    "\\lambda_m = \\frac{c}{f \\cdot \\sqrt{\\epsilon_R}}\n",
    "\\tag{0}\n",
    "\\end{align}\n",
    "\n",
    "$$ \\iff \\lambda_{void} = \\lambda_m \\cdot \\sqrt{\\epsilon_R}$$\n",
    "\n",
    "Refractive index n is defined as\n",
    "\n",
    "$n = \\frac{c}{v} \\iff c = v \\cdot n$\n",
    "\n",
    "and,\n",
    "\n",
    "$\\lambda_{medium} = \\frac {v_{medium}}{f} $\n",
    "\n",
    "\\begin{align}\n",
    "\\frac{\\lambda_{void}}{\\lambda_{polycarbonate}}\n",
    "= \\frac{\\frac{v_{void}}{f}}{\\frac {v_{poly}}{f}}\n",
    "= \\frac {v_{void}}{v_{poly}}\n",
    "= n\n",
    "\\iff\n",
    "\\lambda_{void}= n \\cdot \\lambda_{polycarbonate}\n",
    "\\tag{1.1}\n",
    "\\end{align}\n",
    "\n",
    "as per this online tutorial: https://www.tf.uni-kiel.de/matwis/amat/elmat_en/kap_3/backbone/r3_7_2.html\n",
    "\n",
    "$$n^2 = \\epsilon_R$$\n",
    "\n",
    "\n",
    "\n"
   ]
  },
  {
   "cell_type": "code",
   "execution_count": null,
   "metadata": {
    "colab": {
     "base_uri": "https://localhost:8080/"
    },
    "id": "AvQ1zGxRFRGB",
    "outputId": "c7e40289-5023-41e2-a49e-3d6d8547f999"
   },
   "outputs": [
    {
     "name": "stdout",
     "output_type": "stream",
     "text": [
      "1.70293863659264\n"
     ]
    }
   ],
   "source": [
    "from numpy import sqrt\n",
    "epsilon_R = 2.9\n",
    "n = 1.586\n",
    "print(sqrt(epsilon_R))"
   ]
  }
 ],
 "metadata": {
  "colab": {
   "provenance": []
  },
  "kernelspec": {
   "display_name": "Python 3 (ipykernel)",
   "language": "python",
   "name": "python3"
  },
  "language_info": {
   "codemirror_mode": {
    "name": "ipython",
    "version": 3
   },
   "file_extension": ".py",
   "mimetype": "text/x-python",
   "name": "python",
   "nbconvert_exporter": "python",
   "pygments_lexer": "ipython3",
   "version": "3.10.9"
  }
 },
 "nbformat": 4,
 "nbformat_minor": 4
}
