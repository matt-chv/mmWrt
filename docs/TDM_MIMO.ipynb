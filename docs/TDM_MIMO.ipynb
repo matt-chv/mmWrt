{
 "cells": [
  {
   "cell_type": "markdown",
   "id": "600b88c6-b549-4115-ac69-4b7e5c5be345",
   "metadata": {},
   "source": [
    "# TDM MIMO\n",
    "\n",
    "## TDM MIMO ULA"
   ]
  },
  {
   "cell_type": "markdown",
   "id": "1d695e52-2bbe-44c9-975b-fa6183e8e8a4",
   "metadata": {},
   "source": [
    "## Setup"
   ]
  },
  {
   "cell_type": "code",
   "execution_count": 14,
   "id": "42af92ac-51a6-480b-9ba1-eee3386cf182",
   "metadata": {},
   "outputs": [
    {
     "name": "stdout",
     "output_type": "stream",
     "text": [
      "running from git folder, using local path (latest) mmWrt code c:\\git\\mmWrt\n",
      "version: 0.0.7\n",
      "2024-10-23 14:12:01.437138\n"
     ]
    }
   ],
   "source": [
    "# Install a pip package in the current Jupyter kernel\n",
    "import sys\n",
    "from os.path import abspath, basename, join, pardir\n",
    "import datetime\n",
    "\n",
    "# hack to handle if running from git cloned folder or stand alone (like Google Colab)\n",
    "cw = basename(abspath(join(\".\")))\n",
    "dp = abspath(join(\".\",pardir))\n",
    "if cw==\"docs\" and basename(dp) == \"mmWrt\":\n",
    "    # running from cloned folder\n",
    "    print(\"running from git folder, using local path (latest) mmWrt code\", dp)\n",
    "    sys.path.insert(0, dp)\n",
    "else:\n",
    "    print(\"running standalone, need to ensure mmWrt is installed\")\n",
    "    !{sys.executable} -m pip install mmWrt\n",
    "\n",
    "from os.path import abspath, join, pardir\n",
    "import sys\n",
    "from numpy.fft import fft, fftshift\n",
    "from scipy.signal import find_peaks\n",
    "import matplotlib.pyplot as plt\n",
    "from numpy import arange, cos, sin, pi, zeros\n",
    "\n",
    "from mmWrt.Scene import Antenna, Medium, Radar, Receiver, Target, Transmitter\n",
    "from mmWrt.Raytracing import rt_points\n",
    "from mmWrt import __version__\n",
    "print(\"version:\", __version__)\n",
    "\n",
    "print(datetime.datetime.now())"
   ]
  },
  {
   "cell_type": "code",
   "execution_count": 15,
   "id": "e6bcf55c-e454-478a-a662-d2f2100e8059",
   "metadata": {},
   "outputs": [
    {
     "name": "stdout",
     "output_type": "stream",
     "text": [
      "??1 (64, 64)\n",
      "??2 (64, 64)\n"
     ]
    },
    {
     "data": {
      "text/plain": [
       "<matplotlib.image.AxesImage at 0x244b0bb5d90>"
      ]
     },
     "execution_count": 15,
     "metadata": {},
     "output_type": "execute_result"
    },
    {
     "data": {
      "image/png": "[encoded data removed]",
      "text/plain": [
       "<Figure size 640x480 with 1 Axes>"
      ]
     },
     "metadata": {},
     "output_type": "display_data"
    }
   ],
   "source": [
    "f0 = 62e9\n",
    "# Number of ADC samples\n",
    "NA = 64\n",
    "# Number of TX channels\n",
    "NT = 8\n",
    "# Number of RX channels\n",
    "NR = 8\n",
    "\n",
    "void = Medium()\n",
    "c = void.v\n",
    "lambda0 = c/f0\n",
    "_fs = 4e3\n",
    "_k = 70e8\n",
    "TXs = [Antenna(x=NR*lambda0/2*i) for i in range(NT)]\n",
    "RXs = [Antenna(x=lambda0/2*i) for i in range(NR)]\n",
    "\n",
    "radar = Radar(transmitter=Transmitter(bw=3.5e9, slope=_k,\n",
    "                                      antennas=TXs),\n",
    "              receiver=Receiver(fs=_fs, max_adc_buffer_size=2048,\n",
    "                                n_adc=NA,\n",
    "                                antennas=RXs),\n",
    "              debug=False)\n",
    "r1, theta1 = 10.1, 0\n",
    "x1, y1 = r1*cos(theta1), r1*sin(theta1)\n",
    "r2, theta2 = 20.1, pi/2\n",
    "x2, y2 = r2*cos(theta2), r2*sin(theta2)\n",
    "r3, theta3 = 30.1, pi\n",
    "x3, y3 = r3*cos(theta3), r3*sin(theta3)\n",
    "\n",
    "target1 = Target(x1, y1, 0)  # 0 degrees on x-axis <=> -pi/2 vs bore sight\n",
    "target2 = Target(x2, y2, 0) # pi/2 degrees vs x-ax <=> 0 degree vs bore sight\n",
    "target3 = Target(x3, y3, 0) # 180 degrees on x-axis <=> pi/2 vs boresight\n",
    "targets = [target1, target2, target3]\n",
    "\n",
    "bb = rt_points(radar, targets,\n",
    "               debug=False)\n",
    "cube = bb[\"adc_cube\"]\n",
    "# bb[frame_i, chirp_i, tx_i, rx_i, adc_i]\n",
    "\n",
    "# generate virtual antennas\n",
    "virtual_cube = zeros(( NT * NR, NA))\n",
    "print(\"??1\", virtual_cube.shape)\n",
    "for tx_idx in range(NT):\n",
    "    for rx_idx in range(NR):\n",
    "        virtual_cube[tx_idx*NT+ rx_idx,:] = cube[:, :, tx_idx, rx_idx, :]\n",
    "\n",
    "print(\"??2\", virtual_cube.shape)\n",
    "\n",
    "fast_time_axis = 1\n",
    "RX_antennas_axis = 0\n",
    "# first compute the range FFT\n",
    "R_fft = fft(virtual_cube, axis=fast_time_axis)\n",
    "# then compute the AoA FFT\n",
    "A_FFT = fft(R_fft, axis=RX_antennas_axis)\n",
    "\n",
    "# for Range vs AoA, display magnitude\n",
    "# and need to fftshift to have the negative frequencies moved around 0\n",
    "Z_fft = abs(fftshift(A_FFT[:,:], axes=0))\n",
    "plt.xlabel(\"Range\")\n",
    "plt.ylabel(\"AoA\")\n",
    "plt.title('AoA-Range 2D FFT')\n",
    "plt.imshow(Z_fft[:,:NA//2])"
   ]
  },
  {
   "cell_type": "code",
   "execution_count": 5,
   "id": "4ab9da16-37f3-489f-83e0-967399189761",
   "metadata": {},
   "outputs": [
    {
     "data": {
      "text/plain": [
       "(1, 1, 8, 8, 64)"
      ]
     },
     "execution_count": 5,
     "metadata": {},
     "output_type": "execute_result"
    }
   ],
   "source": [
    "R_fft.shape"
   ]
  }
 ],
 "metadata": {
  "kernelspec": {
   "display_name": "Python 3 (ipykernel)",
   "language": "python",
   "name": "python3"
  },
  "language_info": {
   "codemirror_mode": {
    "name": "ipython",
    "version": 3
   },
   "file_extension": ".py",
   "mimetype": "text/x-python",
   "name": "python",
   "nbconvert_exporter": "python",
   "pygments_lexer": "ipython3",
   "version": "3.11.1"
  }
 },
 "nbformat": 4,
 "nbformat_minor": 5
}
