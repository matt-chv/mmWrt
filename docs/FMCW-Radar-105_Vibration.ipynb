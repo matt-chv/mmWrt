{
  "nbformat": 4,
  "nbformat_minor": 0,
  "metadata": {
    "colab": {
      "provenance": []
    },
    "kernelspec": {
      "name": "python3",
      "display_name": "Python 3"
    },
    "language_info": {
      "name": "python"
    }
  },
  "cells": [
    {
      "cell_type": "code",
      "execution_count": null,
      "metadata": {
        "colab": {
          "base_uri": "https://localhost:8080/"
        },
        "id": "ugxnvdnUR0mk",
        "outputId": "fb3e58da-31cd-4427-ce7a-89b8cd31312f"
      },
      "outputs": [
        {
          "output_type": "stream",
          "name": "stdout",
          "text": [
            "Looking in indexes: https://pypi.org/simple, https://us-python.pkg.dev/colab-wheels/public/simple/\n",
            "Collecting mmWrt\n",
            "  Downloading mmWrt-0.0.4-py3-none-any.whl (11 kB)\n",
            "Requirement already satisfied: numpy in /usr/local/lib/python3.10/dist-packages (from mmWrt) (1.22.4)\n",
            "Requirement already satisfied: scipy in /usr/local/lib/python3.10/dist-packages (from mmWrt) (1.10.1)\n",
            "Requirement already satisfied: matplotlib in /usr/local/lib/python3.10/dist-packages (from mmWrt) (3.7.1)\n",
            "Collecting semver (from mmWrt)\n",
            "  Downloading semver-3.0.0-py3-none-any.whl (17 kB)\n",
            "Requirement already satisfied: contourpy>=1.0.1 in /usr/local/lib/python3.10/dist-packages (from matplotlib->mmWrt) (1.0.7)\n",
            "Requirement already satisfied: cycler>=0.10 in /usr/local/lib/python3.10/dist-packages (from matplotlib->mmWrt) (0.11.0)\n",
            "Requirement already satisfied: fonttools>=4.22.0 in /usr/local/lib/python3.10/dist-packages (from matplotlib->mmWrt) (4.39.3)\n",
            "Requirement already satisfied: kiwisolver>=1.0.1 in /usr/local/lib/python3.10/dist-packages (from matplotlib->mmWrt) (1.4.4)\n",
            "Requirement already satisfied: packaging>=20.0 in /usr/local/lib/python3.10/dist-packages (from matplotlib->mmWrt) (23.1)\n",
            "Requirement already satisfied: pillow>=6.2.0 in /usr/local/lib/python3.10/dist-packages (from matplotlib->mmWrt) (8.4.0)\n",
            "Requirement already satisfied: pyparsing>=2.3.1 in /usr/local/lib/python3.10/dist-packages (from matplotlib->mmWrt) (3.0.9)\n",
            "Requirement already satisfied: python-dateutil>=2.7 in /usr/local/lib/python3.10/dist-packages (from matplotlib->mmWrt) (2.8.2)\n",
            "Requirement already satisfied: six>=1.5 in /usr/local/lib/python3.10/dist-packages (from python-dateutil>=2.7->matplotlib->mmWrt) (1.16.0)\n",
            "Installing collected packages: semver, mmWrt\n",
            "Successfully installed mmWrt-0.0.4 semver-3.0.0\n"
          ]
        }
      ],
      "source": [
        "# Install a pip package in the current Jupyter kernel\n",
        "import sys\n",
        "!{sys.executable} -m pip install mmWrt"
      ]
    },
    {
      "cell_type": "code",
      "source": [
        "from os.path import abspath, join, pardir\n",
        "import sys\n",
        "import matplotlib.pyplot as plt\n",
        "import matplotlib.cm as cm\n",
        "from matplotlib import colors\n",
        "from numpy import where, expand_dims\n",
        "\n",
        "\n",
        "from mmWrt.Raytracing import rt_points  # noqa: E402\n",
        "from mmWrt.Scene import Radar, Transmitter, Receiver, Target  # noqa: E402\n",
        "from mmWrt import RadarSignalProcessing as rsp  # noqa: E402"
      ],
      "metadata": {
        "id": "yVJbQgLJSdrT"
      },
      "execution_count": null,
      "outputs": []
    },
    {
      "cell_type": "code",
      "source": [
        "from scipy.fft import fft, fft2\n",
        "from numpy import sin, pi\n",
        "c = 3e8\n",
        "\n",
        "debug_ON = True\n",
        "test = 0\n",
        "NC=32\n",
        "NA=64\n",
        "radar = Radar(transmitter=Transmitter(bw=0.3e9, slope=70e8,\n",
        "                                      t_interchirp=1.2e-6,\n",
        "                                      chirps_count=NC),\n",
        "              receiver=Receiver(fs=1e3, max_adc_buffer_size=256,\n",
        "                                debug=debug_ON), debug=debug_ON)\n",
        "\n",
        "target1 = Target(2)\n",
        "\"\"\"\n",
        "https://www.ncbi.nlm.nih.gov/pmc/articles/PMC4035586/\n",
        "This movement ranges from 4–12 mm17 with a frequency range of 0.2–0.34 Hz (12–20 breaths per minute)18.\n",
        "In addition to respiratory motion, the chest surface motion also includes comparatively faster but weaker vibrations (precordial motion41)\n",
        "due to the beating of the heart. The chest surface motion due to the beating of the heart has an amplitude range of 0.2–0.5 mm19 and frequency range of 1–1.34 Hz\n",
        "(60–80 beats per minute)18.\n",
        "\"\"\"\n",
        "fb = 0.2 #Hz\n",
        "ab = 8e-3\n",
        "fh = 1.15 #Hz\n",
        "ah = 0.3e-3\n",
        "target2 = Target(5, 0, 0, vx=lambda t: ab*sin(2*pi*fb*t)+ah*sin(2*pi*fh*t))\n",
        "\n",
        "targets = [target2]\n",
        "\n",
        "bb = rt_points(radar, targets, debug=debug_ON)\n",
        "print(bb[\"chirps_count\"])\n",
        "cube = bb[\"adc_cube\"][0,:,0,0,:]\n",
        "print(cube.shape)\n",
        "Z_fft2 = abs(fft2(cube))\n",
        "Data_fft2 = Z_fft2  # [0:n_chirps//2,0:n_samples//2]\n",
        "\n",
        "plt.xlabel(\"Range (m)\")\n",
        "plt.ylabel(\"Velocity (m/s)\")\n",
        "plt.title('Velocity-Range 2D FFT')\n",
        "plt.imshow(Data_fft2[0:NC//2,0:42//2])"
      ],
      "metadata": {
        "colab": {
          "base_uri": "https://localhost:8080/",
          "height": 527
        },
        "id": "ft8_YZM-SkFL",
        "outputId": "5bb8d459-6a16-4974-d6c2-6b7a2a201b6e"
      },
      "execution_count": null,
      "outputs": [
        {
          "output_type": "stream",
          "name": "stdout",
          "text": [
            "32\n",
            "(32, 42)\n"
          ]
        },
        {
          "output_type": "execute_result",
          "data": {
            "text/plain": [
              "<matplotlib.image.AxesImage at 0x7f3cdb160f10>"
            ]
          },
          "metadata": {},
          "execution_count": 3
        },
        {
          "output_type": "display_data",
          "data": {
            "text/plain": [
              "<Figure size 640x480 with 1 Axes>"
            ],
            "image/png": "[encoded data removed]"
          },
          "metadata": {}
        }
      ]
    },
    {
      "cell_type": "markdown",
      "source": [
        "$$ y_{IF}(t) \\approx cos(2 \\pi \\cdot [f_{0min} \\cdot \\delta + s \\cdot \\delta \\cdot t ])$$\n",
        "\n",
        "Where:\n",
        "\n",
        "* $ f_{0min} $ the starting frequency of the chirp\n",
        "* s is the slope of the chirp\n",
        "* $\\delta $ is the total time of flight between antennas and target\n",
        "\n",
        "$$ \\delta(t) = 2 \\cdot \\frac{R0 + m \\cdot sin(\\omega_m \\cdot t)}{c} $$\n",
        "\n",
        "Where:\n",
        "\n",
        "* R0: main distance of target\n",
        "* m: amplitude of vibration\n",
        "* $\\omega_m$: frequency of vibration\n",
        "\n",
        "$$ \\forall l \\in \\mathbb{N} , l \\in [ \\,0, L] \\, $$\n",
        "\n",
        "Where:\n",
        "* L is the number of chirps\n",
        "* l the index of a given chirp\n",
        "* $T_c$ the total time between the start of two chirps\n",
        "* $t_c$ the time starting at 0 at the begining of the chirp\n",
        "\n",
        "$$ \\delta = \\frac{2[R0 + m \\cdot sin(\\omega_m \\cdot [l \\cdot T_c + t_c])]}{c} $$\n",
        "\n",
        "considering that\n",
        "$$ sin(\\omega_m \\cdot [l \\cdot T_c + t_c]) = sin( \\omega_m \\cdot l \\cdot T_c)cos(\\omega_m \\cdot t_c) + cos(\\omega_m \\cdot l \\cdot T_c)sin(\\omega_m \\cdot t_c) $$\n",
        "\n",
        "considering that $$ \\omega_m \\cdot t_c \\approx 0 $$\n",
        "$$ sin(\\omega_m \\cdot [l \\cdot T_c + t_c]) \\approx sin( \\omega_m \\cdot l \\cdot T_c) $$\n",
        "\n",
        "Thus\n",
        "$$ \\delta \\approx \\frac{2[R0 + m \\cdot sin( \\omega_m \\cdot l \\cdot T_c)]}{c} $$\n",
        "\n"
      ],
      "metadata": {
        "id": "YNrx1t9YAJ3u"
      }
    },
    {
      "cell_type": "code",
      "source": [
        "from numpy import arange, zeros\n",
        "\n",
        "n_adc = 1024\n",
        "n_chirps = 64\n",
        "n_frames = 64\n",
        "\n",
        "ts = 1e-2\n",
        "fs = 1/ts\n",
        "\n",
        "\n",
        "T = arange(0, n_adc*ts, ts)\n",
        "assert fs > 2* fh\n",
        "assert fs > 2* fb\n",
        "t_interchirp=1.2e-6\n",
        "fc = 1/t_interchirp\n",
        "t_interframe = 1e-1\n",
        "ff = 1/(t_interframe)\n",
        "print(fb, fs/n_adc)\n",
        "assert fb > fs/n_adc\n",
        "assert fb > ff/n_frames\n",
        "assert fh > ff/n_frames\n",
        "assert int(ff/fb) != int(fh/fb)\n",
        "n_tx = 1\n",
        "n_rx = 1\n",
        "adc_cube_2 = zeros((n_frames, n_chirps, n_tx, n_rx, n_adc))\n",
        "tx_i=0\n",
        "rx_i=0\n",
        "\n",
        "for frame_i in range(n_frames):\n",
        "    T[:] += t_interframe\n",
        "    for chirp_i in range(n_chirps):\n",
        "        T[:] += t_interchirp\n",
        "        chest = lambda t: ab*sin(2*pi*fb*t)+ah*sin(2*pi*fh*t)\n",
        "        YIF = chest(T)\n",
        "        adc_cube_2[frame_i, chirp_i, tx_i, rx_i, :] = YIF\n",
        "print(adc_cube_2.shape)"
      ],
      "metadata": {
        "colab": {
          "base_uri": "https://localhost:8080/"
        },
        "id": "dBbg0vH92pfy",
        "outputId": "22783ee6-e2e9-4814-bfc7-d1133dcf2c45"
      },
      "execution_count": null,
      "outputs": [
        {
          "output_type": "stream",
          "name": "stdout",
          "text": [
            "0.2 0.09765625\n",
            "(64, 64, 1, 1, 1024)\n"
          ]
        }
      ]
    },
    {
      "cell_type": "code",
      "source": [
        "cube = adc_cube_2[0,0,0,0,:]\n",
        "print(cube.shape)\n",
        "Z_fft = abs(fft(cube))\n",
        "plt.plot(Z_fft[0:64])"
      ],
      "metadata": {
        "colab": {
          "base_uri": "https://localhost:8080/",
          "height": 467
        },
        "id": "d8GlMHm6w-yl",
        "outputId": "1431b12c-3dd5-4045-c7b4-90491dc5bbf3"
      },
      "execution_count": null,
      "outputs": [
        {
          "output_type": "stream",
          "name": "stdout",
          "text": [
            "(1024,)\n"
          ]
        },
        {
          "output_type": "execute_result",
          "data": {
            "text/plain": [
              "[<matplotlib.lines.Line2D at 0x7f3cdb20fcd0>]"
            ]
          },
          "metadata": {},
          "execution_count": 20
        },
        {
          "output_type": "display_data",
          "data": {
            "text/plain": [
              "<Figure size 640x480 with 1 Axes>"
            ],
            "image/png": "[encoded data removed]"
          },
          "metadata": {}
        }
      ]
    },
    {
      "cell_type": "code",
      "source": [
        "cube = adc_cube_2[0,:,0,0,:]\n",
        "print(cube.shape)\n",
        "Z_fft2 = abs(fft2(cube))\n",
        "Data_fft2 = Z_fft2  # [0:n_chirps//2,0:n_samples//2]\n",
        "\n",
        "plt.xlabel(\"Range (m)\")\n",
        "plt.ylabel(\"Velocity (m/s)\")\n",
        "plt.title('Velocity-Range 2D FFT')\n",
        "plt.imshow(Data_fft2)"
      ],
      "metadata": {
        "colab": {
          "base_uri": "https://localhost:8080/",
          "height": 509
        },
        "id": "oasS_Gch4Xl7",
        "outputId": "7edf1962-c72b-43ed-db7e-9e05e2ba48d7"
      },
      "execution_count": null,
      "outputs": [
        {
          "output_type": "stream",
          "name": "stdout",
          "text": [
            "(64, 64)\n"
          ]
        },
        {
          "output_type": "execute_result",
          "data": {
            "text/plain": [
              "<matplotlib.image.AxesImage at 0x7f66d3c15b10>"
            ]
          },
          "metadata": {},
          "execution_count": 26
        },
        {
          "output_type": "display_data",
          "data": {
            "text/plain": [
              "<Figure size 640x480 with 1 Axes>"
            ],
            "image/png": "[encoded data removed]"
          },
          "metadata": {}
        }
      ]
    }
  ]
}