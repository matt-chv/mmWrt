{
 "cells": [
  {
   "cell_type": "markdown",
   "id": "bca9051f-3838-4776-b7b6-d6a710f50eb5",
   "metadata": {},
   "source": [
    "# High Speed\n",
    "\n",
    "Classical FMCW chirp processing computes the speed over multiple chirps.\n",
    "\n",
    "However in the case where the range bin changes within a chirp, it is also possible to measure the speed via rate of range bin change.\n",
    "\n",
    "The following is a simple illustration leveraging a STFT for illustration purposes"
   ]
  },
  {
   "cell_type": "code",
   "execution_count": 19,
   "id": "48a3e3b9-f542-4c19-b4c8-0def46b485af",
   "metadata": {},
   "outputs": [
    {
     "name": "stdout",
     "output_type": "stream",
     "text": [
      "running from git folder, using local path (latest) mmWrt code c:\\git\\mmWrt\n",
      "0.0.10-pre.5\n",
      "2024-12-05 20:50:53.644383\n"
     ]
    }
   ],
   "source": [
    "# Install a pip package in the current Jupyter kernel\n",
    "import sys\n",
    "from os.path import abspath, basename, join, pardir\n",
    "import datetime\n",
    "\n",
    "# hack to handle if running from git cloned folder or stand alone (like Google Colab)\n",
    "cw = basename(abspath(join(\".\")))\n",
    "dp = abspath(join(\".\",pardir))\n",
    "if cw==\"docs\" and basename(dp) == \"mmWrt\":\n",
    "    # running from cloned folder\n",
    "    print(\"running from git folder, using local path (latest) mmWrt code\", dp)\n",
    "    sys.path.insert(0, dp)\n",
    "else:\n",
    "    print(\"running standalone, need to ensure mmWrt is installed\")\n",
    "    !{sys.executable} -m pip install mmWrt\n",
    "\n",
    "from os.path import abspath, join, pardir\n",
    "import sys\n",
    "import matplotlib.pyplot as plt\n",
    "import matplotlib.cm as cm\n",
    "from matplotlib import colors\n",
    "from numpy import where, expand_dims\n",
    "from numpy import complex_ as complex\n",
    "\n",
    "# uncomment below if the notebook is launched from project's root folder\n",
    "# dp = abspath(join(\".\",pardir))\n",
    "# sys.path.insert(0, dp)\n",
    "\n",
    "\n",
    "from mmWrt.Raytracing import rt_points  # noqa: E402\n",
    "from mmWrt.Scene import Radar, Transmitter, Receiver, Target  # noqa: E402\n",
    "from mmWrt import RadarSignalProcessing as rsp  # noqa: E402\n",
    "from mmWrt import __version__ as mmWrt_ver\n",
    "print(mmWrt_ver)\n",
    "print(datetime.datetime.now())"
   ]
  },
  {
   "cell_type": "code",
   "execution_count": 29,
   "id": "4d6f73d2-22fe-4522-aeb8-68788a96a862",
   "metadata": {},
   "outputs": [
    {
     "name": "stdout",
     "output_type": "stream",
     "text": [
      "! BW ADC: 2e+09 << chirp: 4e+09\n",
      "Bandwidth in chirp: 4e+09\n",
      "Bandwidth in ADC buffers: 2e+09\n",
      "rx fmin 60.0\n",
      "rx fmax 64.0\n",
      "tx fmin 60.0\n",
      "tx fmax 64.0\n",
      "Generic observations about the simulation\n",
      "Compute: True\n",
      "Radar freq: 60.0 GHz\n",
      "ADC samples # 16384\n",
      "range resolution 0.0375\n",
      "Chirp Range resolution 0.0375\n",
      "FFT Range resolution 18.310546875\n",
      "Tc 0.002\n",
      "T[-1] 0.0022239375\n",
      "ts 6.25e-08\n",
      "N adc per chirp 16384\n",
      "t_interchirp 0.0012\n",
      "frame timing: 0.002224\n",
      "simulation time 0.002224\n",
      "Dmax (ToF horizon) 300000.0\n",
      "Dmax as function fs 1200.0\n",
      "Dres as function fs and NA 0.0732421875\n",
      "radar lambda: 0.005\n",
      "vmax :1.0416666666666667\n",
      "speed resolution (within a frame of N chirps): 1.25\n",
      "---- TARGETS ---\n",
      "!!! Vmax exceeds unambiguous speed\n",
      "IF frequency for target[0] is 66666.66666666667, which is 0.0042 of fs\n",
      "!!!!!! target[{idx}] covers more than one range: 22.239375 vs 0.0375\n",
      "initial position: 5.0 and final position: 27.239375\n",
      "Range index: from 133.0 to 726.0\n",
      "!!!! vmax of target is: 10000.000000037748 > unambiguous speed: 1.0416666666666667\n",
      "vt_min: 9999.99999992406, vt_mean: 9999.999999989997, vt_max:10000.000000037748\n",
      "End of simulation time: 0.0022239375\n"
     ]
    },
    {
     "data": {
      "text/plain": [
       "<matplotlib.image.AxesImage at 0x13c9b1ed250>"
      ]
     },
     "execution_count": 29,
     "metadata": {},
     "output_type": "execute_result"
    },
    {
     "data": {
      "image/png": "[encoded data removed]",
      "text/plain": [
       "<Figure size 640x480 with 1 Axes>"
      ]
     },
     "metadata": {},
     "output_type": "display_data"
    }
   ],
   "source": [
    "from scipy.fft import fft, fft2\n",
    "from scipy.signal import stft\n",
    "\n",
    "c = 3e8\n",
    "\n",
    "debug_ON = True\n",
    "test = 0\n",
    "NC=1\n",
    "n=16\n",
    "NA=512*n*2\n",
    "fs0 = 10e5*n\n",
    "slope0 = 2e12\n",
    "tic0 = 1.2e-3\n",
    "raytracing_opt = {\"logging_level\":10}\n",
    "radar = Radar(transmitter=Transmitter(bw=4e9, slope=slope0,\n",
    "                                      t_inter_chirp=tic0,\n",
    "                                      chirps_count=NC),\n",
    "              receiver=Receiver(fs=fs0, n_adc=NA, max_adc_buffer_size=NA*2,\n",
    "                                max_fs=fs0*2,\n",
    "                                debug=debug_ON), debug=debug_ON)\n",
    "\n",
    "x1, v1 = 5, 10000\n",
    "target1 = Target(xt=lambda t: v1*t+x1)\n",
    "\n",
    "targets = [target1]\n",
    "\n",
    "bb = rt_points(radar, targets,\n",
    "               datatype=complex, debug=debug_ON,\n",
    "               raytracing_opt=raytracing_opt)\n",
    "\n",
    "cube = bb[\"adc_cube\"][0,0,0,0,:]\n",
    "\n",
    "seg_n = 512\n",
    "# nperseg: Length of each segment\n",
    "# noverlapint: Number of points to overlap between segments. If None, noverlap = nperseg // 2\n",
    "# return_onesidedbool, optional - If True, return a one-sided spectrum for real data.\n",
    "_, _, fft_st = stft(cube, nperseg=seg_n, return_onesided=False)\n",
    "plt.title(\"STFT based range bin changes over time\")\n",
    "plt.xlabel(\"Time base\")\n",
    "plt.ylabel(\"Rang bin (idx)\")\n",
    "plt.imshow(abs(fft_st[:,:]))"
   ]
  }
 ],
 "metadata": {
  "kernelspec": {
   "display_name": "Python 3 (ipykernel)",
   "language": "python",
   "name": "python3"
  },
  "language_info": {
   "codemirror_mode": {
    "name": "ipython",
    "version": 3
   },
   "file_extension": ".py",
   "mimetype": "text/x-python",
   "name": "python",
   "nbconvert_exporter": "python",
   "pygments_lexer": "ipython3",
   "version": "3.11.1"
  }
 },
 "nbformat": 4,
 "nbformat_minor": 5
}
