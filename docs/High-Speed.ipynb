{
 "cells": [
  {
   "cell_type": "markdown",
   "id": "bca9051f-3838-4776-b7b6-d6a710f50eb5",
   "metadata": {},
   "source": [
    "# High Speed\n",
    "\n",
    "Classical FMCW chirp processing computes the speed over multiple chirps.\n",
    "\n",
    "However in the case where the range bin changes within a chirp, it is also possible to measure the speed via rate of range bin change.\n",
    "\n",
    "The following is a simple illustration leveraging a STFT for illustration purposes\n",
    "\n",
    "[![](https://colab.research.google.com/assets/colab-badge.svg)](https://colab.research.google.com/github/matt-chv/mmWrt/blob/main/docs/High-Speed.ipynb)"
   ]
  },
  {
   "cell_type": "code",
   "execution_count": 3,
   "id": "48a3e3b9-f542-4c19-b4c8-0def46b485af",
   "metadata": {},
   "outputs": [
    {
     "name": "stdout",
     "output_type": "stream",
     "text": [
      "running from git folder, using local path (latest) mmWrt code c:\\git\\mmWrt\n",
      "0.0.9\n",
      "2024-12-06 09:26:35.733645\n"
     ]
    }
   ],
   "source": [
    "# Install a pip package in the current Jupyter kernel\n",
    "import sys\n",
    "from os.path import abspath, basename, join, pardir\n",
    "import datetime\n",
    "\n",
    "# hack to handle if running from git cloned folder or stand alone (like Google Colab)\n",
    "cw = basename(abspath(join(\".\")))\n",
    "dp = abspath(join(\".\",pardir))\n",
    "if cw==\"docs\" and basename(dp) == \"mmWrt\":\n",
    "    # running from cloned folder\n",
    "    print(\"running from git folder, using local path (latest) mmWrt code\", dp)\n",
    "    sys.path.insert(0, dp)\n",
    "else:\n",
    "    print(\"running standalone, need to ensure mmWrt is installed\")\n",
    "    !{sys.executable} -m pip install mmWrt\n",
    "\n",
    "from os.path import abspath, join, pardir\n",
    "import sys\n",
    "import matplotlib.pyplot as plt\n",
    "import matplotlib.cm as cm\n",
    "from matplotlib import colors\n",
    "from numpy import where, expand_dims\n",
    "from numpy import complex_ as complex\n",
    "\n",
    "# uncomment below if the notebook is launched from project's root folder\n",
    "# dp = abspath(join(\".\",pardir))\n",
    "# sys.path.insert(0, dp)\n",
    "\n",
    "\n",
    "from mmWrt.Raytracing import rt_points  # noqa: E402\n",
    "from mmWrt.Scene import Radar, Transmitter, Receiver, Target  # noqa: E402\n",
    "from mmWrt import RadarSignalProcessing as rsp  # noqa: E402\n",
    "from mmWrt import __version__ as mmWrt_ver\n",
    "print(mmWrt_ver)\n",
    "print(datetime.datetime.now())"
   ]
  },
  {
   "cell_type": "code",
   "execution_count": 39,
   "id": "4d6f73d2-22fe-4522-aeb8-68788a96a862",
   "metadata": {},
   "outputs": [
    {
     "data": {
      "text/plain": [
       "<matplotlib.image.AxesImage at 0x2568b72df10>"
      ]
     },
     "execution_count": 39,
     "metadata": {},
     "output_type": "execute_result"
    },
    {
     "data": {
      "image/png": "[encoded data removed]",
      "text/plain": [
       "<Figure size 640x480 with 1 Axes>"
      ]
     },
     "metadata": {},
     "output_type": "display_data"
    }
   ],
   "source": [
    "from scipy.fft import fft, fft2\n",
    "from scipy.signal import stft\n",
    "\n",
    "c = 3e8\n",
    "\n",
    "debug_ON = False\n",
    "test = 0\n",
    "NC=1\n",
    "n=16\n",
    "NA=512*n*2\n",
    "fs0 = 10e5*n\n",
    "slope0 = 2e12\n",
    "tic0 = 1.2e-3\n",
    "raytracing_opt = {\"logging_level\":10}\n",
    "radar = Radar(transmitter=Transmitter(bw=4e9, slope=slope0,\n",
    "                                      t_inter_chirp=tic0,\n",
    "                                      chirps_count=NC),\n",
    "              receiver=Receiver(fs=fs0, n_adc=NA, max_adc_buffer_size=NA*2,\n",
    "                                max_fs=fs0*2,\n",
    "                                debug=debug_ON), debug=debug_ON)\n",
    "\n",
    "x1, v1 = 5, 10000*2\n",
    "target1 = Target(xt=lambda t: v1*t+x1)\n",
    "\n",
    "targets = [target1]\n",
    "\n",
    "bb = rt_points(radar, targets,\n",
    "               datatype=complex, debug=debug_ON,\n",
    "               raytracing_opt=raytracing_opt)\n",
    "\n",
    "cube = bb[\"adc_cube\"][0,0,0,0,:]\n",
    "\n",
    "seg_n = 512\n",
    "# nperseg: Length of each segment\n",
    "# noverlapint: Number of points to overlap between segments. If None, noverlap = nperseg // 2\n",
    "# return_onesidedbool, optional - If True, return a one-sided spectrum for real data.\n",
    "_, _, fft_st = stft(cube, nperseg=seg_n, return_onesided=False)\n",
    "plt.title(\"STFT based range bin changes over time\")\n",
    "plt.xlabel(\"Time base\")\n",
    "plt.ylabel(\"Rang bin (idx)\")\n",
    "plt.imshow(abs(fft_st[:,:]))"
   ]
  },
  {
   "cell_type": "markdown",
   "id": "be6d58ac-8283-46c3-a445-14af43d97cf0",
   "metadata": {},
   "source": [
    "## compute speed after STFT"
   ]
  },
  {
   "cell_type": "code",
   "execution_count": 42,
   "id": "72cb071c-5f1f-488e-add8-e12ffed075c8",
   "metadata": {},
   "outputs": [
    {
     "name": "stdout",
     "output_type": "stream",
     "text": [
      "speed estimate 20599.365234375\n"
     ]
    }
   ],
   "source": [
    "from scipy.signal import find_peaks\n",
    "# find the range bin where target is at the begining of STFT\n",
    "peak_at_start = find_peaks(abs(fft_st[:,0]))[0][0]\n",
    "# find the range bin where the target is at the end of STFT\n",
    "peak_at_end = find_peaks(abs(fft_st[:,-1]))[0][0]\n",
    "\n",
    "# speed = Delta D/Delta T\n",
    "\n",
    "# Range bin resolution from samples\n",
    "R_bin_fft = fs0*c/2/slope0/NA\n",
    "# Range bin resolution for STFT is scaled up by nperseg\n",
    "R_bin_stft = R_bin_fft*NA/seg_n\n",
    "# compute the chirp time, which is also the divider for the speed\n",
    "Tc = NA*1/fs0\n",
    "# The target distance grows 2x (there and back) so speed needs to be divided by 2\n",
    "print(\"speed estimate\", (peak_at_end-peak_at_start)*R_bin_stft/Tc/2)\n"
   ]
  }
 ],
 "metadata": {
  "kernelspec": {
   "display_name": "Python 3 (ipykernel)",
   "language": "python",
   "name": "python3"
  },
  "language_info": {
   "codemirror_mode": {
    "name": "ipython",
    "version": 3
   },
   "file_extension": ".py",
   "mimetype": "text/x-python",
   "name": "python",
   "nbconvert_exporter": "python",
   "pygments_lexer": "ipython3",
   "version": "3.11.1"
  }
 },
 "nbformat": 4,
 "nbformat_minor": 5
}
