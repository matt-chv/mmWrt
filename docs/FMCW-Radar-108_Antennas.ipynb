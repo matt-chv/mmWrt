{
 "cells": [
  {
   "cell_type": "markdown",
   "id": "652b8f17-158b-4a87-bf93-0174886a76ef",
   "metadata": {},
   "source": [
    "# FMCW Radar 108 - Antennas\n",
    "\n",
    "While it is beyond the scope of this writeup to cover the details of antenna designs. A few key points will be covered here."
   ]
  },
  {
   "cell_type": "markdown",
   "id": "2a2e9f50-68a6-45a8-86c8-814503a6c89d",
   "metadata": {},
   "source": [
    "## Different types of antennas\n"
   ]
  },
  {
   "cell_type": "markdown",
   "id": "39d912b5-fa98-4d56-bdce-f86c3e102e04",
   "metadata": {},
   "source": [
    "## Antenna patches\n",
    "\n",
    "### Fundamental Resonant Frequency\n",
    "\n",
    "The resonant frequency of a patch antenna depends on its physical dimensions, the dielectric material, and the mode of operation. For a rectangular microstrip patch antenna, the fundamental resonant frequency (dominant mode, TM₁₀ mode) is approximately given by:\n",
    "\n",
    "$$ f_r = \\frac{c}{2L \\sqrt{\\varepsilon_r^{\\text{eff}}}} $$\n",
    "\n",
    "where:\n",
    "\n",
    "- c is the speed of light in vacuum (3 \\times 10^8 m/s),\n",
    "- L is the length of the patch,\n",
    "- $\\varepsilon_r^{\\text{eff}}$ is the effective permittivity of the dielectric substrate, given by:\n",
    "\n",
    "$$\\varepsilon_r^{\\text{eff}} = \\frac{\\varepsilon_r + 1}{2} + \\frac{\\varepsilon_r - 1}{2} \\left( 1 + 12 \\frac{h}{W} \\right)^{-1/2}$$\n",
    "\n",
    "where:\n",
    "\n",
    "- $\\varepsilon_r$ is the relative permittivity of the substrate,\n",
    "- h is the substrate thickness,\n",
    "- W is the width of the patch.\n",
    "\n",
    "### Higher-Order Modes\n",
    "\n",
    "It should be noted that while the main mode offers the highest radiation efficiency (i.e. ratio of Pout/Pin, not to be confused with impedance matching - as a 50 Ohm impedance has perfect matching but zero radiations).\n",
    "\n",
    "Other modes such as TM₀₁ and TM₁₁ have different resonance conditions. While they have lower efficiency, they may provide in systems with strong space constraints lower footprint.\n",
    "\n",
    "$ f_{mn} = \\frac{c}{2} \\sqrt{\\left(\\frac{m}{L}\\right)^2 + \\left(\\frac{n}{W}\\right)^2} \\cdot \\frac{1}{\\sqrt{\\varepsilon_r^{\\text{eff}}}}$\n",
    "\n",
    "where m, n are the mode indices.\n",
    "\n",
    "Key Factors Affecting Resonance\n",
    "\n",
    "1. Patch Size: A larger patch lowers the resonant frequency.\n",
    "\n",
    "2. Dielectric Constant: A higher \\varepsilon_r lowers the resonant frequency.\n",
    "\n",
    "3. Substrate Thickness: Increasing h affects effective permittivity and bandwidth.\n",
    "\n",
    "4. Edge Effects: Fringing fields increase the effective electrical length, reducing resonance slightly.\n",
    "\n"
   ]
  }
 ],
 "metadata": {
  "kernelspec": {
   "display_name": "Python 3 (ipykernel)",
   "language": "python",
   "name": "python3"
  },
  "language_info": {
   "codemirror_mode": {
    "name": "ipython",
    "version": 3
   },
   "file_extension": ".py",
   "mimetype": "text/x-python",
   "name": "python",
   "nbconvert_exporter": "python",
   "pygments_lexer": "ipython3",
   "version": "3.10.9"
  }
 },
 "nbformat": 4,
 "nbformat_minor": 5
}
