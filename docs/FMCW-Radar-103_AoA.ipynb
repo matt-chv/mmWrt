{
  "nbformat": 4,
  "nbformat_minor": 0,
  "metadata": {
    "colab": {
      "provenance": [],
      "toc_visible": true,
      "name": "FMCW-Radar-103_AoA.ipynb"
    },
    "kernelspec": {
      "name": "python3",
      "display_name": "Python 3"
    },
    "language_info": {
      "name": "python"
    }
  },
  "cells": [
    {
      "cell_type": "markdown",
      "source": [
        "# FMCW Radar 103 - AoA\n",
        "\n",
        "> In FMCW MIMO (multiple TX, multiple RX antennas) radar, the Angle of Arrival is computed from the phase difference measured at each antenna.\n",
        "\n",
        "Status:\n",
        "* Minimum Reproducible Example for 1 target multiple angles, 2 RX antennas and calculation of the Angle of Arrival\n",
        "* Shows how to compute Bartlet and Capon with code\n",
        "* Back-up code also looks at using FFT and cross-correlation (not yet finished)\n",
        "\n",
        "Results:\n",
        "* shows that Barlett ,for 6 elements, is limited to 8.5 degrees and CAPON goes done to 2.5 degrees all other parameters equivalent.\n",
        "* compares code to existing pyargus library (similar results).\n",
        "\n",
        "Next:\n",
        "* instead of implicit compute of Rxx from steering vector (Eq 7.21 below) , compute its estimates with ADC samples (Eq RXX_1) and add this into radar signal chain\n",
        "\n",
        "History:\n",
        "* 2023-01-02: Added 2D FFT AoA, CAPON and Bartlet <div>(\n",
        "<img src=\"https://upload.wikimedia.org/wikipedia/commons/1/15/Ambox_warning_pn.svg\" width=\"32\"/> see code cell for <font color='red'> warning </font> about same range bin) </div>\n",
        "* 2022-12-16: Moved 2 RX antennas MRE to fore-front.\n",
        "* 2022-12-14: added MRE for single target 2 antennas\n",
        "* 2022-10-28: adding investigations with Pyargus on resolution as function elements in ULA with Capon vs Bartlet\n",
        "* 2022-10-22: fixed Bartlett and Capon code to allow for any number of RX elements"
      ],
      "metadata": {
        "id": "iNt83nhEmGgf"
      }
    },
    {
      "cell_type": "markdown",
      "source": [
        "Next:\n",
        "\n",
        "* click to access other workbooks:\n",
        "  * [FMCW 101 - Range and Speed](https://colab.research.google.com/gist/matt-chv/bdd8b835c5cb7e739bb8b68d00257690/fmcw-radar-101.ipynb): Measure distance and speed for FMCW radar.\n",
        "  * [FMCW 102 - CFAR](https://colab.research.google.com/gist/matt-chv/33e98a23d4b9d90dd27c1bf7f0a54781/fmcw-radar-102-cfar.ipynb) : CFAR or how to detect objects of interest from range FFT.\n",
        "  * [FMCW 103 - AoA](https://colab.research.google.com/gist/matt-chv/d81f7e2166009a623a36781a0773ae47/fmcw-radar-103-aoa.ipynb) : angle of arrival (CAPON vs Bartlett)\n",
        "  * [FMCW 104 - increased resolution vs FFT bin](https://colab.research.google.com/gist/matt-chv/0b25dbc4673f2d7d63804cc6241643b9/fmcw-radar-104-1-fft-freq-estimation.ipynb)increase accuracy option compared to standard FFT.\n",
        "  * Also available on github as gist for forking:\n",
        "    * [fmcw 101](https://gist.github.com/matt-chv/bdd8b835c5cb7e739bb8b68d00257690)\n",
        "    * [fmcw 102](https://gist.github.com/matt-chv/33e98a23d4b9d90dd27c1bf7f0a54781)\n",
        "    * ...\n",
        "\n",
        "Related ressources:"
      ],
      "metadata": {
        "id": "aAJENwbvsZx3"
      }
    },
    {
      "cell_type": "markdown",
      "source": [
        "## AoA Maths"
      ],
      "metadata": {
        "id": "8VzKg_OnsrwX"
      }
    },
    {
      "cell_type": "markdown",
      "source": [
        "## Minimum Reproductible Examples"
      ],
      "metadata": {
        "id": "z3_nV_1Mst5T"
      }
    },
    {
      "cell_type": "markdown",
      "source": [
        "## Phase based AoA estimate"
      ],
      "metadata": {
        "id": "FUAB_Om3s4eO"
      }
    },
    {
      "cell_type": "code",
      "source": [
        "from numpy import abs ,angle, arange, arcsin, cos, pi, sqrt, tan\n",
        "from scipy.fft import fft\n",
        "\n",
        "def y_IF(f0_min, slope, T, antenna_tx, antenna_rx, target, v=3e8):\n",
        "  \"\"\" This function implements the mathematical IF defined in latex as\n",
        "    y_{IF} = cos(2 \\pi [f_0\\delta + s * \\delta * t - s* \\delta^2])\n",
        "  into following python code\n",
        "  y_IF = cos (2*pi*(f_0 * delta + slope * delta * T + slope * delta**2))\n",
        "  Parameters:\n",
        "  -----------\n",
        "  f0_min: float\n",
        "    the frequency at the begining of the chirp\n",
        "  slope: float\n",
        "    the slope with which the chirp frequency inceases over time\n",
        "  T: ndarray\n",
        "    the 1D vector containing time values\n",
        "  antenna_tx: tuple of floats\n",
        "    x, y, z coordinates\n",
        "  antenna_rx: tuple of floats\n",
        "    x, y, z coordinates\n",
        "  target: tuple of floats\n",
        "    x, y, z coordinates\n",
        "  v: float\n",
        "    speed of light in considered medium\n",
        "  Returns:\n",
        "  --------\n",
        "  YIF: ndarray\n",
        "    vector containing the IF values\n",
        "  \"\"\"\n",
        "  tx_x, tx_y, tx_z = antenna_tx\n",
        "  rx_x, rx_y, rx_z = antenna_rx\n",
        "  t_x, t_y, t_z = target\n",
        "  distance = sqrt((tx_x-t_x)**2 + (tx_y-t_y)**2 + (tx_z-t_z)**2)\n",
        "  distance += sqrt((rx_x-t_x)**2 + (rx_y-t_y)**2 + (rx_z-t_z)**2)\n",
        "  # delta = sqrt((A.x-target.x)**2+(A.y-target.y)**2+(A.z-target.z)**2)/3e8\n",
        "  delta = distance/v\n",
        "  YIF = cos(2 *pi *(f0_min * delta + slope * delta * T + slope * delta**2))\n",
        "  return YIF\n",
        "\n",
        "f0_min = 60e9\n",
        "c = 3e8\n",
        "# lambda ~5mm at 60GHz\n",
        "lambda0_max = 3e8/f0_min\n",
        "n_rx = 2\n",
        "Distance = 10\n",
        "k = 200e12\n",
        "n_samples = 512\n",
        "f_if = 2*k*Distance/c\n",
        "fs = 50e6\n",
        "ts = 1/fs\n",
        "\n",
        "antenna_tx = (-lambda0_max/2,0,0)\n",
        "T = arange(0, n_samples*ts+ts, ts)\n",
        "\n",
        "for theta in [-180/3, -180/6, -180/10, 0, 180/10, 180/6, 180/3]:\n",
        "    target = (4*sin(theta/180*pi), 4*cos(theta/180*pi),0)\n",
        "\n",
        "    Antennas_RXs = [(i*lambda0_max/2,0,0) for i in range(n_rx)]\n",
        "\n",
        "    phases = []\n",
        "    i_peaks = []\n",
        "    for antenna_rx in Antennas_RXs:\n",
        "        tx_x, tx_y, tx_z = antenna_tx\n",
        "        rx_x, rx_y, rx_z = antenna_rx\n",
        "        t_x, t_y, t_z = target\n",
        "        distance = sqrt((tx_x-t_x)**2 + (tx_y-t_y)**2 + (tx_z-t_z)**2)\n",
        "        distance += sqrt((rx_x-t_x)**2 + (rx_y-t_y)**2 + (rx_z-t_z)**2)\n",
        "        f_if = 2*k*Distance/c\n",
        "        assert f_if < 1/ts/2\n",
        "        YIF = y_IF(f0_min, k,T, antenna_tx, antenna_rx, target)\n",
        "        FT = fft(YIF)\n",
        "        MAG = abs(FT)[0:int(n_samples/2)]\n",
        "        ANG = angle(FT)[0:int(n_samples/2)]\n",
        "\n",
        "        # now find the peak\n",
        "        amplitude_peak = sorted(MAG, reverse = True)[0]\n",
        "        i_peak = list(MAG).index(amplitude_peak)\n",
        "        if not i_peaks:\n",
        "            i_peaks.append(i_peak)\n",
        "        else:\n",
        "            try:\n",
        "                assert i_peak in i_peaks\n",
        "            except:\n",
        "            # exit now as we don't have the logic to track across range bins\n",
        "                print(\"bin range change\")\n",
        "                break\n",
        "        phases.append(ANG[0:int(n_samples/2)][i_peak])\n",
        "        f_peak = i_peak * 1/ts / n_samples\n",
        "        d2 = f_peak*c/2/k\n",
        "        dfixed = 0\n",
        "\n",
        "    delta_phase = (phases[0]-phases[1])  #/len(phases)\n",
        "    if delta_phase/pi>1:\n",
        "        theta_calc = arcsin(delta_phase/pi -2)*180/pi\n",
        "        print(f\"theta: {theta:.2g}, calculated_p: {theta_calc:.2g}\")\n",
        "    elif delta_phase/pi<-1:\n",
        "        theta_calc = arcsin(delta_phase/pi % +2)*180/pi\n",
        "        print(f\"theta: {theta:.2g}, calculated_m: {theta_calc:.2g}\")\n",
        "    else:\n",
        "        theta_calc = arcsin(delta_phase/pi)*180/pi\n",
        "        print(f\"theta: {theta:.2g}, calculated: {theta_calc:.2g}\")"
      ],
      "metadata": {
        "id": "PWNqe1oErEqc",
        "outputId": "947c3df3-9f0f-473e-95cd-e55b8d117b40",
        "colab": {
          "base_uri": "https://localhost:8080/"
        }
      },
      "execution_count": null,
      "outputs": [
        {
          "output_type": "stream",
          "name": "stdout",
          "text": [
            "theta: -60, calculated: -62\n",
            "theta: -30, calculated: -31\n",
            "theta: -18, calculated: -18\n",
            "theta: 0, calculated: -0.018\n",
            "theta: 18, calculated: 18\n",
            "theta: 30, calculated: 31\n",
            "theta: 60, calculated: 62\n"
          ]
        }
      ]
    },
    {
      "cell_type": "markdown",
      "source": [
        "## FFT based AoA"
      ],
      "metadata": {
        "id": "lFyDfSeKs_xS"
      }
    },
    {
      "cell_type": "code",
      "source": [
        "# single target FFT AoA MRE\n",
        "from numpy import abs ,angle, arange, arcsin, cos, pi, sqrt, tan, zeros\n",
        "from scipy.fft import fft, fft2\n",
        "import matplotlib.pyplot as plt\n",
        "\n",
        "def y_IF(f0_min, slope, T, antenna_tx, antenna_rx, target, v=3e8):\n",
        "  \"\"\" This function implements the mathematical IF defined in latex as\n",
        "    y_{IF} = cos(2 \\pi [f_0\\delta + s * \\delta * t - s* \\delta^2])\n",
        "  into following python code\n",
        "  y_IF = cos (2*pi*(f_0 * delta + slope * delta * T + slope * delta**2))\n",
        "  Parameters:\n",
        "  -----------\n",
        "  f0_min: float\n",
        "    the frequency at the begining of the chirp\n",
        "  slope: float\n",
        "    the slope with which the chirp frequency inceases over time\n",
        "  T: ndarray\n",
        "    the 1D vector containing time values\n",
        "  antenna_tx: tuple of floats\n",
        "    x, y, z coordinates\n",
        "  antenna_rx: tuple of floats\n",
        "    x, y, z coordinates\n",
        "  target: tuple of floats\n",
        "    x, y, z coordinates\n",
        "  v: float\n",
        "    speed of light in considered medium\n",
        "  Returns:\n",
        "  --------\n",
        "  YIF: ndarray\n",
        "    vector containing the IF values\n",
        "  \"\"\"\n",
        "  tx_x, tx_y, tx_z = antenna_tx\n",
        "  rx_x, rx_y, rx_z = antenna_rx\n",
        "  t_x, t_y, t_z = target\n",
        "  distance = sqrt((tx_x-t_x)**2 + (tx_y-t_y)**2 + (tx_z-t_z)**2)\n",
        "  distance += sqrt((rx_x-t_x)**2 + (rx_y-t_y)**2 + (rx_z-t_z)**2)\n",
        "  # delta = sqrt((A.x-target.x)**2+(A.y-target.y)**2+(A.z-target.z)**2)/3e8\n",
        "  delta = distance/v\n",
        "  YIF = cos(2 *pi *(f0_min * delta + slope * delta * T + slope * delta**2))\n",
        "  return YIF\n",
        "\n",
        "f0_min = 60e9\n",
        "c = 3e8\n",
        "# lambda ~5mm at 60GHz\n",
        "lambda0_max = 3e8/f0_min\n",
        "n_rx = 32\n",
        "Distance = 10\n",
        "k = 200e12\n",
        "n_samples = 512\n",
        "f_if = 2*k*Distance/c\n",
        "fs = 50e6\n",
        "ts = 1/fs\n",
        "\n",
        "antenna_tx = (-lambda0_max/2,0,0)\n",
        "T = arange(0, n_samples*ts, ts)\n",
        "\n",
        "#for theta in [-180/3, -180/6, -180/10, 0, 180/10, 180/6, 180/3]:\n",
        "theta = -180/6\n",
        "target = (4*tan(theta/180*pi),4,0)\n",
        "\n",
        "Antennas_RXs = [(i*lambda0_max/2,0,0) for i in range(n_rx)]\n",
        "\n",
        "phases = []\n",
        "i_peaks = []\n",
        "cube2D = zeros((n_rx, n_samples))\n",
        "for i, antenna_rx_i in enumerate(Antennas_RXs):\n",
        "    tx_x, tx_y, tx_z = antenna_tx\n",
        "    rx_x, rx_y, rx_z = antenna_rx_i\n",
        "    t_x, t_y, t_z = target\n",
        "    distance = sqrt((tx_x-t_x)**2 + (tx_y-t_y)**2 + (tx_z-t_z)**2)\n",
        "    distance += sqrt((rx_x-t_x)**2 + (rx_y-t_y)**2 + (rx_z-t_z)**2)\n",
        "    f_if = 2*k*Distance/c\n",
        "    assert f_if < 1/ts/2\n",
        "    YIFi = y_IF(f0_min, k, T, antenna_tx, antenna_rx_i, target)\n",
        "    cube2D[i, :] = YIFi\n",
        "\n",
        "Z_fft2 = abs(fft2(cube2D))\n",
        "Data_fft2 = Z_fft2[0:n_rx//2,0:n_samples//2]\n",
        "\n",
        "# change scale for 2D plot to display range and velocity values\n",
        "# https://stackoverflow.com/a/53746824\n",
        "# range formula\n",
        "ranges = arange(0, fs*c/2/k, fs*c/2/k/n_samples)\n",
        "no_labels = 10 # how many labels to see on axis x\n",
        "step_x = int(n_samples / (no_labels - 1)) # step between consecutive labels\n",
        "x_positions = arange(0, n_samples, step_x) # pixel count at label position\n",
        "x_labels = ranges[::step_x] # labels you want to see\n",
        "plt.xticks(x_positions, x_labels)\n",
        "\n",
        "# angle of arrival\n",
        "# angles = arange(-90, 90, 1)\n",
        "# no_labels_y = 5 # how many labels to see on axis y\n",
        "# step_y = int(n_chirps / (no_labels_y - 1)) # step between consecutive labels\n",
        "# y_positions = arange(0, n_chirps, step_y) # pixel count at label position\n",
        "# y_labels = speeds[::step_y] # labels you want to see\n",
        "# plt.yticks(y_positions, y_labels)\n",
        "\n",
        "# adding aspect=10 to have a more readable image\n",
        "# since we have ~512 samples\n",
        "# and only ~16 antennas\n",
        "plt.imshow(Data_fft2, interpolation='nearest', aspect=10)\n",
        "\n",
        "# plt.rcParams[\"figure.figsize\"] = (10,100)\n",
        "plt.xlabel(\"Range (m)\")\n",
        "plt.ylabel(\"AoA\")\n",
        "plt.title('AoA-Range 2D FFT')\n"
      ],
      "metadata": {
        "id": "qCMP9W4XtJEo",
        "outputId": "df18228e-50d9-4e7d-f49c-6f7a76fe2630",
        "colab": {
          "base_uri": "https://localhost:8080/",
          "height": 444
        }
      },
      "execution_count": null,
      "outputs": [
        {
          "output_type": "execute_result",
          "data": {
            "text/plain": [
              "Text(0.5, 1.0, 'AoA-Range 2D FFT')"
            ]
          },
          "metadata": {},
          "execution_count": 44
        },
        {
          "output_type": "display_data",
          "data": {
            "text/plain": [
              "<Figure size 720x7200 with 1 Axes>"
            ],
            "image/png": "[encoded data removed]"
          },
          "metadata": {
            "needs_background": "light"
          }
        }
      ]
    },
    {
      "cell_type": "code",
      "source": [
        "# 3 targets FFT AoA MRE\n",
        "from numpy import abs ,angle, arange, arcsin, cos, pi, sin, sqrt, tan, zeros\n",
        "from scipy.fft import fft, fft2\n",
        "import matplotlib.pyplot as plt\n",
        "\n",
        "def y_IF(f0_min, slope, T, antenna_tx, antenna_rx, target, v=3e8):\n",
        "  \"\"\" This function implements the mathematical IF defined in latex as\n",
        "    y_{IF} = cos(2 \\pi [f_0\\delta + s * \\delta * t - s* \\delta^2])\n",
        "  into following python code\n",
        "  y_IF = cos (2*pi*(f_0 * delta + slope * delta * T + slope * delta**2))\n",
        "  Parameters:\n",
        "  -----------\n",
        "  f0_min: float\n",
        "    the frequency at the begining of the chirp\n",
        "  slope: float\n",
        "    the slope with which the chirp frequency inceases over time\n",
        "  T: ndarray\n",
        "    the 1D vector containing time values\n",
        "  antenna_tx: tuple of floats\n",
        "    x, y, z coordinates\n",
        "  antenna_rx: tuple of floats\n",
        "    x, y, z coordinates\n",
        "  target: tuple of floats\n",
        "    x, y, z coordinates\n",
        "  v: float\n",
        "    speed of light in considered medium\n",
        "  Returns:\n",
        "  --------\n",
        "  YIF: ndarray\n",
        "    vector containing the IF values\n",
        "  \"\"\"\n",
        "  tx_x, tx_y, tx_z = antenna_tx\n",
        "  rx_x, rx_y, rx_z = antenna_rx\n",
        "  t_x, t_y, t_z = target\n",
        "  distance = sqrt((tx_x-t_x)**2 + (tx_y-t_y)**2 + (tx_z-t_z)**2)\n",
        "  distance += sqrt((rx_x-t_x)**2 + (rx_y-t_y)**2 + (rx_z-t_z)**2)\n",
        "  # delta = sqrt((A.x-target.x)**2+(A.y-target.y)**2+(A.z-target.z)**2)/3e8\n",
        "  delta = distance/v\n",
        "  YIF = cos(2 *pi *(f0_min * delta + slope * delta * T + slope * delta**2))\n",
        "  return YIF\n",
        "\n",
        "f0_min = 60e9\n",
        "c = 3e8\n",
        "# lambda ~5mm at 60GHz\n",
        "lambda0_max = 3e8/f0_min\n",
        "n_rx = 32\n",
        "k = 200e12\n",
        "n_samples = 512\n",
        "fs = 50e6\n",
        "ts = 1/fs\n",
        "\n",
        "antenna_tx = (-lambda0_max/2,0,0)\n",
        "T = arange(0, n_samples*ts, ts)\n",
        "\n",
        "Antennas_RXs = [(i*lambda0_max/2,0,0) for i in range(n_rx)]\n",
        "\n",
        "phases = []\n",
        "i_peaks = []\n",
        "cube2D = zeros((n_rx, n_samples))\n",
        "\n",
        "d0, theta0 = 4, 0\n",
        "target0 = (d0*sin(theta0/180*pi),d0*cos(theta0/180*pi),0)\n",
        "t_x, t_y, t_z = target0\n",
        "\n",
        "d1, theta1 = 4, 180/3\n",
        "target1 = (d1*sin(theta1/180*pi),d1*cos(theta1/180*pi),0)\n",
        "t_x, t_y, t_z = target1\n",
        "\n",
        "d2, theta2 = 12, 180/3\n",
        "target2 = (d2*sin(theta2/180*pi),d2*cos(theta2/180*pi),0)\n",
        "\n",
        "for i, antenna_rx_i in enumerate(Antennas_RXs):\n",
        "    tx_x, tx_y, tx_z = antenna_tx\n",
        "    rx_x, rx_y, rx_z = antenna_rx_i\n",
        "\n",
        "    distance = sqrt((tx_x-t_x)**2 + (tx_y-t_y)**2 + (tx_z-t_z)**2)\n",
        "    distance += sqrt((rx_x-t_x)**2 + (rx_y-t_y)**2 + (rx_z-t_z)**2)\n",
        "    f_if = 2*k*distance/c\n",
        "    assert f_if < 1/ts/2\n",
        "    YIFi0 = y_IF(f0_min, k, T, antenna_tx, antenna_rx_i, target0)\n",
        "    YIFi1 = y_IF(f0_min, k, T, antenna_tx, antenna_rx_i, target1)\n",
        "    YIFi2 = y_IF(f0_min, k, T, antenna_tx, antenna_rx_i, target2)\n",
        "\n",
        "    YIFi = YIFi0 + YIFi1 + YIFi2\n",
        "\n",
        "    cube2D[i, :] = YIFi\n",
        "\n",
        "Z_fft2 = abs(fft2(cube2D))\n",
        "Data_fft2 = Z_fft2[0:n_rx,0:n_samples//2]\n",
        "\n",
        "# change scale for 2D plot to display range and velocity values\n",
        "# https://stackoverflow.com/a/53746824\n",
        "# range formula\n",
        "ranges = arange(0, fs*c/2/k, fs*c/2/k/n_samples)\n",
        "# convert to int for ease of dispaly on x_axis\n",
        "ranges = ranges.astype(int)\n",
        "no_labels = 10 # how many labels to see on axis x\n",
        "step_x = int(n_samples / (no_labels - 1)) # step between consecutive labels\n",
        "x_positions = arange(0, n_samples, step_x) # pixel count at label position\n",
        "x_labels = ranges[::step_x] # labels you want to see\n",
        "plt.xticks(x_positions, x_labels)\n",
        "\n",
        "# angle of arrival labels\n",
        "# non linear as we have arcsin to convert phase delta to AoA\n",
        "phases = arange(0, 1, 1/n_rx)\n",
        "angles = arcsin(phases)*100\n",
        "angles = angles.astype(int)\n",
        "n_angles = len(angles)\n",
        "no_labels_y = 10 # how many labels to see on axis y\n",
        "step_y = int(n_rx / (no_labels_y - 1)) # step between consecutive labels\n",
        "y_positions = arange(0, n_rx, step_y) # pixel count at label position\n",
        "y_labels = angles[::step_y] # labels you want to see\n",
        "plt.yticks(y_positions, y_labels)\n",
        "\n",
        "# adding aspect=10 to have a more readable image\n",
        "# since we have ~512 samples\n",
        "# and only ~16 antennas\n",
        "plt.imshow(Data_fft2, interpolation='nearest', aspect=10)\n",
        "\n",
        "# plt.rcParams[\"figure.figsize\"] = (10,100)\n",
        "plt.xlabel(\"Range (m)\")\n",
        "plt.ylabel(\"AoA in degrees\")\n",
        "plt.title('AoA-Range 2D FFT')"
      ],
      "metadata": {
        "id": "nNU-z_IQdupA",
        "outputId": "43f773a8-f369-4211-bbaf-cfcfb4bd6c8d",
        "colab": {
          "base_uri": "https://localhost:8080/",
          "height": 312
        }
      },
      "execution_count": null,
      "outputs": [
        {
          "output_type": "execute_result",
          "data": {
            "text/plain": [
              "Text(0.5, 1.0, 'AoA-Range 2D FFT')"
            ]
          },
          "metadata": {},
          "execution_count": 4
        },
        {
          "output_type": "display_data",
          "data": {
            "text/plain": [
              "<Figure size 432x288 with 1 Axes>"
            ],
            "image/png": "[encoded data removed]"
          },
          "metadata": {
            "needs_background": "light"
          }
        }
      ]
    },
    {
      "cell_type": "markdown",
      "source": [
        "## Bartlet based AoA\n",
        "\n",
        "* Eq RXX_1\n",
        "\n",
        "$$ R_{xx} \\approx \\frac{1}{N} \\cdot \\displaystyle\\sum_{k=0}^{n} X(t) \\cdot X^H(t) $$\n",
        "[source Eq 14.](https://www.mdpi.com/2411-5134/4/3/43/pdf)\n",
        "Where X(t) is\n",
        "$$ X(t) =\n",
        "\\begin{pmatrix}\n",
        " x_1(t_1) & x_1(t_2) & \\cdots & x_1(t_n) \\\\\n",
        " x_2(t_1) & x_2(t_2) & \\cdots & x_2(t_n) \\\\\n",
        "\\vdots & \\vdots & \\ddots & \\vdots \\\\\n",
        " x_M(t_1) & x_M(t_2) & \\cdots & x_M(t_n)\n",
        "\\end{pmatrix} $$\n",
        "\n",
        "and 7.22:\n",
        "\n",
        "* PB(θ) = /aH(θ) * Rxx * /a(θ)\n",
        "\n",
        "<div>\n",
        "<img src=\"https://upload.wikimedia.org/wikipedia/commons/1/15/Ambox_warning_pn.svg\" width=\"128\"/>\n",
        "</div>\n",
        "\n",
        "The non-correlation constraint for the correlation matrix, implies that the targets _cannot_ be in the same range bin !!\n"
      ],
      "metadata": {
        "id": "tHccDScatCcT"
      }
    },
    {
      "cell_type": "code",
      "source": [
        "from numpy import arange, array, cos, column_stack, exp, identity, matrix, random, pi, sin, sqrt, zeros\n",
        "import matplotlib.pyplot as plt\n",
        "\n",
        "n_rx = 6\n",
        "# M = n_rx\n",
        "f0_min = 60e9\n",
        "c = 3e8\n",
        "# lambda ~5mm at 60GHz\n",
        "lambda0_max = 3e8/f0_min\n",
        "k = 200e12\n",
        "n_samples = 512\n",
        "fs = 50e6\n",
        "ts = 1/fs\n",
        "\n",
        "def a(theta, M=n_rx):\n",
        "    # a_theta is the steering vector - defined by the sensing array\n",
        "    theta=theta/180*pi\n",
        "    return array([exp(n*1j*pi*sin(theta)) for n in range(M)])\n",
        "\n",
        "def R_est(Xs):\n",
        "    n = Xs.shape[1]\n",
        "    X = matrix(Xs)\n",
        "    Rxx = X*X.H\n",
        "    Rxx = Rxx/n\n",
        "    return Rxx\n",
        "\n",
        "def Rxx_expl(thetas,M=6,s2_n=0.1):\n",
        "  \"\"\"\n",
        "  A: MxD matrix of steering vectors\n",
        "  M: number of elements in array\n",
        "  D: number of targets\n",
        "    assumed: D<M\n",
        "  Returns:\n",
        "    Rxx_explicit: MxM matrix\n",
        "  \"\"\"\n",
        "  Rnn = s2_n**2*identity(M)\n",
        "  simple = True\n",
        "  if simple:\n",
        "    Rss=matrix('1 0 ; 0 1')\n",
        "    theta1, theta2 = thetas\n",
        "    A=matrix(column_stack((a(theta1,M=M), a(theta2,M=M))))\n",
        "  else:\n",
        "    Rss= matrix(identity(len(thetas)))\n",
        "    A=matrix(column_stack((a(theta) for theta in thetas)))\n",
        "    \"\"\"\n",
        "    for i, theta in enumerate(thetas):\n",
        "      a_i = a(theta)\n",
        "      A[:,i]=a_i\n",
        "    A=matrix(A)\n",
        "    \"\"\"\n",
        "\n",
        "  Rxx_explicit = A*Rss*A.H+Rnn\n",
        "  return Rxx_explicit\n",
        "\n",
        "def pb(theta,Rxx,M=n_rx):\n",
        "  # pb: bartlett periodogram\n",
        "  ath = matrix(a(theta,M))\n",
        "  return matrix(a(theta,M)).T.H * Rxx * matrix(a(theta,M)).T\n",
        "\n",
        "def pc(theta, Rxx, M=n_rx):\n",
        "  # pc: capon periodogram\n",
        "  return 1/(matrix(a(theta,M)).T.H * Rxx.I * matrix(a(theta,M)).T)\n",
        "\n",
        "def y_IF_complex(f0_min, slope, T, antenna_tx, antenna_rx, target, v=3e8):\n",
        "    \"\"\" See prior instances for comments \"\"\"\n",
        "    tx_x, tx_y, tx_z = antenna_tx\n",
        "    rx_x, rx_y, rx_z = antenna_rx\n",
        "    t_x, t_y, t_z = target\n",
        "    distance = sqrt((tx_x-t_x)**2 + (tx_y-t_y)**2 + (tx_z-t_z)**2)\n",
        "    distance += sqrt((rx_x-t_x)**2 + (rx_y-t_y)**2 + (rx_z-t_z)**2)\n",
        "    # delta = sqrt((A.x-target.x)**2+(A.y-target.y)**2+(A.z-target.z)**2)/3e8\n",
        "    delta = distance/v\n",
        "    # YIF = cos(2 *pi *(f0_min * delta + slope * delta * T + slope * delta**2)) # +\\\n",
        "        # 1j*sin(2 *pi *(f0_min * delta + slope * delta * T + slope * delta**2))\n",
        "    YIF = exp(-2*pi*1j*((f0_min * delta + slope * delta * T + slope * delta**2)))\n",
        "    return YIF\n",
        "\n",
        "\n",
        "\n",
        "antenna_tx = (-lambda0_max/2,0,0)\n",
        "antenna_tx = (0,0,0)\n",
        "T = arange(0, n_samples*ts, ts)\n",
        "\n",
        "d0, theta0 = 4, 20\n",
        "target0 = (d0*sin(theta0/180*pi), d0*cos(theta0/180*pi),0)\n",
        "t_x, t_y, t_z = target0\n",
        "\n",
        "d1, theta1 = 5, 50\n",
        "target1 = (d1*sin(theta1/180*pi), d1*cos(theta1/180*pi),0)\n",
        "t_x, t_y, t_z = target1\n",
        "\n",
        "noise_sigma = 0.1\n",
        "\n",
        "Antennas_RXs = [((i)*lambda0_max/2,0,0) for i in range(n_rx)]\n",
        "\n",
        "cube2D = zeros((n_rx, n_samples)).astype(complex)\n",
        "\n",
        "for i, antenna_rx_i in enumerate(Antennas_RXs):\n",
        "    tx_x, tx_y, tx_z = antenna_tx\n",
        "    rx_x, rx_y, rx_z = antenna_rx_i\n",
        "    t_x, t_y, t_z = target0\n",
        "    distance = sqrt((tx_x-t_x)**2 + (tx_y-t_y)**2 + (tx_z-t_z)**2)\n",
        "    distance += sqrt((rx_x-t_x)**2 + (rx_y-t_y)**2 + (rx_z-t_z)**2)\n",
        "    f_if = 2*k*distance/c\n",
        "    assert f_if < 1/ts/2\n",
        "    YIFi0 = y_IF_complex(f0_min, k, T, antenna_tx, antenna_rx_i, target0) + random.normal(0,noise_sigma,n_samples)\n",
        "    YIFi1 = y_IF_complex(f0_min, k, T, antenna_tx, antenna_rx_i, target1) + random.normal(0,noise_sigma,n_samples)\n",
        "\n",
        "    YIFi = YIFi0 + YIFi1\n",
        "    cube2D[i, :] = YIFi\n",
        "\n",
        "Rxx = R_est(cube2D)\n",
        "# can be interesting to compare to `theoretical` cross correlation\n",
        "# for instance it shows that when in the same range bin the two matrices\n",
        "# don't match\n",
        "# R = Rxx_expl((theta0, theta1), M=n_rx, s2_n = noise_sigma)\n",
        "\n",
        "theta = arange(-90,90,1)\n",
        "PB=[abs(pb(th,Rxx,n_rx)).item(0) for th in theta]\n",
        "PC=[abs(pc(th,Rxx,n_rx)).item(0) for th in theta]\n",
        "\n",
        "fig, (ax1, ax2) = plt.subplots(2, sharex=True)\n",
        "\n",
        "ax1.title.set_text(r\"Bartlet Periodogram for $ \\theta$'s\"+f\"= {theta0} & {theta1} degrees\")\n",
        "ax1.plot(theta, PB, 'r')\n",
        "ax2.title.set_text(r\"Capon Periodogram for $ \\theta $'s\"+f\"= {theta0} & {theta1} degrees\")\n",
        "ax2.plot(theta, PC, 'b')\n",
        "ax2.set_xlabel('AoA in degrees')"
      ],
      "metadata": {
        "id": "O2XhhZEQtLTA",
        "outputId": "4082c938-9c2b-4346-b91a-315d7a53b5c6",
        "colab": {
          "base_uri": "https://localhost:8080/",
          "height": 314
        }
      },
      "execution_count": null,
      "outputs": [
        {
          "output_type": "execute_result",
          "data": {
            "text/plain": [
              "Text(0.5, 0, 'AoA in degrees')"
            ]
          },
          "metadata": {},
          "execution_count": 29
        },
        {
          "output_type": "display_data",
          "data": {
            "text/plain": [
              "<Figure size 432x288 with 2 Axes>"
            ],
            "image/png": "[encoded data removed]"
          },
          "metadata": {
            "needs_background": "light"
          }
        }
      ]
    },
    {
      "cell_type": "markdown",
      "source": [
        "## Capon based AoA"
      ],
      "metadata": {
        "id": "VIE2vdXxtFWb"
      }
    },
    {
      "cell_type": "code",
      "source": [
        "plt.figure()\n",
        "plt.plot(theta, PC, 'r')\n",
        "plt.ylabel('Amplitude')\n",
        "plt.show()"
      ],
      "metadata": {
        "id": "cJMFZq9wtNqN",
        "colab": {
          "base_uri": "https://localhost:8080/",
          "height": 265
        },
        "outputId": "50108ea4-d5da-4592-d9e5-2b05dec871a3"
      },
      "execution_count": null,
      "outputs": [
        {
          "output_type": "display_data",
          "data": {
            "text/plain": [
              "<Figure size 432x288 with 1 Axes>"
            ],
            "image/png": "[encoded data removed]"
          },
          "metadata": {
            "needs_background": "light"
          }
        }
      ]
    },
    {
      "cell_type": "markdown",
      "source": [
        "## Back-up"
      ],
      "metadata": {
        "id": "MQ2QDmzPtO-j"
      }
    },
    {
      "cell_type": "markdown",
      "source": [
        "### imports"
      ],
      "metadata": {
        "id": "Gwkr1SB46Mfr"
      }
    },
    {
      "cell_type": "code",
      "source": [
        "#imports\n",
        "from numpy import abs,angle,arange,array, linspace,matrix, pi,sin,cos, exp\n",
        "from numpy import column_stack, identity\n",
        "#import scipy.fftpack\n",
        "from scipy.fftpack import fft, fftshift, fftfreq\n",
        "import matplotlib.pyplot as plt\n",
        "\n",
        "print(\"imports done\")"
      ],
      "metadata": {
        "colab": {
          "base_uri": "https://localhost:8080/"
        },
        "id": "i2XrRr9eFsuA",
        "outputId": "6a0108c3-d3db-41ef-eef3-72ec41c79e17"
      },
      "execution_count": null,
      "outputs": [
        {
          "output_type": "stream",
          "name": "stdout",
          "text": [
            "imports done\n"
          ]
        }
      ]
    },
    {
      "cell_type": "markdown",
      "source": [
        "### defines"
      ],
      "metadata": {
        "id": "_KCndjBf4kjM"
      }
    },
    {
      "cell_type": "code",
      "execution_count": null,
      "metadata": {
        "id": "A9Cj7f-QmDhl"
      },
      "outputs": [],
      "source": [
        "# defines\n",
        "\n",
        "def fmcw_fft(signal,time,Fs,plot_fft=True,plot_abs_nphase=True,minf=0,maxf=1,Npeaks=1):\n",
        "  \"\"\"main function for fmcw FFT related math\n",
        "  Parameters:\n",
        "  -----------\n",
        "  signal: numpy ndarray\n",
        "    the signal whose FFT we are interested int\n",
        "  time: numpy ndarray\n",
        "    time stamps at which we sampled the signal\n",
        "  Fs: float\n",
        "    sampling frequency\n",
        "  plot_fft: bool\n",
        "    if we show FFT or not\n",
        "  plot_abs_n_phase: bool\n",
        "    if we look at magnitude or phase\n",
        "  minf: float\n",
        "    zoom inside FFT (between 0 and 1.0)\n",
        "  maxf: float\n",
        "    zoom inside FFT (between 0 and 1.0)\n",
        "  Returns:\n",
        "  --------\n",
        "  None if plot_fft==True\n",
        "  freq or phase for which magnitude is max for FFT\n",
        "  \"\"\"\n",
        "  N2 = int(len(signal)/2)\n",
        "  FFT = fft(signal) #/len(signal)    #normalise amplitude\n",
        "  FFT = FFT[range(int(len(signal)/2))]\n",
        "  tpCount     = len(signal)\n",
        "  values      = arange(int(tpCount/2))\n",
        "  timePeriod  = tpCount/Fs\n",
        "  frequencies = linspace(0.0, Fs/(2), N2) #values/timePeriod\n",
        "\n",
        "  magnitude = abs(FFT)\n",
        "  phase = angle(FFT)\n",
        "\n",
        "  #peak = max(list(magnitude))\n",
        "  #fpeak = list(magnitude).index(peak)\n",
        "  sorted_magnitude = sorted(magnitude,reverse = True)\n",
        "  sorted_magnitude = sorted_magnitude[:Npeaks]\n",
        "  fpeaks = [list(magnitude).index(peak) for peak in sorted_magnitude]\n",
        "\n",
        "\n",
        "  if plot_fft:\n",
        "    #either we plot the fft or we return the peak position\n",
        "\n",
        "    if plot_abs_nphase:\n",
        "      #either we plot amplitude or phase\n",
        "      #added provision for zooming on certain section of the FFT\n",
        "      plt.plot(frequencies[int(len(frequencies)*minf):int(len(frequencies)*maxf)],\n",
        "              magnitude[int(len(frequencies)*minf):int(len(frequencies)*maxf)])\n",
        "      plt.title('FFT')\n",
        "      plt.xlabel('Freq (Hz)')\n",
        "      plt.ylabel('X(t)')\n",
        "    else:\n",
        "      plt.plot(frequencies[int(len(frequencies)*minf):int(len(frequencies)*maxf)],\n",
        "              phase[int(len(frequencies)*minf):int(len(frequencies)*maxf)])\n",
        "      plt.title('FFT (phase)')\n",
        "      plt.xlabel('Freq (Hz)')\n",
        "      plt.ylabel('phase')\n",
        "  else:\n",
        "    if plot_abs_nphase:\n",
        "      return [frequencies[fpeak] for fpeak in fpeaks]\n",
        "      #return frequencies[fpeak]\n",
        "    else:\n",
        "      #return phase[fpeak]\n",
        "      return [phase[fpeak] for fpeak in fpeaks]"
      ]
    },
    {
      "cell_type": "code",
      "source": [
        "start = 0\n",
        "\n",
        "#R0: distance between radar and target in meters (m)\n",
        "Distance=10\n",
        "R0 = Distance\n",
        "# c: speed of light\n",
        "c=3e8\n",
        "# Chirp_Slope: chirp ramp 10 MHz/us = 10e12\n",
        "Chirp_Slope=10e12\n",
        "S = Chirp_Slope\n",
        "# target object speed in m/s\n",
        "v=1\n",
        "#60GHz = 0.005 m\n",
        "#should be lambda at end of chirp, keeping 5mm to simplify\n",
        "fmin = 60e9 #60GHz\n",
        "lambda_max=0.005\n",
        "tof = 2*Distance/c\n",
        "# frequency of IF signal\n",
        "f_if = 2*Chirp_Slope*Distance/c\n",
        "N=1024\n",
        "step  = 1/f_if/4096\n",
        "stop  = 5/f_if\n",
        "\n",
        "stop = 5/f_if\n",
        "step = stop/N\n",
        "\n",
        "\n",
        "N=2048\n",
        "t = None\n",
        "y0, y1 = None, None\n",
        "Y1, Y1 = None, None\n",
        "#R0=33\n",
        "f_if0 = f_if\n",
        "Ts = 1/f_if0/512\n",
        "Fs = 1/Ts\n",
        "N=1024\n",
        "delta_2_chirps=1.2e-6\n",
        "\n",
        "def fmcw_if(t,delta_T=1e-6,vt=0,dt=10,show_phase = False):\n",
        "    \"\"\" generates the IF signal and returns key values for debug\n",
        "    Parameters:\n",
        "      t: numpy array\n",
        "      vt: float\n",
        "      dt: float\n",
        "      show_phase: Bool\n",
        "    Returns:\n",
        "      y_t: numpy array (if show_phase == False)\n",
        "      phase: float (if show_phase == True\n",
        "    \"\"\"\n",
        "    phase_count = 2*(dt+vt*delta_T)*fmin/c\n",
        "    phase = 2*pi*phase_count\n",
        "    freq_if = Chirp_Slope*2*(dt+vt*delta_T)/c\n",
        "    y_t = sin(2*pi*freq_if*t+phase)\n",
        "    if show_phase:\n",
        "        return phase\n",
        "    else:\n",
        "        return y_t\n",
        "\n",
        "for Distance in [10,20]:\n",
        "  for v in [0.1e3, 0.5e3, 0.2e3]:\n",
        "\n",
        "      # ensure no phase ambiguity\n",
        "      assert v*4*pi*delta_2_chirps/lambda_max<pi/2\n",
        "      # ensure Nyquist\n",
        "      assert f_if0<Fs/2\n",
        "\n",
        "      t = linspace(0.0, N*Ts, N)\n",
        "\n",
        "      # get first chirp if signal\n",
        "      y0 = fmcw_if(t,delta_T=0,vt=v,dt=Distance)\n",
        "      # get 2d chirp if signal\n",
        "      y1 = fmcw_if(t,delta_T=delta_2_chirps,vt=v,dt=Distance)\n",
        "\n",
        "      # Estimate distance: get frequency of peak\n",
        "      f0 = fmcw_fft(y0,t,1/Ts,plot_fft=False,plot_abs_nphase=True)\n",
        "      f0=f0[0]\n",
        "      ## f0 = s* 2 * d / c => d = f0* c/ 2/s\n",
        "      R0_est = f0*c/2/S\n",
        "      print(f\"Estimated Distance: {R0_est:.2g} real distance was {Distance:.2g}\")\n",
        "\n",
        "      #get the phase at target frequency bin for first chirp\n",
        "      ph0 = fmcw_fft(y0,t,1/Ts,plot_fft=False,plot_abs_nphase=False)\n",
        "      ph0=ph0[0]\n",
        "      #get the phase at target frequency bin for second chirp\n",
        "      ph1 = fmcw_fft(y1,t,1/Ts,plot_fft=False,plot_abs_nphase=False)\n",
        "      ph1=ph1[0]\n",
        "\n",
        "      v_est = lambda_max*(ph1-ph0)/(4*pi*delta_2_chirps)\n",
        "      print(f\"Estimated speed: {v_est:.2g} real speed was {v:.2g}\")\n"
      ],
      "metadata": {
        "colab": {
          "base_uri": "https://localhost:8080/"
        },
        "id": "e6N288JXmUji",
        "outputId": "2569e445-973a-418a-d6c1-6d776971bfae"
      },
      "execution_count": null,
      "outputs": [
        {
          "output_type": "stream",
          "name": "stdout",
          "text": [
            "Estimated Distance: 10 real distance was 10\n",
            "Estimated speed: 1e+02 real speed was 1e+02\n",
            "Estimated Distance: 10 real distance was 10\n",
            "Estimated speed: 5e+02 real speed was 5e+02\n",
            "Estimated Distance: 10 real distance was 10\n",
            "Estimated speed: 2e+02 real speed was 2e+02\n",
            "Estimated Distance: 20 real distance was 20\n",
            "Estimated speed: 1e+02 real speed was 1e+02\n",
            "Estimated Distance: 20 real distance was 20\n",
            "Estimated speed: 5e+02 real speed was 5e+02\n",
            "Estimated Distance: 20 real distance was 20\n",
            "Estimated speed: 2e+02 real speed was 2e+02\n"
          ]
        }
      ]
    },
    {
      "cell_type": "code",
      "source": [
        "\n",
        "from numpy import sqrt, arccos, arctan, sign, mean, unwrap\n",
        "\n",
        "def fmcw_if_target(t,rx_antenna,tx_antenna,target,delta_T=1e-6,): #vt=0,dt=10,show_phase = False):\n",
        "    \"\"\" generates the IF signal and returns key values for debug\n",
        "    Parameters:\n",
        "      t: numpy array\n",
        "      rx_antenna: t-uple of float\n",
        "      target: t-uple of float\n",
        "      delta_T: float\n",
        "        time offset between current chirp and first chirp of frame\n",
        "    Returns:\n",
        "      y_t: numpy array (if show_phase == False)\n",
        "      phase: float (if show_phase == True\n",
        "    \"\"\"\n",
        "    dt = distance(target,tx_antenna,rx_antenna)\n",
        "    vt = 0\n",
        "\n",
        "    phase_count = 2*(dt+vt*delta_T)*fmin/c\n",
        "    phase = 2*pi*phase_count\n",
        "    freq_if = Chirp_Slope*2*(dt+vt*delta_T)/c\n",
        "    y_t = sin(2*pi*freq_if*t+phase)\n",
        "    return y_t\n",
        "\n",
        "def distance(target,tx,rx):\n",
        "  xt,yt,zt = target\n",
        "  xrx,yrx,zrx = rx\n",
        "  xtx,ytx,ztx = tx\n",
        "  d = sqrt((xt-xrx)**2+(yt-yrx)**2+(zt-zrx)**2+\\\n",
        "           (xt-xtx)**2+(yt-ytx)**2+(zt-ztx)**2)\n",
        "  return d\n",
        "\n",
        "def _unwrap(X0,debug=False):\n",
        "\n",
        "  X1 = [X0[0]]\n",
        "  for x in X0[1:]:\n",
        "\n",
        "    if abs(X1[-1]-x)>250:\n",
        "      x1 = x+sign(X1[-1])*sign(x)*360\n",
        "    elif abs(X1[-1]-x)>90:\n",
        "      #if we cross 0 only add 180\n",
        "      if sign(X1[-1])==sign(x):\n",
        "        x1 = x+sign(X1[-1])*sign(x)*180\n",
        "      else:\n",
        "        x1 = x+sign(X1[-1])*180\n",
        "\n",
        "    else:\n",
        "      x1=x\n",
        "    if debug:\n",
        "      print(92,x,x1,abs(X1[-1]-x))\n",
        "    X1.append(x1)\n",
        "  return X1"
      ],
      "metadata": {
        "id": "pP-M0lpFpAj3"
      },
      "execution_count": null,
      "outputs": []
    },
    {
      "cell_type": "code",
      "source": [
        "tx_antenna = [(0,0,0)]\n",
        "NRX = 500\n",
        "d=lambda_max/2\n",
        "X_rx = [(n-NRX/2)* d for n in range(1,NRX)]\n",
        "rx_antennas = [(x,0,0) for x in X_rx]\n",
        "Z0=0.9*R0\n",
        "X_step = 10\n",
        "offset = 3\n",
        "NTargets = 3\n",
        "targets = [(offset+(n-int(NTargets/2))*X_step,0,Z0) for n in range(NTargets)]\n",
        "targets = [(0,0,Z0),(2,0,Z0),(10,0,Z0)]\n",
        "\n",
        "phases = []\n",
        "aoa = []\n",
        "#targets=[targets[1]]\n",
        "#rx_antennas = [rx_antennas[0]]\n",
        "\n",
        "#fmcw_if_new = fmcw_if_target\n",
        "print(\"AoA 1\",arctan(1)*180/pi)\n",
        "for i,target in enumerate(targets):\n",
        "  x,y,z = target\n",
        "  print(f\"AoA target_{i}\",arctan(x/z)*180/pi)\n",
        "for rx in rx_antennas:\n",
        "  y=0\n",
        "  for i,target in enumerate(targets):\n",
        "\n",
        "    # ensure no phase ambiguity\n",
        "    assert v*4*pi*delta_2_chirps/lambda_max<pi/2\n",
        "\n",
        "\n",
        "    t = linspace(0.0, N*Ts, N)\n",
        "\n",
        "    # get first chirp if signal\n",
        "    Distance = distance(target,tx_antenna[0],rx)\n",
        "    f_if0 = 2*Chirp_Slope*Distance/c\n",
        "    # ensure Nyquist\n",
        "    assert f_if0<Fs/2\n",
        "\n",
        "    #y0 = fmcw_if(t,delta_T=0,vt=0,dt=Distance)\n",
        "    y0 = fmcw_if_target(t,rx,tx_antenna[0],target,delta_T=0)\n",
        "    # get 2d chirp if signal\n",
        "    #y1 = fmcw_if(t,delta_T=delta_2_chirps,vt=v,dt=Distance)\n",
        "    y+=y0\n",
        "  # Estimate distance: get frequency of peak\n",
        "  f0 = fmcw_fft(y,t,1/Ts,plot_fft=False,plot_abs_nphase=True)\n",
        "  f0=f0[0]\n",
        "  #_ = fmcw_fft(y0,t,1/Ts,plot_fft=True,plot_abs_nphase=True,maxf=0.3)\n",
        "  assert f0<Fs/2\n",
        "  ## f0 = s* 2 * d / c => d = f0* c/ 2/s\n",
        "  R0_est = f0*c/2/S\n",
        "  #print(f\"Estimated Distance: {R0_est:.3g} real distance was {Distance:.3g}\")\n",
        "  #get the phase at target frequency bin for first chirp\n",
        "  ph0 = fmcw_fft(y,t,1/Ts,plot_fft=False,plot_abs_nphase=False)\n",
        "  ph0=ph0[0]\n",
        "  aoa.append(ph0*180/pi)\n",
        "\n",
        "\n",
        "\n",
        "\n",
        "P=0\n",
        "if P==0:\n",
        "  myd = False\n",
        "else:\n",
        "  myd=True\n",
        "#_unwrap\n",
        "#aoa = _unwrap(aoa[P:-1],debug=myd)\n",
        "#print(len(aoa))\n",
        "aoa = list(unwrap(aoa))\n",
        "#print(\"a8\",len(aoa))\n",
        "X = [180*(n-NRX/2)/2/NRX for n in range(1,NRX)]\n",
        "#X=X[P:-1]\n",
        "#X = [180*(n-NRX/2)/2/NRX for n in range(1,P+1)]\n",
        "\n",
        "maoa = mean(aoa)\n",
        "#print(maoa)\n",
        "aoa=[x-maoa for x in aoa]\n",
        "if False:\n",
        "  f, ax1 = plt.subplots(num=1, clear=True)\n",
        "  ax1.plot(X,aoa,'xb')\n",
        "else:\n",
        "  fmcw_fft(aoa,X_rx,d,plot_fft=True,plot_abs_nphase=True,maxf=0.1)\n",
        "\n",
        "#f.title('phase array')\n",
        "#ax1.xlabel('X')\n",
        "#ax1.ylabel('Y')\n",
        "#phases.append(aoa)\n",
        "#aoa=[]\n",
        "\n",
        "#peak = min(aoa)\n",
        "#fpeak = aoa.index(peak)\n",
        "#print(peak,fpeak)\n",
        "\n",
        "#  plt.plot(range(len(phases)),phases,'xb')\n",
        "#  plt.title('phase array')\n",
        "#  plt.xlabel('X')\n",
        "#  plt.ylabel('Y')\n",
        "print(116,2*pi/NRX/d)\n",
        "print(12/.00002)"
      ],
      "metadata": {
        "colab": {
          "base_uri": "https://localhost:8080/",
          "height": 399
        },
        "id": "DuaOoKdMnUY2",
        "outputId": "738e1cb9-d400-40a1-fa08-0dc0b33e506d"
      },
      "execution_count": null,
      "outputs": [
        {
          "output_type": "stream",
          "name": "stdout",
          "text": [
            "AoA 1 45.0\n",
            "AoA target_0 0.0\n",
            "AoA target_1 12.528807709151511\n",
            "AoA target_2 48.012787504183336\n",
            "116 5.026548245743669\n",
            "600000.0\n"
          ]
        },
        {
          "output_type": "display_data",
          "data": {
            "text/plain": [
              "<Figure size 432x288 with 1 Axes>"
            ],
            "image/png": "[encoded data removed]"
          },
          "metadata": {
            "needs_background": "light"
          }
        }
      ]
    },
    {
      "cell_type": "code",
      "source": [
        "N=512\n",
        "TM=pi/2*10\n",
        "t = linspace(0.0, TM, N)\n",
        "y=sin(t)\n",
        "#plt.plot(t,y)\n",
        "f0 = fmcw_fft(y,t,TM/N,plot_fft=True,plot_abs_nphase=True,maxf=0.3)"
      ],
      "metadata": {
        "colab": {
          "base_uri": "https://localhost:8080/",
          "height": 295
        },
        "id": "1cD-zsu11mb3",
        "outputId": "2f9fdabf-1e98-42c6-d8d8-9851e969d8a2"
      },
      "execution_count": null,
      "outputs": [
        {
          "output_type": "display_data",
          "data": {
            "text/plain": [
              "<Figure size 432x288 with 1 Axes>"
            ],
            "image/png": "[encoded data removed]"
          },
          "metadata": {
            "needs_background": "light"
          }
        }
      ]
    },
    {
      "cell_type": "markdown",
      "source": [
        "## BARTLET in python\n",
        "\n",
        "From\n",
        "Smart Antennas\n",
        "for Wireless\n",
        "Communications\n",
        "With MATLAB\n",
        "\n",
        "Frank B. Gross, PhD\n",
        "Senior Systems Engineer\n",
        "Argon ST\n",
        "Fairfax, Virginia"
      ],
      "metadata": {
        "id": "8MqU9b3MDdDp"
      }
    },
    {
      "cell_type": "markdown",
      "source": [
        "Example 7.5\n",
        "Use MATLAB to plot the pseudo-spectrum using the Bartlett\n",
        "estimate for an M = 6 element array. With element spacing d = λ/2, uncorrelated,\n",
        "equal amplitude sources, (s1, s2), and σ2\n",
        "n = .1, and the two different\n",
        "pairs of arrival angles given by ±10◦ and ±5◦, assume ergodicity.\n"
      ],
      "metadata": {
        "id": "HnmZcHChDnle"
      }
    },
    {
      "cell_type": "markdown",
      "source": [
        "### Solution\n",
        "Solution From the information given we can find the following:\n",
        "* /s = [1 1]\n",
        "\n",
        "* a¯(θ) = [1 e jπ sin θ · · · e j5π sin θ ]T\n",
        "* A = [/a(θ1) /a(θ2)]\n",
        "* Rss = [[1 0] [0 1]]\n",
        "\n",
        "Note: Rss = [[1 0] [01]] is the DxD (with D number of sources) source correlation matrix - assumption is that all signals are not correlated.\n",
        "\n",
        "Applying Eq. (7.21) we can find \u0003Rxx for both sets of angles. Substituting Rxx\n",
        "into Eq. (7.22) and usingMATLAB,we can plot the pseudospectrum as shown\n",
        "in Figs. 7.2a and b.\n",
        "\n",
        "Where 7.21 is:\n",
        "\n",
        "* Rxx = A * Rss * AH + Rnn\n",
        "\n",
        "or implicitly\n",
        "\n",
        "* Eq RXX_1\n",
        "\n",
        "$$ R_{xx} \\approx \\frac{1}{N} \\cdot \\displaystyle\\sum_{k=0}^{n} X(t) \\cdot X^H(t) $$\n",
        "[source Eq 14.](https://www.mdpi.com/2411-5134/4/3/43/pdf)\n",
        "Where X(t) is\n",
        "$$ X(t) =\n",
        "\\begin{pmatrix}\n",
        " x_1(t_1) & x_1(t_2) & \\cdots & x_1(t_n) \\\\\n",
        " x_2(t_1) & x_2(t_2) & \\cdots & x_2(t_n) \\\\\n",
        "\\vdots & \\vdots & \\ddots & \\vdots \\\\\n",
        " x_M(t_1) & x_M(t_2) & \\cdots & x_M(t_n)\n",
        "\\end{pmatrix} $$\n",
        "\n",
        "and 7.22:\n",
        "\n",
        "* PB(θ) = /aH(θ) * Rxx * /a(θ)"
      ],
      "metadata": {
        "id": "u7KLVZieDth2"
      }
    },
    {
      "cell_type": "code",
      "source": [
        "\n",
        "def a(theta, M=6):\n",
        "  # a_theta is the steering vector - defined by the sensing array\n",
        "  theta=theta/180*pi\n",
        "  return array([exp(n*1j*pi*sin(theta)) for n in range(M)])\n",
        "\n",
        "def Rxx_expl(thetas,M=6,s2_n=0.1):\n",
        "  \"\"\"\n",
        "  A: MxD matrix of steering vectors\n",
        "  M: number of elements in array\n",
        "  D: number of targets\n",
        "    assumed: D<M\n",
        "  Returns:\n",
        "    Rxx_explicit: MxM matrix\n",
        "  \"\"\"\n",
        "  Rnn = s2_n**2*identity(M)\n",
        "  simple = True\n",
        "  if simple:\n",
        "    Rss=matrix('1 0 ; 0 1')\n",
        "    theta1, theta2 = thetas\n",
        "    A=matrix(column_stack((a(theta1,M=M), a(theta2,M=M))))\n",
        "  else:\n",
        "    Rss= matrix(identity(len(thetas)))\n",
        "    A=matrix(column_stack((a(theta) for theta in thetas)))\n",
        "    \"\"\"\n",
        "    for i, theta in enumerate(thetas):\n",
        "      a_i = a(theta)\n",
        "      A[:,i]=a_i\n",
        "    A=matrix(A)\n",
        "    \"\"\"\n",
        "\n",
        "  Rxx_explicit = A*Rss*A.H+Rnn\n",
        "  return Rxx_explicit\n",
        "\n",
        "def pb(theta,Rxx,M=6):\n",
        "  # pb: bartlett periodogram\n",
        "  return matrix(a(theta,M)).T.H * Rxx * matrix(a(theta,M)).T\n",
        "\n",
        "def pc(theta,Rxx,M=6):\n",
        "  # pc: capon periodogram\n",
        "  return 1/(matrix(a(theta,M)).T.H * Rxx.I * matrix(a(theta,M)).T)\n",
        "\n",
        "# separation angle: the half/angle between two targets\n",
        "# note from e-book\n",
        "# Recalling the half-power beamwidth of a linear array from Chap. 4,\n",
        "# Eq. (4.21), we can estimate the beamwidth of this M = 6 element array\n",
        "# to be ≈8.5◦. Thus, the two sources, which are 20◦ apart are resolvable\n",
        "# with the Bartlett approach. The two sources, which are 10◦ apart are not\n",
        "# resolvable.\n",
        "\n",
        "# Experimentally Capon works down to +/- 2.5 degrees for M=6\n",
        "# Bartlett works down to +/- 8.5 for M=6\n",
        "# for M=4, capon works down to ~+/-4.5\n",
        "# for M=4, bartlett works down to ~+/-13\n",
        "separation_angle_ok=10\n",
        "separation_angle_ko=2.5\n",
        "separation_angle = separation_angle_ok\n",
        "#if simple\n",
        "N_RX=6\n",
        "M=N_RX\n",
        "Rxx = Rxx_expl((10-separation_angle,10+separation_angle),M=M) #M=6\n",
        "print(Rxx)\n",
        "#if not simple:\n",
        "#Rxx = Rxx_calc((-20,10,30))\n",
        "\n",
        "#print(Rxx.shape)\n",
        "#Rxx.shape = MxM\n",
        "\n",
        "theta = arange(-30,30,1)\n",
        "PB=[abs(pb(th,Rxx,M)).item(0) for th in theta]\n",
        "PC=[abs(pc(th,Rxx,M)).item(0) for th in theta]\n",
        "plt.figure()\n",
        "plt.plot(theta, PB, 'r')\n",
        "plt.ylabel('Amplitude')\n",
        "\n",
        "plt.show()"
      ],
      "metadata": {
        "colab": {
          "base_uri": "https://localhost:8080/",
          "height": 577
        },
        "id": "fpsiwGk-EyQ3",
        "outputId": "aee4f5e4-725e-4593-fdde-58baa18f2139"
      },
      "execution_count": null,
      "outputs": [
        {
          "output_type": "stream",
          "name": "stdout",
          "text": [
            "[[2.01      +0.00000000e+00j 1.47618256-8.79346446e-01j\n",
            "  0.45349966-8.37458879e-01j 0.00334958+8.17798235e-02j\n",
            "  0.59732525+9.15343130e-01j 1.61315704+7.89961043e-01j]\n",
            " [1.47618256+8.79346446e-01j 2.01      -2.21956895e-17j\n",
            "  1.47618256-8.79346446e-01j 0.45349966-8.37458879e-01j\n",
            "  0.00334958+8.17798235e-02j 0.59732525+9.15343130e-01j]\n",
            " [0.45349966+8.37458879e-01j 1.47618256+8.79346446e-01j\n",
            "  2.01      +1.99410676e-17j 1.47618256-8.79346446e-01j\n",
            "  0.45349966-8.37458879e-01j 0.00334958+8.17798235e-02j]\n",
            " [0.00334958-8.17798235e-02j 0.45349966+8.37458879e-01j\n",
            "  1.47618256+8.79346446e-01j 2.01      -4.69395873e-18j\n",
            "  1.47618256-8.79346446e-01j 0.45349966-8.37458879e-01j]\n",
            " [0.59732525-9.15343130e-01j 0.00334958-8.17798235e-02j\n",
            "  0.45349966+8.37458879e-01j 1.47618256+8.79346446e-01j\n",
            "  2.01      +0.00000000e+00j 1.47618256-8.79346446e-01j]\n",
            " [1.61315704-7.89961043e-01j 0.59732525-9.15343130e-01j\n",
            "  0.00334958-8.17798235e-02j 0.45349966+8.37458879e-01j\n",
            "  1.47618256+8.79346446e-01j 2.01      +0.00000000e+00j]]\n"
          ]
        },
        {
          "output_type": "display_data",
          "data": {
            "text/plain": [
              "<Figure size 432x288 with 1 Axes>"
            ],
            "image/png": "[encoded data removed]"
          },
          "metadata": {
            "needs_background": "light"
          }
        }
      ]
    },
    {
      "cell_type": "markdown",
      "source": [
        "### pyargus: bartlett and capon\n",
        "\n",
        "pyargus seems to be a python library dedicated to this topic, below shows basic code."
      ],
      "metadata": {
        "id": "mA7RN_Wsb6Ml"
      }
    },
    {
      "cell_type": "code",
      "source": [
        "d = 0.5 # Inter element spacing [lambda]\n",
        "M = 5 # number of antenna elements in the antenna system (ULA)\n",
        "N = 2**12  # sample size used for the simulation\n",
        "N = 2**12 #MCV\n",
        "theta1 = -9 # incident angle of the test signal [deg]\n",
        "theta2 = -theta1 # incident angle of the test signal [deg]\n",
        "\n",
        "# Array response vectors of the test signal\n",
        "a = np.exp(np.arange(0,M,1)*1j*2*np.pi*d*np.cos(np.deg2rad(theta1)))\n",
        "\n",
        "# Array response vectors of the test signal\n",
        "a_1 = np.exp(np.arange(0,M,1)*1j*2*np.pi*d*np.cos(np.deg2rad(theta1)))\n",
        "a_2 = np.exp(np.arange(0,M,1)*1j*2*np.pi*d*np.cos(np.deg2rad(theta2)))\n",
        "\n",
        "# Generate multichannel test signal\n",
        "# Notes seems to require some noise , if sigma is too low less reliable outcome?!?\n",
        "soi1 = np.random.normal(0,1,N)  # Signal of Interest\n",
        "soi_outer = np.outer( soi1, a_1)\n",
        "soi_matrix= soi_outer.T\n",
        "\n",
        "# Generate multichannel uncorrelated noise\n",
        "noise = np.random.normal(0,np.sqrt(10**-1),(M,N))\n",
        "\n",
        "# Create received signal array\n",
        "rec_signal = soi_matrix + noise\n",
        "\n",
        "R = corr_matrix_estimate(rec_signal.T, imp=\"mem_eff\")\n",
        "\n",
        "array_alignment = np.arange(0, M, 1)* d\n",
        "incident_angles= np.arange(-30,30,1)\n",
        "ula_scanning_vectors = gen_ula_scanning_vectors(array_alignment, incident_angles)\n",
        "#print(ula_scanning_vectors)\n",
        "\n",
        "Bartlett = DOA_Bartlett(R,ula_scanning_vectors)\n",
        "\n",
        "# Get matplotlib axes object\n",
        "\n",
        "\n",
        "DOA_plot(Bartlett, incident_angles, log_scale_min = -50)\n",
        "\n",
        "# Mark nominal incident angles\n",
        "axes = plt.axes()\n",
        "axes.axvline(linestyle = '--',linewidth = 2,color = 'black',x = theta1)\n",
        "axes.axvline(linestyle = '--',linewidth = 2,color = 'black',x = theta2)"
      ],
      "metadata": {
        "colab": {
          "base_uri": "https://localhost:8080/",
          "height": 235
        },
        "id": "yg6MV5Nqb5Rr",
        "outputId": "87cb2518-6a8a-4903-bfae-3df60cd04171"
      },
      "execution_count": null,
      "outputs": [
        {
          "output_type": "error",
          "ename": "NameError",
          "evalue": "ignored",
          "traceback": [
            "\u001b[0;31m---------------------------------------------------------------------------\u001b[0m",
            "\u001b[0;31mNameError\u001b[0m                                 Traceback (most recent call last)",
            "\u001b[0;32m<ipython-input-8-7db32776fa47>\u001b[0m in \u001b[0;36m<module>\u001b[0;34m\u001b[0m\n\u001b[1;32m      7\u001b[0m \u001b[0;34m\u001b[0m\u001b[0m\n\u001b[1;32m      8\u001b[0m \u001b[0;31m# Array response vectors of the test signal\u001b[0m\u001b[0;34m\u001b[0m\u001b[0;34m\u001b[0m\u001b[0;34m\u001b[0m\u001b[0m\n\u001b[0;32m----> 9\u001b[0;31m \u001b[0ma\u001b[0m \u001b[0;34m=\u001b[0m \u001b[0mnp\u001b[0m\u001b[0;34m.\u001b[0m\u001b[0mexp\u001b[0m\u001b[0;34m(\u001b[0m\u001b[0mnp\u001b[0m\u001b[0;34m.\u001b[0m\u001b[0marange\u001b[0m\u001b[0;34m(\u001b[0m\u001b[0;36m0\u001b[0m\u001b[0;34m,\u001b[0m\u001b[0mM\u001b[0m\u001b[0;34m,\u001b[0m\u001b[0;36m1\u001b[0m\u001b[0;34m)\u001b[0m\u001b[0;34m*\u001b[0m\u001b[0;36m1j\u001b[0m\u001b[0;34m*\u001b[0m\u001b[0;36m2\u001b[0m\u001b[0;34m*\u001b[0m\u001b[0mnp\u001b[0m\u001b[0;34m.\u001b[0m\u001b[0mpi\u001b[0m\u001b[0;34m*\u001b[0m\u001b[0md\u001b[0m\u001b[0;34m*\u001b[0m\u001b[0mnp\u001b[0m\u001b[0;34m.\u001b[0m\u001b[0mcos\u001b[0m\u001b[0;34m(\u001b[0m\u001b[0mnp\u001b[0m\u001b[0;34m.\u001b[0m\u001b[0mdeg2rad\u001b[0m\u001b[0;34m(\u001b[0m\u001b[0mtheta1\u001b[0m\u001b[0;34m)\u001b[0m\u001b[0;34m)\u001b[0m\u001b[0;34m)\u001b[0m\u001b[0;34m\u001b[0m\u001b[0;34m\u001b[0m\u001b[0m\n\u001b[0m\u001b[1;32m     10\u001b[0m \u001b[0;34m\u001b[0m\u001b[0m\n\u001b[1;32m     11\u001b[0m \u001b[0;31m# Array response vectors of the test signal\u001b[0m\u001b[0;34m\u001b[0m\u001b[0;34m\u001b[0m\u001b[0;34m\u001b[0m\u001b[0m\n",
            "\u001b[0;31mNameError\u001b[0m: name 'np' is not defined"
          ]
        }
      ]
    },
    {
      "cell_type": "markdown",
      "source": [
        "## Back-up and research code"
      ],
      "metadata": {
        "id": "KGV3Q-TB4-pn"
      }
    },
    {
      "cell_type": "markdown",
      "source": [
        "## PYARGUS\n",
        "\n",
        "| N | Bartlett resolution | CAPON resolution |\n",
        "|---|---|---|\n",
        "|2  |  N/A   |  N/A   |\n",
        "|3  | 20 | 12 |\n",
        "|4  | 13 | 7  |\n",
        "|8  | 7 | 3   |\n",
        "|12 | 4.2 | 1.7|\n",
        "\n",
        "\n",
        "https://github.com/petotamas/pyArgus/blob/master/docs/nb_direction_of_arrival_estimaton.ipynb"
      ],
      "metadata": {
        "id": "u-7hiMt3-o8z"
      }
    },
    {
      "cell_type": "code",
      "source": [
        "!pip install pyargus\n",
        "from pyargus.directionEstimation import *\n",
        "import matplotlib.pyplot as plt\n",
        "import numpy as np\n",
        "np.set_printoptions(precision=1)\n",
        "\n",
        "%matplotlib inline"
      ],
      "metadata": {
        "colab": {
          "base_uri": "https://localhost:8080/"
        },
        "id": "ckE47UbL-rKe",
        "outputId": "3fca19e6-3432-4a7f-8474-92cbcc16dcd7"
      },
      "execution_count": null,
      "outputs": [
        {
          "output_type": "stream",
          "name": "stdout",
          "text": [
            "Looking in indexes: https://pypi.org/simple, https://us-python.pkg.dev/colab-wheels/public/simple/\n",
            "Requirement already satisfied: pyargus in /usr/local/lib/python3.7/dist-packages (1.1.post1)\n"
          ]
        }
      ]
    },
    {
      "cell_type": "markdown",
      "source": [
        "### 4 elements"
      ],
      "metadata": {
        "id": "s4rXrkGbvO3M"
      }
    },
    {
      "cell_type": "code",
      "source": [
        "d = 0.5 # Inter element spacing [lambda]\n",
        "M = 10 # number of antenna elements in the antenna system (ULA)\n",
        "M = 4 # temp value\n",
        "N = 2**12  # sample size used for the simulation\n",
        "N = 2**12 #MCV\n",
        "theta1 = 50 # incident angle of the test signal [deg]\n",
        "theta2 = 80 # incident angle of the test signal [deg]\n",
        "# MCV temp\n",
        "theta1, theta2 = 50, 68\n",
        "\n",
        "# Array response vectors of the test signal\n",
        "a = np.exp(np.arange(0,M,1)*1j*2*np.pi*d*np.cos(np.deg2rad(theta1)))\n",
        "\n",
        "a_90 = np.exp(np.arange(0,M,1)*1j*2*np.pi*d*np.cos(np.deg2rad(90)))\n",
        "a_0 = np.exp(np.arange(0,M,1)*1j*2*np.pi*d*np.cos(np.deg2rad(0)))\n",
        "a_60 = np.exp(np.arange(0,M,1)*1j*2*np.pi*d*np.cos(np.deg2rad(60)))\n",
        "\n",
        "# To display only the first fractional digit\n",
        "np.set_printoptions(precision=1)\n",
        "\n",
        "print(\"Signal is received from the front: a=\",a_90)\n",
        "print(\"Signal is received from the side: a=\",a_0)\n",
        "print(\"Signal is received on 60 deg: a=\",a_60)\n",
        "\n",
        "# Array response vectors of the test signal\n",
        "a_1 = np.exp(np.arange(0,M,1)*1j*2*np.pi*d*np.cos(np.deg2rad(theta1)))\n",
        "a_2 = np.exp(np.arange(0,M,1)*1j*2*np.pi*d*np.cos(np.deg2rad(theta2)))\n",
        "print(f\"Signal is received on {theta2} deg: a=\",a_2)\n",
        "\n",
        "# Generate multichannel test signal\n",
        "# Notes seems to require some noise , if sigma is too low less reliable outcome?!?\n",
        "soi1 = np.random.normal(0,1,N)  # Signal of Interest\n",
        "correlated = False\n",
        "if correlated:\n",
        "  soi2 = soi1 #CAPON will faill here\n",
        "else:\n",
        "  print(\"not correlated\")\n",
        "  soi2 = np.random.normal(0,1,N)\n",
        "#print(30,soi1)\n",
        "soi_outer = np.outer( soi1, a_1)\n",
        "soi_outer+= np.outer( soi2, a_2)\n",
        "soi_matrix= soi_outer.T\n",
        "\n",
        "#soi_matrix  = ( np.outer( soi, a_1) + np.outer( soi, a_2)).T\n",
        "\n",
        "# Generate multichannel uncorrelated noise\n",
        "noise = np.random.normal(0,np.sqrt(10**-1),(M,N))\n",
        "\n",
        "# Create received signal array\n",
        "rec_signal = soi_matrix + noise\n",
        "\n",
        "R = corr_matrix_estimate(rec_signal.T, imp=\"mem_eff\")\n",
        "\n",
        "array_alignment = np.arange(0, M, 1)* d\n",
        "incident_angles= np.arange(0,181,1)\n",
        "ula_scanning_vectors = gen_ula_scanning_vectors(array_alignment, incident_angles)\n",
        "#print(ula_scanning_vectors)\n",
        "\n",
        "Bartlett = DOA_Bartlett(R,ula_scanning_vectors)\n",
        "Capon = DOA_Capon(R, ula_scanning_vectors)\n",
        "\n",
        "# Get matplotlib axes object\n",
        "\n",
        "\n",
        "# DOA_plot(Bartlett, incident_angles, log_scale_min = -50)\n",
        "\n",
        "DOA_plot(Capon, incident_angles, log_scale_min = -50)\n",
        "# Mark nominal incident angles\n",
        "axes = plt.axes()\n",
        "axes.axvline(linestyle = '--',linewidth = 2,color = 'black',x = theta1)\n",
        "axes.axvline(linestyle = '--',linewidth = 2,color = 'black',x = theta2)"
      ],
      "metadata": {
        "colab": {
          "base_uri": "https://localhost:8080/",
          "height": 473
        },
        "id": "pO0X3zwI-yoR",
        "outputId": "d9c72dad-8b09-488f-ae1d-b684b3d22833"
      },
      "execution_count": null,
      "outputs": [
        {
          "output_type": "stream",
          "name": "stdout",
          "text": [
            "Signal is received from the front: a= [1.+0.0e+00j 1.+1.9e-16j 1.+3.8e-16j 1.+5.8e-16j]\n",
            "Signal is received from the side: a= [ 1.+0.0e+00j -1.+1.2e-16j  1.-2.4e-16j -1.+3.7e-16j]\n",
            "Signal is received on 60 deg: a= [ 1.0e+00+0.0e+00j -3.8e-16+1.0e+00j -1.0e+00-7.7e-16j  7.0e-16-1.0e+00j]\n",
            "Signal is received on 68 deg: a= [ 1. +0.j   0.4+0.9j -0.7+0.7j -0.9-0.4j]\n",
            "not correlated\n",
            "Minimum alias angle 0.00 \n",
            "Maximum alias angle 0.00 \n"
          ]
        },
        {
          "output_type": "stream",
          "name": "stderr",
          "text": [
            "/usr/local/lib/python3.7/dist-packages/ipykernel_launcher.py:69: MatplotlibDeprecationWarning: Adding an axes using the same arguments as a previous axes currently reuses the earlier instance.  In a future version, a new instance will always be created and returned.  Meanwhile, this warning can be suppressed, and the future behavior ensured, by passing a unique label to each axes instance.\n"
          ]
        },
        {
          "output_type": "execute_result",
          "data": {
            "text/plain": [
              "<matplotlib.lines.Line2D at 0x7f5731622b50>"
            ]
          },
          "metadata": {},
          "execution_count": 3
        },
        {
          "output_type": "display_data",
          "data": {
            "text/plain": [
              "<Figure size 432x288 with 1 Axes>"
            ],
            "image/png": "[encoded data removed]"
          },
          "metadata": {
            "needs_background": "light"
          }
        }
      ]
    },
    {
      "cell_type": "markdown",
      "source": [
        "### 2 elements\n",
        " does not seem to work ???"
      ],
      "metadata": {
        "id": "1rvhM76pwJ-b"
      }
    },
    {
      "cell_type": "code",
      "source": [
        "M = 2 # number of antenna elements in the antenna system (ULA)\n",
        "delta_theta = 35\n",
        "theta1, theta2 = 90+delta_theta, 90-delta_theta\n",
        "\n",
        "# Array response vectors of the test signal\n",
        "a_1 = np.exp(np.arange(0,M,1)*1j*2*np.pi*d*np.cos(np.deg2rad(theta1)))\n",
        "a_2 = np.exp(np.arange(0,M,1)*1j*2*np.pi*d*np.cos(np.deg2rad(theta2)))\n",
        "\n",
        "# Generate multichannel test signal\n",
        "# Notes seems to require some noise , if sigma is too low less reliable outcome?!?\n",
        "soi2 = np.random.normal(0,1,N)\n",
        "soi_outer = np.outer( soi1, a_1)\n",
        "soi_outer+= np.outer( soi2, a_2)\n",
        "soi_matrix= soi_outer.T\n",
        "\n",
        "# Generate multichannel uncorrelated noise\n",
        "noise = np.random.normal(0,np.sqrt(10**-1),(M,N))\n",
        "\n",
        "# Create received signal array\n",
        "rec_signal = soi_matrix + noise\n",
        "\n",
        "R = corr_matrix_estimate(rec_signal.T, imp=\"mem_eff\")\n",
        "\n",
        "array_alignment = np.arange(0, M, 1)* d\n",
        "incident_angles= np.arange(0,181,1)\n",
        "ula_scanning_vectors = gen_ula_scanning_vectors(array_alignment, incident_angles)\n",
        "\n",
        "Bartlett = DOA_Bartlett(R,ula_scanning_vectors)\n",
        "Capon = DOA_Capon(R, ula_scanning_vectors)\n",
        "\n",
        "DOA_plot(Bartlett, incident_angles, log_scale_min = -50)\n",
        "\n",
        "# DOA_plot(Capon, incident_angles, log_scale_min = -50)\n",
        "# Mark nominal incident angles\n",
        "axes = plt.axes()\n",
        "axes.axvline(linestyle = '--',linewidth = 2,color = 'black',x = theta1)\n",
        "axes.axvline(linestyle = '--',linewidth = 2,color = 'black',x = theta2)"
      ],
      "metadata": {
        "id": "DmIfBv4rx6gH",
        "outputId": "6dfc6239-eb23-42f5-b1cf-ad3e457f6bb7",
        "colab": {
          "base_uri": "https://localhost:8080/",
          "height": 386
        }
      },
      "execution_count": null,
      "outputs": [
        {
          "output_type": "stream",
          "name": "stdout",
          "text": [
            "Minimum alias angle 0.00 \n",
            "Maximum alias angle 0.00 \n"
          ]
        },
        {
          "output_type": "stream",
          "name": "stderr",
          "text": [
            "/usr/local/lib/python3.7/dist-packages/ipykernel_launcher.py:35: MatplotlibDeprecationWarning: Adding an axes using the same arguments as a previous axes currently reuses the earlier instance.  In a future version, a new instance will always be created and returned.  Meanwhile, this warning can be suppressed, and the future behavior ensured, by passing a unique label to each axes instance.\n"
          ]
        },
        {
          "output_type": "execute_result",
          "data": {
            "text/plain": [
              "<matplotlib.lines.Line2D at 0x7f18bf481290>"
            ]
          },
          "metadata": {},
          "execution_count": 37
        },
        {
          "output_type": "display_data",
          "data": {
            "text/plain": [
              "<Figure size 432x288 with 1 Axes>"
            ],
            "image/png": "[encoded data removed]"
          },
          "metadata": {
            "needs_background": "light"
          }
        }
      ]
    },
    {
      "cell_type": "markdown",
      "source": [
        "### 3 elements\n",
        "\n",
        "* BARTLET down to +/- 20 degree\n",
        "* CAPON down to +/- 12 degree"
      ],
      "metadata": {
        "id": "Wc7HZDX-xOqn"
      }
    },
    {
      "cell_type": "code",
      "source": [
        "M = 3 # number of antenna elements in the antenna system (ULA)\n",
        "delta_theta = 20\n",
        "theta1, theta2 = 90+delta_theta, 90-delta_theta\n",
        "\n",
        "# Array response vectors of the test signal\n",
        "a_1 = np.exp(np.arange(0,M,1)*1j*2*np.pi*d*np.cos(np.deg2rad(theta1)))\n",
        "a_2 = np.exp(np.arange(0,M,1)*1j*2*np.pi*d*np.cos(np.deg2rad(theta2)))\n",
        "\n",
        "# Generate multichannel test signal\n",
        "# Notes seems to require some noise , if sigma is too low less reliable outcome?!?\n",
        "soi2 = np.random.normal(0,1,N)\n",
        "soi_outer = np.outer( soi1, a_1)\n",
        "soi_outer+= np.outer( soi2, a_2)\n",
        "soi_matrix= soi_outer.T\n",
        "\n",
        "# Generate multichannel uncorrelated noise\n",
        "noise = np.random.normal(0,np.sqrt(10**-1),(M,N))\n",
        "\n",
        "# Create received signal array\n",
        "rec_signal = soi_matrix + noise\n",
        "\n",
        "R = corr_matrix_estimate(rec_signal.T, imp=\"mem_eff\")\n",
        "\n",
        "array_alignment = np.arange(0, M, 1)* d\n",
        "incident_angles= np.arange(0,181,1)\n",
        "ula_scanning_vectors = gen_ula_scanning_vectors(array_alignment, incident_angles)\n",
        "\n",
        "Bartlett = DOA_Bartlett(R,ula_scanning_vectors)\n",
        "Capon = DOA_Capon(R, ula_scanning_vectors)\n",
        "\n",
        "DOA_plot(Bartlett, incident_angles, log_scale_min = -50)\n",
        "\n",
        "# DOA_plot(Capon, incident_angles, log_scale_min = -50)\n",
        "# Mark nominal incident angles\n",
        "axes = plt.axes()\n",
        "axes.axvline(linestyle = '--',linewidth = 2,color = 'black',x = theta1)\n",
        "axes.axvline(linestyle = '--',linewidth = 2,color = 'black',x = theta2)"
      ],
      "metadata": {
        "id": "s7Nu9P6Cv0rD",
        "outputId": "9f50ad2e-7f71-408a-af24-28e0f82fbb59",
        "colab": {
          "base_uri": "https://localhost:8080/",
          "height": 386
        }
      },
      "execution_count": null,
      "outputs": [
        {
          "output_type": "stream",
          "name": "stdout",
          "text": [
            "Minimum alias angle 0.00 \n",
            "Maximum alias angle 0.00 \n"
          ]
        },
        {
          "output_type": "stream",
          "name": "stderr",
          "text": [
            "/usr/local/lib/python3.7/dist-packages/ipykernel_launcher.py:35: MatplotlibDeprecationWarning: Adding an axes using the same arguments as a previous axes currently reuses the earlier instance.  In a future version, a new instance will always be created and returned.  Meanwhile, this warning can be suppressed, and the future behavior ensured, by passing a unique label to each axes instance.\n"
          ]
        },
        {
          "output_type": "execute_result",
          "data": {
            "text/plain": [
              "<matplotlib.lines.Line2D at 0x7f18bf7b1450>"
            ]
          },
          "metadata": {},
          "execution_count": 31
        },
        {
          "output_type": "display_data",
          "data": {
            "text/plain": [
              "<Figure size 432x288 with 1 Axes>"
            ],
            "image/png": "[encoded data removed]"
          },
          "metadata": {
            "needs_background": "light"
          }
        }
      ]
    },
    {
      "cell_type": "markdown",
      "source": [
        "### 4 elements\n",
        "\n",
        "Bartlett +/- 13 degrees\n",
        "\n",
        "Capon +/- 7 degrees"
      ],
      "metadata": {
        "id": "vQ_0FTEzyWYh"
      }
    },
    {
      "cell_type": "code",
      "source": [
        "M = 4 # number of antenna elements in the antenna system (ULA)\n",
        "delta_theta = 7\n",
        "theta1, theta2 = 90+delta_theta, 90-delta_theta\n",
        "\n",
        "# Array response vectors of the test signal\n",
        "a_1 = np.exp(np.arange(0,M,1)*1j*2*np.pi*d*np.cos(np.deg2rad(theta1)))\n",
        "a_2 = np.exp(np.arange(0,M,1)*1j*2*np.pi*d*np.cos(np.deg2rad(theta2)))\n",
        "\n",
        "# Generate multichannel test signal\n",
        "# Notes seems to require some noise , if sigma is too low less reliable outcome?!?\n",
        "soi2 = np.random.normal(0,1,N)\n",
        "soi_outer = np.outer( soi1, a_1)\n",
        "soi_outer+= np.outer( soi2, a_2)\n",
        "soi_matrix= soi_outer.T\n",
        "\n",
        "# Generate multichannel uncorrelated noise\n",
        "noise = np.random.normal(0,np.sqrt(10**-1),(M,N))\n",
        "\n",
        "# Create received signal array\n",
        "rec_signal = soi_matrix + noise\n",
        "\n",
        "R = corr_matrix_estimate(rec_signal.T, imp=\"mem_eff\")\n",
        "\n",
        "array_alignment = np.arange(0, M, 1)* d\n",
        "incident_angles= np.arange(0,181,1)\n",
        "ula_scanning_vectors = gen_ula_scanning_vectors(array_alignment, incident_angles)\n",
        "\n",
        "Bartlett = DOA_Bartlett(R,ula_scanning_vectors)\n",
        "Capon = DOA_Capon(R, ula_scanning_vectors)\n",
        "\n",
        "# DOA_plot(Bartlett, incident_angles, log_scale_min = -50)\n",
        "\n",
        "DOA_plot(Capon, incident_angles, log_scale_min = -50)\n",
        "# Mark nominal incident angles\n",
        "axes = plt.axes()\n",
        "axes.axvline(linestyle = '--',linewidth = 2,color = 'black',x = theta1)\n",
        "axes.axvline(linestyle = '--',linewidth = 2,color = 'black',x = theta2)"
      ],
      "metadata": {
        "id": "rF7OM0f6yYSH",
        "outputId": "f5df7085-1378-4c18-9bdb-c00028ccfac4",
        "colab": {
          "base_uri": "https://localhost:8080/",
          "height": 386
        }
      },
      "execution_count": null,
      "outputs": [
        {
          "output_type": "stream",
          "name": "stdout",
          "text": [
            "Minimum alias angle 0.00 \n",
            "Maximum alias angle 0.00 \n"
          ]
        },
        {
          "output_type": "stream",
          "name": "stderr",
          "text": [
            "/usr/local/lib/python3.7/dist-packages/ipykernel_launcher.py:35: MatplotlibDeprecationWarning: Adding an axes using the same arguments as a previous axes currently reuses the earlier instance.  In a future version, a new instance will always be created and returned.  Meanwhile, this warning can be suppressed, and the future behavior ensured, by passing a unique label to each axes instance.\n"
          ]
        },
        {
          "output_type": "execute_result",
          "data": {
            "text/plain": [
              "<matplotlib.lines.Line2D at 0x7f18bf037f90>"
            ]
          },
          "metadata": {},
          "execution_count": 45
        },
        {
          "output_type": "display_data",
          "data": {
            "text/plain": [
              "<Figure size 432x288 with 1 Axes>"
            ],
            "image/png": "[encoded data removed]"
          },
          "metadata": {
            "needs_background": "light"
          }
        }
      ]
    },
    {
      "cell_type": "markdown",
      "source": [
        "### 8 elements\n",
        "\n",
        "* Bartlett +/- 7\n",
        "* Capon +/- 3"
      ],
      "metadata": {
        "id": "ZbdTj-Jeyvuy"
      }
    },
    {
      "cell_type": "code",
      "source": [
        "d = 0.5 # Inter element spacing [lambda]\n",
        "N = 2**12\n",
        "\n",
        "M = 8 # number of antenna elements in the antenna system (ULA)\n",
        "delta_theta = 3\n",
        "theta1, theta2 = 90+delta_theta, 90-delta_theta\n",
        "\n",
        "# Array response vectors of the test signal\n",
        "a_1 = np.exp(np.arange(0,M,1)*1j*2*np.pi*d*np.cos(np.deg2rad(theta1)))\n",
        "a_2 = np.exp(np.arange(0,M,1)*1j*2*np.pi*d*np.cos(np.deg2rad(theta2)))\n",
        "\n",
        "# Generate multichannel test signal\n",
        "soi1 = np.random.normal(0,1,N)  # Signal of Interest\n",
        "# Notes seems to require some noise , if sigma is too low less reliable outcome?!?\n",
        "soi2 = np.random.normal(0,1,N)\n",
        "soi_outer = np.outer( soi1, a_1)\n",
        "soi_outer+= np.outer( soi2, a_2)\n",
        "soi_matrix= soi_outer.T\n",
        "\n",
        "# Generate multichannel uncorrelated noise\n",
        "noise = np.random.normal(0,np.sqrt(10**-1),(M,N))\n",
        "\n",
        "# Create received signal array\n",
        "rec_signal = soi_matrix + noise\n",
        "\n",
        "R = corr_matrix_estimate(rec_signal.T, imp=\"mem_eff\")\n",
        "\n",
        "array_alignment = np.arange(0, M, 1)* d\n",
        "incident_angles=None\n",
        "incident_angles2= np.arange(70,110.01,0.01)\n",
        "ula_scanning_vectors = gen_ula_scanning_vectors(array_alignment, incident_angles2)\n",
        "\n",
        "Bartlett = DOA_Bartlett(R,ula_scanning_vectors)\n",
        "Capon = DOA_Capon(R, ula_scanning_vectors)\n",
        "\n",
        "# DOA_plot(Bartlett, incident_angles, log_scale_min = -50)\n",
        "# DOA_plot(Capon, incident_angles2, log_scale_min = -50, alias_highlight=True)\n",
        "fig = plt.figure()\n",
        "axes  = fig.add_subplot(111)\n",
        "axes.plot(incident_angles2,Capon)\n",
        "axes.set_title('Direction of Arrival estimation ',fontsize = 16)\n",
        "axes.set_xlabel('Incident angle [deg]')\n",
        "axes.set_ylabel('Amplitude [dB]')\n",
        "# Mark nominal incident angles\n",
        "axes = plt.axes()\n",
        "axes.axvline(linestyle = '--',linewidth = 2,color = 'black',x = theta1)\n",
        "axes.axvline(linestyle = '--',linewidth = 2,color = 'black',x = theta2)"
      ],
      "metadata": {
        "id": "MqkEDiUtyyth",
        "outputId": "f332d129-df43-4aff-a18f-c78177e06517",
        "colab": {
          "base_uri": "https://localhost:8080/",
          "height": 386
        }
      },
      "execution_count": null,
      "outputs": [
        {
          "output_type": "stream",
          "name": "stderr",
          "text": [
            "/usr/local/lib/python3.7/dist-packages/matplotlib/cbook/__init__.py:1317: ComplexWarning: Casting complex values to real discards the imaginary part\n",
            "  return np.asarray(x, float)\n",
            "/usr/local/lib/python3.7/dist-packages/ipykernel_launcher.py:45: MatplotlibDeprecationWarning: Adding an axes using the same arguments as a previous axes currently reuses the earlier instance.  In a future version, a new instance will always be created and returned.  Meanwhile, this warning can be suppressed, and the future behavior ensured, by passing a unique label to each axes instance.\n"
          ]
        },
        {
          "output_type": "execute_result",
          "data": {
            "text/plain": [
              "<matplotlib.lines.Line2D at 0x7f94c2597590>"
            ]
          },
          "metadata": {},
          "execution_count": 19
        },
        {
          "output_type": "display_data",
          "data": {
            "text/plain": [
              "<Figure size 432x288 with 1 Axes>"
            ],
            "image/png": "[encoded data removed]"
          },
          "metadata": {
            "needs_background": "light"
          }
        }
      ]
    },
    {
      "cell_type": "markdown",
      "source": [
        "### 12 elements\n",
        "\n",
        "* Bartlett: 4.2\n",
        "* Capon: 1.7"
      ],
      "metadata": {
        "id": "RwBcto0zOCoN"
      }
    },
    {
      "cell_type": "code",
      "source": [
        "d = 0.5 # Inter element spacing [lambda]\n",
        "N = 2**12\n",
        "\n",
        "M = 12 # number of antenna elements in the antenna system (ULA)\n",
        "delta_theta = 1.7\n",
        "theta1, theta2 = 90+delta_theta, 90-delta_theta\n",
        "\n",
        "# Array response vectors of the test signal\n",
        "a_1 = np.exp(np.arange(0,M,1)*1j*2*np.pi*d*np.cos(np.deg2rad(theta1)))\n",
        "a_2 = np.exp(np.arange(0,M,1)*1j*2*np.pi*d*np.cos(np.deg2rad(theta2)))\n",
        "\n",
        "# Generate multichannel test signal\n",
        "soi1 = np.random.normal(0,1,N)  # Signal of Interest\n",
        "# Notes seems to require some noise , if sigma is too low less reliable outcome?!?\n",
        "soi2 = np.random.normal(0,1,N)\n",
        "soi_outer = np.outer( soi1, a_1)\n",
        "soi_outer+= np.outer( soi2, a_2)\n",
        "soi_matrix= soi_outer.T\n",
        "\n",
        "# Generate multichannel uncorrelated noise\n",
        "noise = np.random.normal(0,np.sqrt(10**-1),(M,N))\n",
        "\n",
        "# Create received signal array\n",
        "rec_signal = soi_matrix + noise\n",
        "\n",
        "R = corr_matrix_estimate(rec_signal.T, imp=\"mem_eff\")\n",
        "\n",
        "array_alignment = np.arange(0, M, 1)* d\n",
        "incident_angles=None\n",
        "incident_angles2= np.arange(70,110.01,0.01)\n",
        "ula_scanning_vectors = gen_ula_scanning_vectors(array_alignment, incident_angles2)\n",
        "\n",
        "Bartlett = DOA_Bartlett(R,ula_scanning_vectors)\n",
        "Capon = DOA_Capon(R, ula_scanning_vectors)\n",
        "\n",
        "# DOA_plot(Bartlett, incident_angles, log_scale_min = -50)\n",
        "# DOA_plot(Capon, incident_angles2, log_scale_min = -50, alias_highlight=True)\n",
        "fig = plt.figure()\n",
        "axes  = fig.add_subplot(111)\n",
        "axes.plot(incident_angles2,Capon)\n",
        "axes.set_title('Direction of Arrival estimation ',fontsize = 16)\n",
        "axes.set_xlabel('Incident angle [deg]')\n",
        "axes.set_ylabel('Amplitude [dB]')\n",
        "# Mark nominal incident angles\n",
        "axes = plt.axes()\n",
        "axes.axvline(linestyle = '--',linewidth = 2,color = 'black',x = theta1)\n",
        "axes.axvline(linestyle = '--',linewidth = 2,color = 'black',x = theta2)"
      ],
      "metadata": {
        "id": "YA0zr6BTOHo0",
        "outputId": "bfa3a6ab-abe7-4869-e1b5-c0e3ce5c6d8d",
        "colab": {
          "base_uri": "https://localhost:8080/",
          "height": 386
        }
      },
      "execution_count": null,
      "outputs": [
        {
          "output_type": "stream",
          "name": "stderr",
          "text": [
            "/usr/local/lib/python3.7/dist-packages/matplotlib/cbook/__init__.py:1317: ComplexWarning: Casting complex values to real discards the imaginary part\n",
            "  return np.asarray(x, float)\n",
            "/usr/local/lib/python3.7/dist-packages/ipykernel_launcher.py:45: MatplotlibDeprecationWarning: Adding an axes using the same arguments as a previous axes currently reuses the earlier instance.  In a future version, a new instance will always be created and returned.  Meanwhile, this warning can be suppressed, and the future behavior ensured, by passing a unique label to each axes instance.\n"
          ]
        },
        {
          "output_type": "execute_result",
          "data": {
            "text/plain": [
              "<matplotlib.lines.Line2D at 0x7f94c1d081d0>"
            ]
          },
          "metadata": {},
          "execution_count": 31
        },
        {
          "output_type": "display_data",
          "data": {
            "text/plain": [
              "<Figure size 432x288 with 1 Axes>"
            ],
            "image/png": "[encoded data removed]"
          },
          "metadata": {
            "needs_background": "light"
          }
        }
      ]
    },
    {
      "cell_type": "markdown",
      "source": [
        "## angle of arrival with FFT\n",
        "\n",
        "the phase increase as a function of distance between antennas and angle of arrival\n",
        "\n",
        "$$ \\omega = 2 \\cdot \\pi \\cdot \\lambda \\cdot d \\cdot sin(\\theta)$$\n",
        "\n",
        "Where:\n",
        "* $ \\lambda $ is the wavelength\n",
        "* $ \\theta $ is the angle of arrival (AoA)\n",
        "* d is the distance between antennas\n",
        "\n",
        "The AoA can be computed by looking for peaks in the FFT of the range FFT phase.\n",
        "\n",
        "Similarly to temporal FFT, physical FFT defines:\n",
        "\n",
        "* angular range bin, physical range bin is $ \\frac{1}{d \\cdot \\frac{N}{2}} \\iff $ angular range bin is $ \\frac{2 \\cdot \\lambda *pi}{d \\cdot N} = \\frac{4*pi}{N}$\n",
        "* angular resolution\n",
        "\n"
      ],
      "metadata": {
        "id": "CAD4Ew1mXs_G"
      }
    },
    {
      "cell_type": "code",
      "source": [
        "\"\"\"X=arange(0,100,1e-2)\n",
        "Y=sin(2*pi*10*X)\n",
        "FA  = fmcw_fft(Y,X,1/1e-2,plot_fft=False)\n",
        "FAt = fmcw_fft(Y,X,1/1e-2,plot_fft=True)\n",
        "print(FA)\"\"\"\n",
        "\n",
        "lambda1 = 0.05\n",
        "d = lambda1 /2\n",
        "Nrx = 20\n",
        "X = arange(0.0, d*Nrx, d)\n",
        "theta1=20\n",
        "theta2 = 45\n",
        "F1 = 1/lambda1*sin(theta1*pi/180)\n",
        "F2 = 1/lambda1*sin(theta2*pi/180)\n",
        "\n",
        "#ensure that there is at least one full period\n",
        "assert F1*X[-1]>1\n",
        "assert F2*X[-1]>1\n",
        "#Y = sin(2*pi*F1*X)\n",
        "Y = sin(2*pi*F1*X)+sin(2*pi*F2*X)\n",
        "Fest=fmcw_fft(Y,X,1/d,plot_fft=False,Npeaks=2)\n",
        "theta_est = [f1*lambda1*180/pi for f1 in Fest]\n",
        "print(\"tetha est\",theta_est)\n",
        "F0=fmcw_fft(Y,X,d,plot_fft=True)\n"
      ],
      "metadata": {
        "colab": {
          "base_uri": "https://localhost:8080/",
          "height": 312
        },
        "id": "3c3ELYtgXwc7",
        "outputId": "094c3737-0012-4e26-a183-4e964c62a548"
      },
      "execution_count": null,
      "outputs": [
        {
          "output_type": "stream",
          "name": "stdout",
          "text": [
            "tetha est [44.5633840657307, 19.098593171027442]\n"
          ]
        },
        {
          "output_type": "display_data",
          "data": {
            "text/plain": [
              "<Figure size 432x288 with 1 Axes>"
            ],
            "image/png": "[encoded data removed]"
          },
          "metadata": {
            "needs_background": "light"
          }
        }
      ]
    },
    {
      "cell_type": "markdown",
      "source": [
        "## angle of arrival with cross-correlation\n",
        "\n",
        "background maths:\n",
        "* https://www.eecs.umich.edu/courses/eecs206/archive/spring02/lab.dir/Lab3/lab3_v3_0_release.pdf\n",
        "\n",
        "> p7/14 gives refresher of correlation of different sine waves to find frequencies\n",
        "\n",
        "https://www.comm.utoronto.ca/~rsadve/Notes/DOA.pdf\n",
        "\n",
        "> Fig 1. for different methods for spectral estimation and DoA\n",
        "\n",
        "> Pcorr(φ) is a non-adaptive estimate of the spectrum of the incoming data. The M largest peaks of\n",
        "this plot are the estimated directions of arrival.\n",
        "In the case of our linear, equispaced array, the steering vector s(φ) is equivalent to Fourier\n",
        "coefficients, i.e., the correlation in Eqn. (33) is equivalent to a DFT of the data vector x. We will\n",
        "see that this technique is optimal (in the maximum likelihood sense) in the single user situation.\n",
        "\n",
        "> ibid  `p6/25`"
      ],
      "metadata": {
        "id": "k5XcKdjo6HU5"
      }
    },
    {
      "cell_type": "code",
      "source": [
        "corr = []\n",
        "angles = range(-90,91,1)\n",
        "for theta in angles:\n",
        "  fc = 1/lambda1*sin(theta*pi/180)\n",
        "  yc = sin(2*pi*fc*X)\n",
        "  xcor = [yc[i]*Y[i] for i in range(len(X))]\n",
        "  corr.append(sum(xcor))\n",
        "f, ax1 = plt.subplots(num=1, clear=True)\n",
        "ax1.plot(angles,corr,'-r')\n",
        "\n",
        "top4 = sorted(corr,reverse=True)[:4]\n",
        "angle4 = [angles[list(corr).index(peak)] for peak in top4]\n",
        "print(angle4)\n",
        "print(theta1,theta2)"
      ],
      "metadata": {
        "colab": {
          "base_uri": "https://localhost:8080/",
          "height": 300
        },
        "id": "0CXvNb3o6Knj",
        "outputId": "2bdf321c-f85f-498a-8590-e7220f31a88f"
      },
      "execution_count": null,
      "outputs": [
        {
          "output_type": "stream",
          "name": "stdout",
          "text": [
            "[45, 20, 44, 21]\n",
            "20 45\n"
          ]
        },
        {
          "output_type": "display_data",
          "data": {
            "text/plain": [
              "<Figure size 432x288 with 1 Axes>"
            ],
            "image/png": "[encoded data removed]"
          },
          "metadata": {
            "needs_background": "light"
          }
        }
      ]
    },
    {
      "cell_type": "markdown",
      "source": [
        "## DFT"
      ],
      "metadata": {
        "id": "TlZmNnysg56j"
      }
    },
    {
      "cell_type": "code",
      "source": [
        "import matplotlib.pyplot as plt\n",
        "import numpy as np\n",
        "\n",
        "plt.style.use('seaborn-poster')\n",
        "%matplotlib inline\n",
        "\n",
        "\n",
        "def DFT(x):\n",
        "    \"\"\"\n",
        "    Function to calculate the\n",
        "    discrete Fourier Transform\n",
        "    of a 1D real-valued signal x\n",
        "    \"\"\"\n",
        "\n",
        "    N = len(x)\n",
        "    n = np.arange(N)\n",
        "    k = n.reshape((N, 1))\n",
        "    e = np.exp(-2j * np.pi * k * n / N)\n",
        "\n",
        "    X = np.dot(e, x)\n",
        "\n",
        "    return X"
      ],
      "metadata": {
        "id": "grolGk4qhDWE"
      },
      "execution_count": null,
      "outputs": []
    },
    {
      "cell_type": "code",
      "source": [
        "\n",
        "\n",
        "# sampling rate\n",
        "sr = 100\n",
        "# sampling interval\n",
        "ts = 1.0/sr\n",
        "t = np.arange(0,1,ts)\n",
        "\n",
        "freq = 1.\n",
        "x = 3*np.sin(2*np.pi*freq*t)\n",
        "\n",
        "freq = 4\n",
        "x += np.sin(2*np.pi*freq*t)\n",
        "\n",
        "freq = 7\n",
        "x += 0.5* np.sin(2*np.pi*freq*t)\n",
        "\n",
        "plt.figure(figsize = (8, 6))\n",
        "plt.plot(t, x, 'r')\n",
        "plt.ylabel('Amplitude')\n",
        "\n",
        "plt.show()"
      ],
      "metadata": {
        "colab": {
          "base_uri": "https://localhost:8080/",
          "height": 387
        },
        "id": "S0VuFOOKhFJc",
        "outputId": "2883b3d1-63e5-4019-c602-b2b70ad12738"
      },
      "execution_count": null,
      "outputs": [
        {
          "output_type": "display_data",
          "data": {
            "text/plain": [
              "<Figure size 576x432 with 1 Axes>"
            ],
            "image/png": "[encoded data removed]"
          },
          "metadata": {
            "needs_background": "light"
          }
        }
      ]
    },
    {
      "cell_type": "code",
      "source": [
        "freqs = [1,4,7]\n",
        "x = np.sin(2*np.pi*freqs[0]*t)\n",
        "for f in [1,4,7]:\n",
        "  x+=np.sin(2*np.pi*f*t)\n",
        "\n",
        "X = DFT(x)\n",
        "\n",
        "# calculate the frequency\n",
        "N = len(X)\n",
        "n = np.arange(N)\n",
        "T = N/sr\n",
        "freq = n/T\n",
        "\n",
        "plt.figure(figsize = (12, 6))\n",
        "#plt.figure(figsize = (8, 6))\n",
        "plt.subplot(221)\n",
        "\n",
        "plt.plot(t, x, 'r')\n",
        "plt.ylabel('Amplitude')\n",
        "\n",
        "plt.subplot(222)\n",
        "\n",
        "plt.stem(freq, abs(X), 'b', \\\n",
        "         markerfmt=\" \", basefmt=\"-b\")\n",
        "plt.xlabel('Freq (Hz)')\n",
        "plt.ylabel('DFT Amplitude |X(freq)|')\n",
        "\n",
        "n_oneside = N//2\n",
        "# get the one side frequency\n",
        "f_oneside = freq[:n_oneside]\n",
        "\n",
        "# normalize the amplitude\n",
        "X_oneside =X[:n_oneside]/n_oneside\n",
        "\n",
        "\n",
        "plt.subplot(223)\n",
        "plt.stem(f_oneside, abs(X_oneside), 'b', \\\n",
        "         markerfmt=\" \", basefmt=\"-b\")\n",
        "plt.xlabel('Freq (Hz)')\n",
        "plt.ylabel('DFT Amplitude |X(freq)|')\n",
        "\n",
        "plt.subplot(224)\n",
        "plt.stem(f_oneside, abs(X_oneside), 'b', \\\n",
        "         markerfmt=\" \", basefmt=\"-b\")\n",
        "plt.xlabel('Freq (Hz)')\n",
        "plt.xlim(0, 10)\n",
        "plt.tight_layout()\n",
        "#plt.show()\n",
        "\n",
        "plt.show()"
      ],
      "metadata": {
        "colab": {
          "base_uri": "https://localhost:8080/",
          "height": 523
        },
        "id": "GhL6JGXxhMXb",
        "outputId": "44d78950-8460-4a14-8894-e9a999a58ac2"
      },
      "execution_count": null,
      "outputs": [
        {
          "output_type": "stream",
          "name": "stderr",
          "text": [
            "/usr/local/lib/python3.7/dist-packages/ipykernel_launcher.py:23: UserWarning: In Matplotlib 3.3 individual lines on a stem plot will be added as a LineCollection instead of individual lines. This significantly improves the performance of a stem plot. To remove this warning and switch to the new behaviour, set the \"use_line_collection\" keyword argument to True.\n",
            "/usr/local/lib/python3.7/dist-packages/ipykernel_launcher.py:36: UserWarning: In Matplotlib 3.3 individual lines on a stem plot will be added as a LineCollection instead of individual lines. This significantly improves the performance of a stem plot. To remove this warning and switch to the new behaviour, set the \"use_line_collection\" keyword argument to True.\n",
            "/usr/local/lib/python3.7/dist-packages/ipykernel_launcher.py:41: UserWarning: In Matplotlib 3.3 individual lines on a stem plot will be added as a LineCollection instead of individual lines. This significantly improves the performance of a stem plot. To remove this warning and switch to the new behaviour, set the \"use_line_collection\" keyword argument to True.\n"
          ]
        },
        {
          "output_type": "display_data",
          "data": {
            "text/plain": [
              "<Figure size 864x432 with 4 Axes>"
            ],
            "image/png": "[encoded data removed]"
          },
          "metadata": {
            "needs_background": "light"
          }
        }
      ]
    },
    {
      "cell_type": "markdown",
      "source": [
        "## AoA - MRE (old #2)\n",
        "\n",
        "Below computes AoA for one target with 2 antennas, only looking at the phase difference"
      ],
      "metadata": {
        "id": "xECwQNYPrmD7"
      }
    },
    {
      "cell_type": "code",
      "source": [
        "from numpy import abs ,angle, arange, arcsin, cos, pi, sqrt, tan\n",
        "from scipy.fft import fft\n",
        "\n",
        "class Object(object):\n",
        "    def __init__(self, x, y, z):\n",
        "      self.x = x\n",
        "      self.y = y\n",
        "      self.z = z\n",
        "    def dist(self, obj2):\n",
        "      sx = self.x\n",
        "      sy = self.y\n",
        "      sz = self.z\n",
        "      ox = obj2.x\n",
        "      oy = obj2.y\n",
        "      oz = obj2.z\n",
        "      distance = sqrt((sx-ox)**2+(sy-oy)**2+(sz-oz)**2)\n",
        "      return distance\n",
        "    def __str__(self):\n",
        "      return f\"x: {self.x}, Y: {self.y}, z: {self.z}\"\n",
        "\n",
        "def y_IF(f0_min,slope,T, antenna_tx, antenna_rx, target):\n",
        "  \"\"\" y_{IF} = cos(2 \\pi [-f_0\\delta -2 * K * \\delta * t + K* \\delta^2])\n",
        "  delta: delta t = distance (m)/c\n",
        "  A: (x,y,z)\n",
        "  T: (x,y,z)\n",
        "  \"\"\"\n",
        "  c = 3e8\n",
        "  distance = antenna_tx.dist(target) + antenna_rx.dist(target)\n",
        "  # delta = sqrt((A.x-target.x)**2+(A.y-target.y)**2+(A.z-target.z)**2)/3e8\n",
        "  delta = distance/c\n",
        "  # /!!!!!!\\ most equations have 2 * delta as delta is the one way time of flight\n",
        "  # here we have computed the 2 way round time of flight ence the lack of 2x\n",
        "  # see text books ahve\n",
        "  # YIF = cos(2 *pi *(2 * f0_min * delta + 2 * slope * delta * T + slope * delta**2))\n",
        "  # but we only have :\n",
        "  YIF = cos(2 *pi *(f0_min * delta + 2 * slope * delta * T + slope * delta**2))\n",
        "  return YIF\n",
        "f0_min = 60e9\n",
        "c = 3e8\n",
        "# lambda ~5mm at 60GHz\n",
        "lambda0_max = 3e8/f0_min\n",
        "n_rx = 2\n",
        "Distance = 10\n",
        "k = 200e12\n",
        "n_samples = 512\n",
        "f_if = 2*k*Distance/c\n",
        "fs = 50e6\n",
        "ts = 1/fs\n",
        "\n",
        "antenna_tx = Object(-lambda0_max/2,0,0)\n",
        "T = arange(0, n_samples*ts+ts, ts)\n",
        "\n",
        "for theta in [-180/3, -180/6, -180/10, 0, 180/10, 180/6, 180/3]:\n",
        "  Target = Object(4*tan(theta/180*pi),4,0)\n",
        "\n",
        "  Antennas_RXs = [Object(i*lambda0_max/2,0,0) for i in range(n_rx)]\n",
        "\n",
        "  phases = []\n",
        "  i_peaks = []\n",
        "  for target_i in [Target]:\n",
        "    for antenna_rx in Antennas_RXs:\n",
        "      Distance = antenna_rx.dist(target_i) + antenna_tx.dist(target_i)\n",
        "      f_if = 2*k*Distance/c\n",
        "      assert f_if < 1/ts/2\n",
        "      YIF = y_IF(f0_min, k,T, antenna_tx, antenna_rx, target_i)\n",
        "      FT = fft(YIF)\n",
        "      MAG = abs(FT)[0:int(n_samples/2)]\n",
        "      ANG = angle(FT)[0:int(n_samples/2)]\n",
        "\n",
        "      # now find the peak\n",
        "      amplitude_peak = sorted(MAG, reverse = True)[0]\n",
        "      i_peak = list(MAG).index(amplitude_peak)\n",
        "      if not i_peaks:\n",
        "          i_peaks.append(i_peak)\n",
        "      else:\n",
        "          try:\n",
        "              assert i_peak in i_peaks\n",
        "          except:\n",
        "            # exit now as we don't have the logic to track across range bins\n",
        "              print(\"bin range change\")\n",
        "              break\n",
        "      phases.append(ANG[0:int(n_samples/2)][i_peak])\n",
        "      f_peak = i_peak * 1/ts / n_samples\n",
        "      d2 = f_peak*c/2/k\n",
        "      dfixed = 0\n",
        "\n",
        "  delta_phase = (phases[0]-phases[1])  #/len(phases)\n",
        "  # need to verify / proof below formula still seems buggy\n",
        "  # idea is that phase goes inside frequency range bin and needs to be computed\n",
        "  # as such\n",
        "  # print(\"G***\", 90+arcsin(delta_phase*1/ts*c/pi/ n_samples/1/k/lambda0_max)*180/pi)\n",
        "  if delta_phase/pi>1:\n",
        "    theta_calc = arcsin(delta_phase/pi -2)*180/pi\n",
        "    print(f\"theta: {theta:.2g}, calculated_p: {theta_calc:.2g}\")\n",
        "  elif delta_phase/pi<-1:\n",
        "    theta_calc = arcsin(delta_phase/pi % +2)*180/pi\n",
        "    print(f\"theta: {theta:.2g}, calculated_m: {theta_calc:.2g}\")\n",
        "  else:\n",
        "    theta_calc = arcsin(delta_phase/pi)*180/pi\n",
        "    print(f\"theta: {theta:.2g}, calculated: {theta_calc:.2g}\")"
      ],
      "metadata": {
        "colab": {
          "base_uri": "https://localhost:8080/"
        },
        "id": "mWbST4hKruiN",
        "outputId": "f5cfc1c6-a206-498b-fbee-c37782ff8ff0"
      },
      "execution_count": null,
      "outputs": [
        {
          "output_type": "stream",
          "name": "stdout",
          "text": [
            "theta: -60, calculated_p: -64\n",
            "theta: -30, calculated: -31\n",
            "theta: -18, calculated_p: -19\n",
            "theta: 0, calculated: -0.019\n",
            "theta: 18, calculated: 19\n",
            "theta: 30, calculated: 31\n",
            "theta: 60, calculated: 64\n"
          ]
        }
      ]
    },
    {
      "cell_type": "markdown",
      "source": [
        "##  AoA trial #2"
      ],
      "metadata": {
        "id": "IRvNvZwRhqJ3"
      }
    },
    {
      "cell_type": "code",
      "source": [
        "#imports\n",
        "from numpy import abs ,angle, arange, array, linspace, matrix, pi, sin, cos, exp\n",
        "from numpy import sqrt, arcsin, arccos, arctan, dot, tan\n",
        "from numpy import column_stack, identity\n",
        "#import scipy.fftpack\n",
        "from scipy.fftpack import fft, fftshift, fftfreq\n",
        "import matplotlib.pyplot as plt\n",
        "\n",
        "class Object(object):\n",
        "    def __init__(self, x, y, z):\n",
        "      self.x = x\n",
        "      self.y = y\n",
        "      self.z = z\n",
        "    def dist(self, obj2):\n",
        "      sx = self.x\n",
        "      sy = self.y\n",
        "      sz = self.z\n",
        "      ox = obj2.x\n",
        "      oy = obj2.y\n",
        "      oz = obj2.z\n",
        "      distance = sqrt((sx-ox)**2+(sy-oy)**2+(sz-oz)**2)\n",
        "      return distance\n",
        "    def __str__(self):\n",
        "      return f\"x: {self.x}, Y: {self.y}, z: {self.z}\"\n",
        "\n",
        "def y_IF(lambda0_max,slope,T, antenna_tx, antenna_rx, target):\n",
        "  \"\"\" y_{IF} = cos(2 \\pi [-f_0\\delta -2 * K * \\delta * t + K* \\delta^2])\n",
        "  delta: delta t = distance (m)/c\n",
        "  A: (x,y,z)\n",
        "  T: (x,y,z)\n",
        "  \"\"\"\n",
        "  distance = antenna_RX.dist(target_i) + antenna_TX.dist(target_i)\n",
        "  # delta = sqrt((A.x-target.x)**2+(A.y-target.y)**2+(A.z-target.z)**2)/3e8\n",
        "  delta = distance/c\n",
        "  f_0 = c/lambda0_max\n",
        "  YIF = cos(2 *pi *(-f_0 *delta - 2 * slope * delta * T + slope * delta**2))\n",
        "  return YIF\n",
        "\n",
        "f0_min = 60e9\n",
        "c = 3e8\n",
        "# lambda ~5mm at 60GHz\n",
        "lambda0_max = 3e8/f0_min\n",
        "n_rx = 16\n",
        "Distance = 10\n",
        "k = 200e12\n",
        "n_samples = 512\n",
        "f_if = 2*k*Distance/c\n",
        "fs = 50e6\n",
        "ts = 1/fs\n",
        "\n",
        "for Target_Angle in [-180/3, -180/6, -180/10, 0, 180/10, 180/6, 180/3]:\n",
        "  print(\"Target Angle Objective\", Target_Angle)\n",
        "  Target = Object(4*tan(Target_Angle/180*pi),4,0)\n",
        "  if abs(Target.x)>0:\n",
        "    alpha = arctan(Target.y/Target.x)\n",
        "  else:\n",
        "    alpha = 0\n",
        "  # theta = pi/2-alpha\n",
        "  theta = None\n",
        "  antenna_TX = Object(-lambda0_max/2,0,0)\n",
        "  Antennas_RX = [Object(i*lambda0_max/2,0,0) for i in range(n_rx)]\n",
        "  # ts = 1/f_if/n_samples\n",
        "  # T = linspace(0.0, n_samples*ts+ts, n_samples)\n",
        "  T = arange(0, n_samples*ts+ts, ts)\n",
        "  phases = []\n",
        "  Distances = []\n",
        "  i_peaks = []\n",
        "  for target_i in [Target]:\n",
        "    for antenna_RX in Antennas_RX[:8]:\n",
        "      Distance = antenna_RX.dist(target_i) + antenna_TX.dist(target_i)\n",
        "      Distances.append(Distance)\n",
        "      f_if = 2*k*Distance/c\n",
        "      assert f_if < 1/ts/2\n",
        "      YIF = y_IF(lambda0_max,k,T, antenna_TX, antenna_RX, target_i)\n",
        "      FT = fft(YIF)\n",
        "      MAG = abs(FT)[0:int(n_samples/2)]\n",
        "      ANG = angle(FT)[0:int(n_samples/2)]\n",
        "\n",
        "      # now find the peak\n",
        "      amplitude_peak = sorted(MAG, reverse = True)[0]\n",
        "      i_peak = list(MAG).index(amplitude_peak)\n",
        "      if not i_peaks:\n",
        "          i_peaks.append(i_peak)\n",
        "      else:\n",
        "          try:\n",
        "              assert i_peak in i_peaks\n",
        "          except:\n",
        "            # exit now as we don't have the logic to track across range bins\n",
        "              print(\"bin range change\")\n",
        "              break\n",
        "      phases.append(ANG[0:int(n_samples/2)][i_peak])\n",
        "      f_peak = i_peak * 1/ts / n_samples\n",
        "      d2 = f_peak*c/2/k\n",
        "      dfixed = 0\n",
        "\n",
        "  delta_d = Distances[1]-Distances[0]\n",
        "  delta_phase = (phases[0]-phases[1])  #/len(phases)\n",
        "  # need to verify / proof below formula still seems buggy\n",
        "  # idea is that phase goes inside frequency range bin and needs to be computed\n",
        "  # as such\n",
        "  # print(\"G***\", 90+arcsin(delta_phase*1/ts*c/pi/ n_samples/1/k/lambda0_max)*180/pi)\n",
        "  print(\"delta_phase\",delta_phase/pi)\n",
        "  if abs(delta_phase/pi)>1:\n",
        "    print(\"ipeaks\",i_peaks)\n",
        "    print(\"test ?\",arcsin(delta_phase/pi %1)*180/pi)\n",
        "  else:\n",
        "    theta_calc = arcsin(delta_phase/pi)*180/pi\n",
        "    print(\"theta calc\", theta_calc)\n"
      ],
      "metadata": {
        "id": "dH-PZQwohzo7",
        "outputId": "3fa2c891-9b1f-4cf8-c360-9d9c216c99b9",
        "colab": {
          "base_uri": "https://localhost:8080/"
        }
      },
      "execution_count": null,
      "outputs": [
        {
          "output_type": "stream",
          "name": "stdout",
          "text": [
            "Target Angle Objective -60.0\n",
            "delta_phase -0.8954859449632953\n",
            "theta calc -63.57091626643821\n",
            "Target Angle Objective -30.0\n",
            "delta_phase 1.4814397586646584\n",
            "ipeaks [126]\n",
            "test ? 28.779477208424485\n",
            "Target Angle Objective -18.0\n",
            "delta_phase -0.3195709654583408\n",
            "theta calc -18.636980685491228\n",
            "Target Angle Objective 0\n",
            "delta_phase -0.00032144728634370725\n",
            "theta calc -0.018417573160603964\n",
            "Target Angle Objective 18.0\n",
            "delta_phase 0.31940018563514966\n",
            "theta calc 18.626654540903953\n",
            "Target Angle Objective 30.0\n",
            "delta_phase 0.5153379636703278\n",
            "theta calc 31.020047623162547\n",
            "Target Angle Objective 60.0\n",
            "delta_phase -1.1048598118773927\n",
            "ipeaks [219]\n",
            "test ? 63.52644220014059\n"
          ]
        }
      ]
    },
    {
      "cell_type": "code",
      "source": [
        "tx = Object(-lambda0_max/2,0,0)\n",
        "rx0 = Object(0,0,0)\n",
        "rx1 = Object(-lambda0_max/2,0,0)\n",
        "angle = 30\n",
        "angle = 0\n",
        "D0 = 10\n",
        "for angle in [0, 30]:\n",
        "  theta = angle/180*pi\n",
        "  target = Object(D0*tan(theta),D0,0)\n",
        "  print(target)\n",
        "  d1 = tx.dist(target)+rx0.dist(target)\n",
        "  d2 = tx.dist(target)+rx1.dist(target)\n",
        "  print(d2-d1,\"///\", lambda0_max/2*sin(theta),\"@@\",rx0.dist(target)-rx1.dist(target))"
      ],
      "metadata": {
        "colab": {
          "base_uri": "https://localhost:8080/"
        },
        "id": "Qq4PIEmky4eU",
        "outputId": "6ca6516d-62c0-4db4-eb9c-e0250a49ebd3"
      },
      "execution_count": null,
      "outputs": [
        {
          "output_type": "stream",
          "name": "stdout",
          "text": [
            "x: 0.0, Y: 10, z: 0\n",
            "3.1249999565829967e-07 /// 0.0 @@ -3.1249999565829967e-07\n",
            "x: 5.773502691896257, Y: 10, z: 0\n",
            "0.001250202952732593 /// 0.0012499999999999998 @@ -0.001250202952732593\n"
          ]
        }
      ]
    },
    {
      "cell_type": "markdown",
      "source": [
        "### Non linear FFT x-axis"
      ],
      "metadata": {
        "id": "TSGzom-pt2dV"
      }
    },
    {
      "cell_type": "code",
      "source": [
        "from numpy import arange, cos, sin, pi\n",
        "from scipy.fft import fft\n",
        "import matplotlib.pyplot as plt\n",
        "\n",
        "f0=500\n",
        "f1 =4096\n",
        "N = 32\n",
        "ts = 1/f0/N\n",
        "fs = 1/ts\n",
        "assert fs> 2* f0\n",
        "print(fs, f0)\n",
        "T = arange(0, N*ts, ts)\n",
        "y = cos(2*pi*f1*T)\n",
        "DFT = fft(y)\n",
        "F = arange(0, fs, fs/N)\n",
        "fig, (ax1, ax2) = plt.subplots(2, sharex=True)\n",
        "\n",
        "ax1.title.set_text(r\"default FFT\")\n",
        "ax1.tick_params(axis='x', which='minor', bottom=False)\n",
        "plt.xticks(F)\n",
        "ax1.plot(F, DFT, 'r')"
      ],
      "metadata": {
        "colab": {
          "base_uri": "https://localhost:8080/",
          "height": 525
        },
        "id": "LwaPd1lJt1-E",
        "outputId": "4c645321-99b6-4a64-af54-be7d80902b64"
      },
      "execution_count": null,
      "outputs": [
        {
          "output_type": "stream",
          "name": "stdout",
          "text": [
            "16000.0 500\n"
          ]
        },
        {
          "output_type": "stream",
          "name": "stderr",
          "text": [
            "/usr/local/lib/python3.10/dist-packages/matplotlib/cbook/__init__.py:1335: ComplexWarning: Casting complex values to real discards the imaginary part\n",
            "  return np.asarray(x, float)\n"
          ]
        },
        {
          "output_type": "execute_result",
          "data": {
            "text/plain": [
              "[<matplotlib.lines.Line2D at 0x7f29b424ea70>]"
            ]
          },
          "metadata": {},
          "execution_count": 16
        },
        {
          "output_type": "display_data",
          "data": {
            "text/plain": [
              "<Figure size 640x480 with 2 Axes>"
            ],
            "image/png": "[encoded data removed]"
          },
          "metadata": {}
        }
      ]
    }
  ]
}