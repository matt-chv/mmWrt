{
 "cells": [
  {
   "cell_type": "code",
   "execution_count": 4,
   "metadata": {
    "colab": {
     "base_uri": "https://localhost:8080/"
    },
    "id": "vTKU3XV7Zk5s",
    "outputId": "dbef217c-3427-414c-ecb5-87795e1ff9bf"
   },
   "outputs": [
    {
     "name": "stdout",
     "output_type": "stream",
     "text": [
      "running from git folder, using local path (latest) mmWrt code c:\\git\\mmWrt\n"
     ]
    }
   ],
   "source": [
    "# Install a pip package in the current Jupyter kernel\n",
    "import sys\n",
    "from os.path import abspath, basename, join, pardir\n",
    "import datetime\n",
    "\n",
    "# hack to handle if running from git cloned folder or stand alone (like Google Colab)\n",
    "cw = basename(abspath(join(\".\")))\n",
    "dp = abspath(join(\".\",pardir))\n",
    "if cw==\"docs\" and basename(dp) == \"mmWrt\":\n",
    "    # running from cloned folder\n",
    "    print(\"running from git folder, using local path (latest) mmWrt code\", dp)\n",
    "    sys.path.insert(0, dp)\n",
    "else:\n",
    "    print(\"possibly running from Google Colabs, doing required installs\")\n",
    "    !pip install antlr4-python3-runtime==4.11\n",
    "    !pip install pdflatex\n",
    "    !sudo apt-get install texlive-latex-recommended\n",
    "    !sudo apt install texlive-latex-extra\n",
    "    !sudo apt install dvipng\n",
    "from sympy.parsing.latex import parse_latex\n",
    "from IPython.display import Image, display\n",
    "from sympy import preview\n",
    "from sympy import init_printing, latex, Symbol\n",
    "import matplotlib.image as mpimg\n",
    "from matplotlib import pyplot as plt\n",
    "\n",
    "f_0 = Symbol(r\"f_{0}\")\n",
    "t = Symbol(r\"t\")\n",
    "delta = Symbol(r\"\\delta\")\n",
    "Phi_0 = Symbol(r'\\Phi_0')\n",
    "nu = Symbol(r\"\\nu\")"
   ]
  },
  {
   "cell_type": "markdown",
   "metadata": {
    "id": "AKSgb5u7Jk2T"
   },
   "source": [
    "# FMCW equation\n",
    "\n",
    "phase of transmitted signal\n",
    "$$ \\mathit{\\phi_{TX}(t)} = \\Phi + 2 \\pi \\left(f_{0} t + t^{2} \\frac{s}{2}\\right) $$"
   ]
  },
  {
   "cell_type": "markdown",
   "metadata": {
    "id": "BBzaTlSGwj9M"
   },
   "source": []
  },
  {
   "cell_type": "code",
   "execution_count": 5,
   "metadata": {
    "colab": {
     "base_uri": "https://localhost:8080/",
     "height": 65
    },
    "id": "hSUw7s-BYdgv",
    "outputId": "f2087bab-1ed8-4341-c752-ca5c25205a2b"
   },
   "outputs": [
    {
     "name": "stdout",
     "output_type": "stream",
     "text": [
      "\\Phi + 2 \\pi \\left(f_{0} t + t^{2} \\frac{s}{2}\\right)\n"
     ]
    },
    {
     "data": {
      "text/latex": [
       "$\\displaystyle \\Phi_{0} + 2 \\pi \\left(f_{0} t + t^{2} \\frac{s}{2}\\right)$"
      ],
      "text/plain": [
       "\\Phi_0 + (2*pi)*(f_{0}*t + t**2*(s/2))"
      ]
     },
     "execution_count": 5,
     "metadata": {},
     "output_type": "execute_result"
    }
   ],
   "source": [
    "\n",
    "phi_TX_t = parse_latex(r\"2 \\pi \\cdot ( f_0 \\cdot t + \\frac{s}{2} \\cdot t^2 ) + \\mathit{Phi}\")\n",
    "print(latex(phi_TX_t))\n",
    "phi_TX_t = phi_TX_t.subs(\"Phi\",Phi_0)\n",
    "phi_TX_t"
   ]
  },
  {
   "cell_type": "markdown",
   "metadata": {
    "id": "Z8mqzjX0KSjX"
   },
   "source": [
    "Transmitted signal is $$ \\cos(\\phi_{TX}(t)) = \\cos(\\Phi + 2 \\pi \\left(f_{0} t + t^{2} \\frac{s}{2}\\right)) $$"
   ]
  },
  {
   "cell_type": "markdown",
   "metadata": {
    "id": "iRorfDhTKhzD"
   },
   "source": [
    "## Received signal\n",
    "\n",
    "phase of the RX signal is time delayed version of TX:\n",
    "\n",
    "$$ \\phi_{RX}(t) = \\phi_{TX}(t-\\delta) $$\n",
    "\n",
    "which can be re-written as:\n",
    "\n",
    "$$ \\phi_{RX}(t) = \\Phi_{0} + 2 \\pi \\left(f_{0} \\left(- \\delta + t\\right) + \\frac{s \\left(- \\delta + t\\right)^{2}}{2}\\right) $$\n",
    "\n",
    "Where the physical signals $ Y_{RX}(t) = A_R \\cdot \\cos{\\phi_{RX}(t)} $\n"
   ]
  },
  {
   "cell_type": "code",
   "execution_count": 6,
   "metadata": {
    "colab": {
     "base_uri": "https://localhost:8080/",
     "height": 85
    },
    "id": "VCVO6imsy5WG",
    "outputId": "a4db2197-6478-4e4c-a091-c11b50c82f8b"
   },
   "outputs": [
    {
     "name": "stdout",
     "output_type": "stream",
     "text": [
      "\\Phi_{0} + 2 \\pi \\left(f_{0} \\left(- \\delta + t\\right) + \\frac{s \\left(- \\delta + t\\right)^{2}}{2}\\right)\n"
     ]
    },
    {
     "data": {
      "text/latex": [
       "$\\displaystyle \\Phi_{0} + 2 \\pi \\left(f_{0} \\left(- \\delta + t\\right) + \\frac{s \\left(- \\delta + t\\right)^{2}}{2}\\right)$"
      ],
      "text/plain": [
       "\\Phi_0 + 2*pi*(f_{0}*(-\\delta + t) + s*(-\\delta + t)**2/2)"
      ]
     },
     "execution_count": 6,
     "metadata": {},
     "output_type": "execute_result"
    }
   ],
   "source": [
    "phi_RX_t = phi_TX_t.subs(\"t\", t-delta)\n",
    "print(latex(phi_RX_t))\n",
    "phi_RX_t"
   ]
  },
  {
   "cell_type": "markdown",
   "metadata": {
    "id": "B5CE5OgQL47x"
   },
   "source": [
    "## Mixer and IF\n",
    "\n",
    "The mixer multiplies RX and TX signals:\n",
    "\n",
    "$$ Y_{MIX}(t) = Y_{TX}(t) \\cdot Y_{RX}(t) $$\n",
    "replacing $ Y_{TX}(t) $ and $ Y_{RX}(t) $ by their respective equations :\n",
    "$$ Y_{MIX}(t) = A_R \\cdot \\cos(\\phi_{RX}(t)) \\cdot A_T  \\cdot \\cos(\\phi_{TX}(t))$$"
   ]
  },
  {
   "cell_type": "code",
   "execution_count": 17,
   "metadata": {
    "colab": {
     "base_uri": "https://localhost:8080/",
     "height": 56
    },
    "id": "MbI5auwUNASd",
    "outputId": "db188b9d-5810-44a7-87d9-8acb47bbfcb0"
   },
   "outputs": [
    {
     "name": "stdout",
     "output_type": "stream",
     "text": [
      "Y_MIX is:\n"
     ]
    },
    {
     "data": {
      "text/latex": [
       "$\\displaystyle A_{R} A_{T} \\cos{\\left(\\Phi_{R} \\right)} \\cos{\\left(\\Phi_{T} \\right)}$"
      ],
      "text/plain": [
       "A_{R}*A_{T}*cos(\\Phi_R)*cos(\\Phi_T)"
      ]
     },
     "execution_count": 17,
     "metadata": {},
     "output_type": "execute_result"
    }
   ],
   "source": [
    "Y_R = parse_latex(r\"A_R \\cdot \\cos(\\mathit{PhiR})\")\n",
    "Y_T = parse_latex(r\"A_T \\cdot \\cos(\\mathit{PhiT})\")\n",
    "Y_L = parse_latex(r\"\\frac{A_T \\cdot A_R}{2} \\cdot \\cos(\\mathit{PhiT}-\\mathit{PhiR})\")\n",
    "Y_H = parse_latex(r\"\\frac{A_T \\cdot A_R}{2} \\cdot \\cos(\\mathit{PhiT}+\\mathit{PhiR})\")\n",
    "PhiR = Symbol(\"\\Phi_R\")\n",
    "PhiT = Symbol(\"\\Phi_T\")\n",
    "Y_R = Y_R.subs(\"PhiR\",PhiR)\n",
    "Y_T = Y_T.subs(\"PhiT\",PhiT)\n",
    "Y_L_symbolic = Y_L.subs(\"PhiR\",PhiR)\n",
    "Y_L_symbolic = Y_L_symbolic.subs(\"PhiT\",PhiT)\n",
    "Y_H_symbolic = Y_H.subs(\"PhiR\",PhiR)\n",
    "Y_H_symbolic = Y_H_symbolic.subs(\"PhiT\",PhiT)\n",
    "Y_MIX_simbolic = Y_R * Y_T\n",
    "print(\"Y_MIX is:\")\n",
    "Y_MIX_simbolic"
   ]
  },
  {
   "cell_type": "code",
   "execution_count": 18,
   "metadata": {
    "colab": {
     "base_uri": "https://localhost:8080/",
     "height": 53
    },
    "id": "TxTVJHXHO_3F",
    "outputId": "ff86f2db-7d1b-4a85-9df2-b5dad637c67b"
   },
   "outputs": [
    {
     "data": {
      "text/latex": [
       "$\\displaystyle \\frac{A_{R} A_{T} \\cos{\\left(\\Phi_{R} - \\Phi_{T} \\right)}}{2} + \\frac{A_{R} A_{T} \\cos{\\left(\\Phi_{R} + \\Phi_{T} \\right)}}{2}$"
      ],
      "text/plain": [
       "A_{R}*A_{T}*cos(\\Phi_R - \\Phi_T)/2 + A_{R}*A_{T}*cos(\\Phi_R + \\Phi_T)/2"
      ]
     },
     "execution_count": 18,
     "metadata": {},
     "output_type": "execute_result"
    }
   ],
   "source": [
    "Y_L_symbolic+Y_H_symbolic"
   ]
  },
  {
   "cell_type": "code",
   "execution_count": 19,
   "metadata": {
    "colab": {
     "base_uri": "https://localhost:8080/"
    },
    "id": "59vzxH_DO5zH",
    "outputId": "dd069d13-1bba-4e7d-b5a2-00454e7d7cd2"
   },
   "outputs": [
    {
     "data": {
      "text/plain": [
       "True"
      ]
     },
     "execution_count": 19,
     "metadata": {},
     "output_type": "execute_result"
    }
   ],
   "source": [
    "Y_MIX_simbolic.equals(Y_H_symbolic+Y_L_symbolic)"
   ]
  },
  {
   "cell_type": "markdown",
   "metadata": {
    "id": "DNvoLC3gTYuj"
   },
   "source": [
    "## Mixer output\n",
    "\n",
    "Mixer output is a 2 tone:\n",
    "\n",
    "* Y_H: high-frequency\n",
    "* Y_L: low-frequency (aka IF: intermediate frequency)"
   ]
  },
  {
   "cell_type": "code",
   "execution_count": 20,
   "metadata": {
    "colab": {
     "base_uri": "https://localhost:8080/",
     "height": 68
    },
    "id": "QPFdLv_ZUuYu",
    "outputId": "d4d4b303-9271-4c6f-b884-9c69ace14ad7"
   },
   "outputs": [
    {
     "data": {
      "text/latex": [
       "$\\displaystyle 2 \\Phi_{0} + 2 \\pi \\left(f_{0} \\left(- \\delta + t\\right) + \\frac{s \\left(- \\delta + t\\right)^{2}}{2}\\right) + 2 \\pi \\left(f_{0} t + t^{2} \\frac{s}{2}\\right)$"
      ],
      "text/plain": [
       "2*\\Phi_0 + 2*pi*(f_{0}*(-\\delta + t) + s*(-\\delta + t)**2/2) + (2*pi)*(f_{0}*t + t**2*(s/2))"
      ]
     },
     "execution_count": 20,
     "metadata": {},
     "output_type": "execute_result"
    }
   ],
   "source": [
    "phi_RX_t + phi_TX_t"
   ]
  },
  {
   "cell_type": "code",
   "execution_count": 21,
   "metadata": {
    "colab": {
     "base_uri": "https://localhost:8080/",
     "height": 58
    },
    "id": "aNZOC_woTmIC",
    "outputId": "2e096216-72e7-4963-935e-eac1fd61ee9e"
   },
   "outputs": [
    {
     "data": {
      "text/latex": [
       "$\\displaystyle 2 \\Phi_{0} + 2 \\pi \\left(\\frac{\\delta^{2} s}{2} - \\delta f_{0} - \\delta s t + 2 f_{0} t + s t^{2}\\right)$"
      ],
      "text/plain": [
       "2*\\Phi_0 + 2*pi*(\\delta**2*s/2 - \\delta*f_{0} - \\delta*s*t + (2*f_{0})*t + s*t**2)"
      ]
     },
     "execution_count": 21,
     "metadata": {},
     "output_type": "execute_result"
    }
   ],
   "source": [
    "Y_H_t = Y_H.subs(\"PhiR\",phi_RX_t)\n",
    "Y_H_t = Y_H_t.subs(\"PhiT\",phi_TX_t)\n",
    "# phi_2 is the phase of the `high frequency tone`\n",
    "# here we write it explicitly to simplify the symbolic writting\n",
    "# we define \\mathit{Delta A} for convenience as to also remember it seems\n",
    "# \\mathic can accept spaces\n",
    "# \\mathic does not seem to accept numbers\n",
    "# \\mathic does not seem to accept lower case for first letter ?!?\n",
    "phi_2_t = parse_latex(r\"2 \\pi * (2 \\cdot f_0 \\cdot t - f_0 \\cdot \\mathit{Delta A} + \\frac{s}{2} \\cdot \\mathit{Delta A}^2 - s * t * \\mathit{Delta A}  +s*t^2)  + 2 * \\mathit{Phi}\")\n",
    "phi_2_t = phi_2_t.subs(\"Phi\",Phi_0)\n",
    "phi_2_t = phi_2_t.subs(\"Delta A\",delta)\n",
    "phi_2_t"
   ]
  },
  {
   "cell_type": "code",
   "execution_count": 22,
   "metadata": {
    "colab": {
     "base_uri": "https://localhost:8080/"
    },
    "id": "PopQ20XGX3H3",
    "outputId": "7a4a1bb4-fabf-479b-c39b-34b8fc36813e"
   },
   "outputs": [
    {
     "data": {
      "text/plain": [
       "True"
      ]
     },
     "execution_count": 22,
     "metadata": {},
     "output_type": "execute_result"
    }
   ],
   "source": [
    "# now we verify the two expressions match\n",
    "phi1_t = phi_RX_t+phi_TX_t\n",
    "phi_2_t.equals(phi1_t)"
   ]
  },
  {
   "cell_type": "code",
   "execution_count": 23,
   "metadata": {
    "colab": {
     "base_uri": "https://localhost:8080/",
     "height": 66
    },
    "id": "x5BB56wjavt3",
    "outputId": "7b9f04d5-d076-4fdb-9cbb-1905d37aba67"
   },
   "outputs": [
    {
     "data": {
      "text/latex": [
       "$\\displaystyle \\frac{A_{R} A_{T} \\cos{\\left(2 \\Phi_{0} + 2 \\pi \\left(f_{0} \\left(- \\delta + t\\right) + \\frac{s \\left(- \\delta + t\\right)^{2}}{2}\\right) + 2 \\pi \\left(f_{0} t + t^{2} \\frac{s}{2}\\right) \\right)}}{2}$"
      ],
      "text/plain": [
       "A_{R}*A_{T}*cos(2*\\Phi_0 + 2*pi*(f_{0}*(-\\delta + t) + s*(-\\delta + t)**2/2) + (2*pi)*(f_{0}*t + t**2*(s/2)))/2"
      ]
     },
     "execution_count": 23,
     "metadata": {},
     "output_type": "execute_result"
    }
   ],
   "source": [
    "Y_H_t"
   ]
  },
  {
   "cell_type": "markdown",
   "metadata": {
    "id": "f7L0TgJ0bFbr"
   },
   "source": [
    "## Low frequency component"
   ]
  },
  {
   "cell_type": "code",
   "execution_count": 25,
   "metadata": {
    "colab": {
     "base_uri": "https://localhost:8080/",
     "height": 68
    },
    "id": "8vSCxdTPbTbx",
    "outputId": "6ac57862-b32f-40aa-b1a2-f52e575715de"
   },
   "outputs": [
    {
     "data": {
      "text/latex": [
       "$\\displaystyle 2 \\pi \\left(f_{0} \\left(- \\delta + t\\right) + \\frac{s \\left(- \\delta + t\\right)^{2}}{2}\\right) - 2 \\pi \\left(f_{0} t + t^{2} \\frac{s}{2}\\right)$"
      ],
      "text/plain": [
       "2*pi*(f_{0}*(-\\delta + t) + s*(-\\delta + t)**2/2) - 2*pi*(f_{0}*t + t**2*(s/2))"
      ]
     },
     "execution_count": 25,
     "metadata": {},
     "output_type": "execute_result"
    }
   ],
   "source": [
    "phi_RX_t - phi_TX_t"
   ]
  },
  {
   "cell_type": "code",
   "execution_count": 26,
   "metadata": {
    "colab": {
     "base_uri": "https://localhost:8080/",
     "height": 58
    },
    "id": "eiSm_Vq4alG4",
    "outputId": "fdd73d67-f841-478e-c3df-253b392f0aa2"
   },
   "outputs": [
    {
     "data": {
      "text/latex": [
       "$\\displaystyle 2 \\pi \\left(\\frac{\\delta^{2} s}{2} - \\delta f_{0} - \\delta s t\\right)$"
      ],
      "text/plain": [
       "2*pi*(\\delta**2*s/2 - \\delta*f_{0} - \\delta*s*t)"
      ]
     },
     "execution_count": 26,
     "metadata": {},
     "output_type": "execute_result"
    }
   ],
   "source": [
    "Y_L_t = Y_H.subs(\"PhiR\",phi_RX_t)\n",
    "Y_L_t = Y_H_t.subs(\"PhiT\",phi_TX_t)\n",
    "# phi_l is the phase of the `low frequency tone` aka IF tone\n",
    "phi_l_t = parse_latex(r\"2 \\pi * (- f_0 \\cdot \\mathit{Delta A} + \\frac{s}{2} \\cdot \\mathit{Delta A}^2 - s * t * \\mathit{Delta A} )\")\n",
    "phi_l_t = phi_l_t.subs(\"Phi\",Phi_0)\n",
    "phi_l_t = phi_l_t.subs(\"Delta A\",delta)\n",
    "phi_l_t"
   ]
  },
  {
   "cell_type": "code",
   "execution_count": 27,
   "metadata": {
    "colab": {
     "base_uri": "https://localhost:8080/"
    },
    "id": "VHHvVKFpbm2x",
    "outputId": "c7a24bcd-b832-414c-d795-2b307a006735"
   },
   "outputs": [
    {
     "data": {
      "text/plain": [
       "True"
      ]
     },
     "execution_count": 27,
     "metadata": {},
     "output_type": "execute_result"
    }
   ],
   "source": [
    "# verify that the two phase definitions match:\n",
    "phi_l_t.equals(phi_RX_t-phi_TX_t)"
   ]
  },
  {
   "cell_type": "code",
   "execution_count": 28,
   "metadata": {
    "colab": {
     "base_uri": "https://localhost:8080/",
     "height": 75
    },
    "id": "aIGHTNkvrMuB",
    "outputId": "4f80e4a9-cb7a-4ee8-d6a1-1c8f8b32fc00"
   },
   "outputs": [
    {
     "name": "stdout",
     "output_type": "stream",
     "text": [
      "f_{c}\n"
     ]
    },
    {
     "data": {
      "text/latex": [
       "$\\displaystyle 2 \\pi \\left(\\frac{\\delta f_{c}}{2} - \\delta f_{0} - f_{c} t\\right)$"
      ],
      "text/plain": [
       "2*pi*(\\delta*f_c/2 - \\delta*f_{0} - f_c*t)"
      ]
     },
     "execution_count": 28,
     "metadata": {},
     "output_type": "execute_result"
    }
   ],
   "source": [
    "fb_explicit = parse_latex(r\"\\mathit{Delta A} \\cdot s\")\n",
    "fb_explicit = fb_explicit.subs(\"Delta A\",delta)\n",
    "fc_implicit = Symbol(\"f_c\")\n",
    "psi0 = Symbol(\"\\Psi_0\")\n",
    "phi0 = parse_latex(r\"\\mathit{Delta A} \\cdot \\mathit{fc}/2 - \\mathit{Delta A} \\cdot f_0\")\n",
    "phi0 = phi0.subs(\"Phi zero\",Phi_0)\n",
    "phi0 = phi0.subs(\"Delta A\",delta)\n",
    "phi0 = phi0.subs(\"fc\",fc_implicit)\n",
    "print(latex(fc_implicit))\n",
    "phi_l_new = phi_l_t.subs(fb_explicit,fc_implicit)\n",
    "phi_l_new"
   ]
  },
  {
   "cell_type": "code",
   "execution_count": 29,
   "metadata": {
    "colab": {
     "base_uri": "https://localhost:8080/",
     "height": 52
    },
    "id": "DT3c5AR8tU5s",
    "outputId": "7677413f-c79b-4ac8-ebdf-027c58b23545"
   },
   "outputs": [
    {
     "data": {
      "text/latex": [
       "$\\displaystyle \\frac{\\delta f_{c}}{2} - \\delta f_{0}$"
      ],
      "text/plain": [
       "\\delta*f_c/2 - \\delta*f_{0}"
      ]
     },
     "execution_count": 29,
     "metadata": {},
     "output_type": "execute_result"
    }
   ],
   "source": [
    "phi0"
   ]
  },
  {
   "cell_type": "code",
   "execution_count": 30,
   "metadata": {
    "colab": {
     "base_uri": "https://localhost:8080/",
     "height": 38
    },
    "id": "QqvrYxnLtnts",
    "outputId": "9f4c376f-9af8-45e0-ae00-5cc0abbf653e"
   },
   "outputs": [
    {
     "data": {
      "text/latex": [
       "$\\displaystyle 2 \\pi \\left(\\Psi_{0} - f_{c} t\\right)$"
      ],
      "text/plain": [
       "2*pi*(\\Psi_0 - f_c*t)"
      ]
     },
     "execution_count": 30,
     "metadata": {},
     "output_type": "execute_result"
    }
   ],
   "source": [
    "phi_l_new = phi_l_new.subs(phi0,psi0)\n",
    "phi_l_new"
   ]
  },
  {
   "cell_type": "code",
   "execution_count": 31,
   "metadata": {
    "colab": {
     "base_uri": "https://localhost:8080/",
     "height": 53
    },
    "id": "Hz2GrswCuPGL",
    "outputId": "531b026f-0ae9-4a68-cb57-63d44daf99f6"
   },
   "outputs": [
    {
     "data": {
      "text/latex": [
       "$\\displaystyle \\frac{f_{c} \\left(\\Delta + \\delta\\right)}{2} - f_{0} \\left(\\Delta + \\delta\\right)$"
      ],
      "text/plain": [
       "f_c*(Delta + delta)/2 - f_{0}*(Delta + delta)"
      ]
     },
     "execution_count": 31,
     "metadata": {},
     "output_type": "execute_result"
    }
   ],
   "source": [
    "Dd = parse_latex(r\"\\Delta + \\delta\")\n",
    "psi1 = phi0.subs(delta, Dd)\n",
    "psi1"
   ]
  },
  {
   "cell_type": "code",
   "execution_count": 32,
   "metadata": {
    "colab": {
     "base_uri": "https://localhost:8080/",
     "height": 53
    },
    "id": "xLxRczk4vBeL",
    "outputId": "f45fa36b-fe3d-49ec-e047-4b1fe13377a0"
   },
   "outputs": [
    {
     "data": {
      "text/latex": [
       "$\\displaystyle \\frac{\\delta f_{c}}{2} - \\delta f_{0} - \\frac{f_{c} \\left(\\Delta + \\delta\\right)}{2} + f_{0} \\left(\\Delta + \\delta\\right)$"
      ],
      "text/plain": [
       "\\delta*f_c/2 - \\delta*f_{0} - f_c*(Delta + delta)/2 + f_{0}*(Delta + delta)"
      ]
     },
     "execution_count": 32,
     "metadata": {},
     "output_type": "execute_result"
    }
   ],
   "source": [
    "phi0-psi1"
   ]
  },
  {
   "cell_type": "code",
   "execution_count": 33,
   "metadata": {
    "colab": {
     "base_uri": "https://localhost:8080/",
     "height": 52
    },
    "id": "WiTlwSeQvIQ5",
    "outputId": "beed869c-7848-4dec-98ab-44fb1eea96f4"
   },
   "outputs": [
    {
     "data": {
      "text/latex": [
       "$\\displaystyle \\Delta f_{0} + \\frac{\\Delta f_{c}}{2}$"
      ],
      "text/plain": [
       "Delta*f_{0} + (Delta*f_{c})/2"
      ]
     },
     "execution_count": 33,
     "metadata": {},
     "output_type": "execute_result"
    }
   ],
   "source": [
    "DPsi = parse_latex(r\"f_c \\cdot \\Delta/2 +f_0 \\cdot \\Delta\")\n",
    "DPsi"
   ]
  },
  {
   "cell_type": "markdown",
   "metadata": {
    "id": "d3a6KfEyv01Q"
   },
   "source": [
    "here we need to consider that f0 ~60e9 and fc ~1e7 MHz"
   ]
  },
  {
   "cell_type": "markdown",
   "metadata": {
    "id": "Z_gFxNFscbgo"
   },
   "source": [
    "# BACK-UP section"
   ]
  },
  {
   "cell_type": "code",
   "execution_count": 34,
   "metadata": {
    "colab": {
     "base_uri": "https://localhost:8080/",
     "height": 58
    },
    "id": "3NsAFlm40W6_",
    "outputId": "5f2846c9-7ef9-4ab6-a677-95f96ab9ffd0"
   },
   "outputs": [
    {
     "data": {
      "text/latex": [
       "$\\displaystyle 2 \\pi \\left(- \\frac{\\nu^{2} s}{2} + \\nu f_{0} + \\nu s t\\right)$"
      ],
      "text/plain": [
       "2*pi*(-\\nu**2*s/2 + \\nu*f_{0} + \\nu*s*t)"
      ]
     },
     "execution_count": 34,
     "metadata": {},
     "output_type": "execute_result"
    }
   ],
   "source": [
    "# deltaz = Symbol(\"\\deltaz\")\n",
    "lows = parse_latex(r\"2 \\pi \\cdot ( f_0 \\cdot  \\mathit{Delz}  + s * \\mathit{Delz} * t - \\frac{s}{2} * \\mathit{Delz} * \\mathit{Delz} )\")\n",
    "\n",
    "lows = lows.subs(\"Delz\", nu)\n",
    "lows"
   ]
  },
  {
   "cell_type": "code",
   "execution_count": 35,
   "metadata": {
    "colab": {
     "base_uri": "https://localhost:8080/"
    },
    "id": "kdQfd0u86O5a",
    "outputId": "27188b5d-80fe-463b-c59c-a3178b858c8d"
   },
   "outputs": [
    {
     "ename": "NameError",
     "evalue": "name 'low' is not defined",
     "output_type": "error",
     "traceback": [
      "\u001b[1;31m---------------------------------------------------------------------------\u001b[0m",
      "\u001b[1;31mNameError\u001b[0m                                 Traceback (most recent call last)",
      "Cell \u001b[1;32mIn[35], line 1\u001b[0m\n\u001b[1;32m----> 1\u001b[0m lows\u001b[38;5;241m.\u001b[39mequals(\u001b[43mlow\u001b[49m)\n",
      "\u001b[1;31mNameError\u001b[0m: name 'low' is not defined"
     ]
    }
   ],
   "source": [
    "lows.equals(low)"
   ]
  },
  {
   "cell_type": "code",
   "execution_count": null,
   "metadata": {
    "colab": {
     "base_uri": "https://localhost:8080/",
     "height": 83
    },
    "id": "uIoMBBdv1ELq",
    "outputId": "5da0dc25-ac97-446a-a2ad-bd35f7ef897c"
   },
   "outputs": [
    {
     "name": "stdout",
     "output_type": "stream",
     "text": [
      "\\delta\n",
      "2 \\pi \\left(- \\delta^{2} \\frac{s}{2} + \\left(\\delta f_{0} + t \\delta s\\right)\\right)\n"
     ]
    },
    {
     "data": {
      "text/latex": [
       "$\\displaystyle 2 \\pi \\left(- \\delta^{2} \\frac{s}{2} + \\left(\\delta f_{0} + t \\delta s\\right)\\right)$"
      ],
      "text/plain": [
       "(2*pi)*(-delta**2*s/2 + (delta*f_{0} + t*(delta*s)))"
      ]
     },
     "execution_count": 297,
     "metadata": {},
     "output_type": "execute_result"
    }
   ],
   "source": []
  },
  {
   "cell_type": "code",
   "execution_count": 36,
   "metadata": {
    "colab": {
     "base_uri": "https://localhost:8080/"
    },
    "id": "8DS4Z4H4ljB4",
    "outputId": "6c35d0b6-d03a-4699-cde8-b70c8c8598ad"
   },
   "outputs": [
    {
     "ename": "NameError",
     "evalue": "name 'P1' is not defined",
     "output_type": "error",
     "traceback": [
      "\u001b[1;31m---------------------------------------------------------------------------\u001b[0m",
      "\u001b[1;31mNameError\u001b[0m                                 Traceback (most recent call last)",
      "Cell \u001b[1;32mIn[36], line 4\u001b[0m\n\u001b[0;32m      1\u001b[0m Y_T \u001b[38;5;241m=\u001b[39m parse_latex(\u001b[38;5;124mr\u001b[39m\u001b[38;5;124m\"\u001b[39m\u001b[38;5;124mA_T \u001b[39m\u001b[38;5;124m\\\u001b[39m\u001b[38;5;124mcdot \u001b[39m\u001b[38;5;124m\\\u001b[39m\u001b[38;5;124mcos(\u001b[39m\u001b[38;5;124m\\\u001b[39m\u001b[38;5;124mmathit\u001b[39m\u001b[38;5;132;01m{PhiT}\u001b[39;00m\u001b[38;5;124m)\u001b[39m\u001b[38;5;124m\"\u001b[39m)\n\u001b[0;32m      2\u001b[0m \u001b[38;5;66;03m# Y_T = parse_latex(r\"\\cos{\\Phi_T}\")\u001b[39;00m\n\u001b[0;32m      3\u001b[0m \u001b[38;5;66;03m# Y_T = Y_T.subst(phi_TX, phi_TX_full)\u001b[39;00m\n\u001b[1;32m----> 4\u001b[0m \u001b[38;5;28mprint\u001b[39m(\u001b[38;5;124m\"\u001b[39m\u001b[38;5;124mPhi T:\u001b[39m\u001b[38;5;124m\"\u001b[39m, latex(\u001b[43mP1\u001b[49m))\n\u001b[0;32m      5\u001b[0m \u001b[38;5;28mprint\u001b[39m(\u001b[38;5;124m\"\u001b[39m\u001b[38;5;124mphi full:\u001b[39m\u001b[38;5;124m\"\u001b[39m,latex(phi_TX_full))\n\u001b[0;32m      6\u001b[0m \u001b[38;5;28mprint\u001b[39m(\u001b[38;5;124m\"\u001b[39m\u001b[38;5;124mYT:\u001b[39m\u001b[38;5;124m\"\u001b[39m, latex(Y_T))\n",
      "\u001b[1;31mNameError\u001b[0m: name 'P1' is not defined"
     ]
    }
   ],
   "source": [
    "\n",
    "Y_T = parse_latex(r\"A_T \\cdot \\cos(\\mathit{PhiT})\")\n",
    "# Y_T = parse_latex(r\"\\cos{\\Phi_T}\")\n",
    "# Y_T = Y_T.subst(phi_TX, phi_TX_full)\n",
    "print(\"Phi T:\", latex(P1))\n",
    "print(\"phi full:\",latex(phi_TX_full))\n",
    "print(\"YT:\", latex(Y_T))\n",
    "\n",
    "Y_T1 = Y_T.subs(PhiT,phi_TX_full)\n",
    "print(\"YT1\", latex(Y_T1))\n",
    "print(\"-----\")\n",
    "phi_RX = phi_TX.subs(t, t-delta)\n",
    "YIF2 = Y_T*Y_R\n",
    "# phi_if = parse_latex()\n",
    "YIF_L = parse_latex(r\"\\frac{A_T \\cdot A_T}{2} \\cdot \\cos(2 \\pi \\cdot [f_{0} \\cdot \\delta + s \\cdot \\delta \\cdot t - \\frac{s}{2} \\cdot \\delta^2])\")\n",
    "YIF_H = parse_latex(r\"\\frac{A_T \\cdot A_T}{2} \\cdot \\cos(2 \\pi \\cdot [ 2 \\cdot f_{0} \\cdot t -  f_{0} \\cdot \\delta + \\frac{s}{2} \\cdot t^2 + \\frac{s}{2} \\cdot (t-\\delta)^2] + 2 \\cdot \\Phi_0 )\")\n",
    "YIF3 = YIF_L+YIF_H\n",
    "# print(YIF2.equals(YIF3))\n",
    "# print(latex(YIF2-YIF_L))"
   ]
  },
  {
   "cell_type": "markdown",
   "metadata": {
    "id": "GzQnASRmpAV6"
   },
   "source": [
    "$$ A_{T}^{2} \\cos{\\left(Phi_{0} + 2 \\pi \\left(f_{0} \\left(- \\delta + t\\right) + \\frac{s \\left(- \\delta + t\\right)^{2}}{2}\\right) \\right)} \\cos{\\left(Phi_{0} + 2 \\pi \\left(f_{0} t + t^{2} \\frac{s}{2}\\right) \\right)} - \\frac{A_{T} A_{T}}{2} \\cos{\\left(2 \\pi \\left(- \\delta^{2} \\frac{s}{2} + \\left(\\delta f_{0} + t \\delta s\\right)\\right) \\right)}\n",
    " $$"
   ]
  },
  {
   "cell_type": "code",
   "execution_count": null,
   "metadata": {
    "colab": {
     "base_uri": "https://localhost:8080/"
    },
    "id": "p4wDqN7wWLLw",
    "outputId": "26dbaf5f-c9fa-43d7-95a0-55b669783efd"
   },
   "outputs": [
    {
     "data": {
      "text/plain": [
       "True"
      ]
     },
     "execution_count": 2,
     "metadata": {},
     "output_type": "execute_result"
    }
   ],
   "source": [
    "expr1 = parse_latex(r\"\\frac{e+1}{4}\")\n",
    "expr2 = parse_latex(r\"\\frac{1+e}{4}\")\n",
    "expr1.equals(expr2)"
   ]
  },
  {
   "cell_type": "markdown",
   "metadata": {
    "id": "imyE3S82deAf"
   },
   "source": [
    "$$ \\frac{\\cos(\\alpha + \\beta) + \\cos(\\alpha - \\beta)}{2} $$"
   ]
  },
  {
   "cell_type": "code",
   "execution_count": null,
   "metadata": {
    "colab": {
     "base_uri": "https://localhost:8080/",
     "height": 734
    },
    "id": "vx4D91TSZfON",
    "outputId": "4e0cdb61-ea3b-4e9e-bba2-af4d07c653f8"
   },
   "outputs": [
    {
     "name": "stdout",
     "output_type": "stream",
     "text": [
      "\\cos{\\left(\\alpha \\right)} \\cos{\\left(\\beta \\right)}\n",
      "is same True\n",
      "\\cos{\\left(\\alpha \\right)} \\cos{\\left(\\beta \\right)}\n",
      "is same True\n",
      "\\frac{\\cos{\\left(\\alpha - \\beta \\right)} + \\cos{\\left(\\alpha + \\beta \\right)}}{2}\n",
      "is same True\n"
     ]
    },
    {
     "data": {
      "image/png": "[encoded data removed]",
      "text/plain": [
       "<Figure size 2000x1000 with 3 Axes>"
      ]
     },
     "metadata": {},
     "output_type": "display_data"
    }
   ],
   "source": [
    "\n",
    "init_printing()\n",
    "\n",
    "steps = []\n",
    "steps= [r\"\\cos(\\alpha) \\cdot \\cos(\\beta)\",\n",
    "        r\"\\cos(\\beta) \\cdot \\cos(\\alpha)\",\n",
    "        r\"\\frac{\\cos(\\alpha + \\beta) + \\cos(\\alpha - \\beta)}{2}\"]\n",
    "\n",
    "step_old = parse_latex(steps[0])\n",
    "fns = []\n",
    "for idx, _ in enumerate(steps):\n",
    "    step_new = parse_latex(steps[idx])\n",
    "    #print(\"step_new\", steps[idx])\n",
    "    print(latex(step_new))\n",
    "    fn = f'step_{idx}.png'\n",
    "    preview(step_new,output='png',viewer='file',filename=fn)\n",
    "    fns.append(mpimg.imread(fn))\n",
    "    print(\"is same\", step_new.equals(step_old))\n",
    "\n",
    "plt.figure(figsize=(20,10))\n",
    "columns = 1\n",
    "for i, image in enumerate(fns):\n",
    "    plt.subplot(len(fns) // columns + 1, columns, i + 1)\n",
    "    plt.imshow(fns[i])\n"
   ]
  },
  {
   "cell_type": "code",
   "execution_count": null,
   "metadata": {
    "colab": {
     "base_uri": "https://localhost:8080/"
    },
    "id": "cCI4oQi8ZXVe",
    "outputId": "5857cec0-8003-47b8-de78-4d5da4f1eb48"
   },
   "outputs": [
    {
     "name": "stdout",
     "output_type": "stream",
     "text": [
      "F_{H} + F_{L}\n",
      "F_{H} + \\cos{\\left(x \\right)}\n"
     ]
    }
   ],
   "source": [
    "#from sympy import parse_latex\n",
    "IFL = parse_latex(r\"F_L\")\n",
    "IFH = parse_latex(r\"F_H\")\n",
    "IFL_full = parse_latex(r\"\\cos(x)\")\n",
    "IF = IFL+IFH\n",
    "print(latex(IF))\n",
    "yif2 = IF.subs(IFL,IFL_full)\n",
    "#yif2 = yIF\n",
    "print(latex(yif2))\n"
   ]
  },
  {
   "cell_type": "markdown",
   "metadata": {
    "id": "oVWGQVVycz2S"
   },
   "source": [
    "## Examples with Sympy"
   ]
  },
  {
   "cell_type": "code",
   "execution_count": null,
   "metadata": {
    "colab": {
     "base_uri": "https://localhost:8080/"
    },
    "id": "AE8DlVN6c2Bp",
    "outputId": "a61af6a6-adec-4f50-c2de-aff0af5715d1"
   },
   "outputs": [
    {
     "name": "stdout",
     "output_type": "stream",
     "text": [
      "Phi T: P\n",
      "phi full: P + 2 \\pi \\left(f_{0} t + t^{2} \\frac{s}{2}\\right)\n",
      "Y1 A_{T} \\cos{\\left(P + 2 \\pi \\left(f_{0} t + t^{2} \\frac{s}{2}\\right) \\right)}\n",
      "works\n"
     ]
    }
   ],
   "source": [
    "P = Symbol(r\"P\")\n",
    "phi_TX_full = parse_latex(r\"2 \\pi \\cdot ( f_0 \\cdot t + \\frac{s}{2} \\cdot t^2 ) + P\")\n",
    "Y_T = parse_latex(r\"A_T \\cdot \\cos(P)\")\n",
    "print(\"Phi T:\", latex(P))\n",
    "print(\"phi full:\",latex(phi_TX_full))\n",
    "\n",
    "Y_T1 = Y_T.subs(P,phi_TX_full)\n",
    "print(\"Y1\", latex(Y_T1))\n",
    "print(\"works\")"
   ]
  },
  {
   "cell_type": "code",
   "execution_count": null,
   "metadata": {
    "colab": {
     "base_uri": "https://localhost:8080/"
    },
    "id": "PYWl_BKIdJo3",
    "outputId": "e8475f59-8ab8-4e63-9356-bfa0bd585682"
   },
   "outputs": [
    {
     "name": "stdout",
     "output_type": "stream",
     "text": [
      "P0: Phi\n",
      "phi full: A_{T}*Phi\n",
      "SUBS: A_{T} x\n",
      "works\n"
     ]
    }
   ],
   "source": [
    "P0 = Symbol(r\"Phi\")\n",
    "x = Symbol(\"x\")\n",
    "phi_TX_full0 = parse_latex(r\"2 \\pi \\cdot ( f_0 \\cdot t + \\frac{s}{2} \\cdot t^2 ) + P\")\n",
    "Y_T = parse_latex(r\"A_T \\cdot \\mathit{Phi}\")\n",
    "print(f\"P0: {P0}\")\n",
    "print(f\"phi full: {Y_T}\")\n",
    "\n",
    "Y_T0 = Y_T.subs(P0,x)\n",
    "print(\"SUBS:\", latex(Y_T0))\n",
    "print(\"works\")"
   ]
  },
  {
   "cell_type": "code",
   "execution_count": null,
   "metadata": {
    "colab": {
     "base_uri": "https://localhost:8080/"
    },
    "id": "v6TMuhdCnAFP",
    "outputId": "5c86bc82-270d-46d8-c78a-05ade0d0c289"
   },
   "outputs": [
    {
     "name": "stdout",
     "output_type": "stream",
     "text": [
      "P0: Phi_{0}\n",
      "Y_T: A_{T}*Phi\n",
      "SUBS: A_{T} x\n",
      "works\n"
     ]
    }
   ],
   "source": [
    "x = Symbol(\"x\")\n",
    "phi_TX_full0 = parse_latex(r\"2 \\pi \\cdot ( f_0 \\cdot t + \\frac{s}{2} \\cdot t^2 ) + P\")\n",
    "Y_T = parse_latex(r\"A_T \\cdot \\mathit{Phi}\")\n",
    "print(f\"P0: {P0}\")\n",
    "print(f\"Y_T: {Y_T}\")\n",
    "\n",
    "Y_T0 = Y_T.subs(\"Phi\",x)\n",
    "print(\"SUBS:\", latex(Y_T0))\n",
    "print(\"works\")"
   ]
  },
  {
   "cell_type": "code",
   "execution_count": null,
   "metadata": {
    "colab": {
     "base_uri": "https://localhost:8080/",
     "height": 72
    },
    "id": "djWma1SbqUIy",
    "outputId": "3c74007c-83d5-4a04-ec2a-5836349cf0d9"
   },
   "outputs": [
    {
     "name": "stdout",
     "output_type": "stream",
     "text": [
      "Y A_{T}*psiv\n",
      "SUBS: A_{T} \\Psi_{5}\n"
     ]
    },
    {
     "data": {
      "text/latex": [
       "$\\displaystyle \\Psi_{5}$"
      ],
      "text/plain": [
       "\\Psi_{5}"
      ]
     },
     "execution_count": 260,
     "metadata": {},
     "output_type": "execute_result"
    }
   ],
   "source": [
    "P5 = Symbol(r\"\\Psi_{5}\")\n",
    "# P5 = Symbol(\"P5\")   # works\n",
    "Y = parse_latex(r\"A_T \\cdot \\mathit{psi-5}\") # does not work\n",
    "Y = parse_latex(r\"A_T \\cdot \\mathit{psi 5}\") # does not work\n",
    "Y = parse_latex(r\"A_T \\cdot \\mathit{psi5}\") # does not work\n",
    "Y = parse_latex(r\"A_T \\cdot \\mathit{psiv}\") # works\n",
    "# Y = parse_latex(r\"A_T \\cdot \\mathit{psi v}\") # works\n",
    "\n",
    "print(\"Y\",Y)\n",
    "Y_T1 = Y.subs(\"psiv\",P5)\n",
    "print(\"SUBS:\", latex(Y_T1))\n",
    "P5"
   ]
  }
 ],
 "metadata": {
  "colab": {
   "collapsed_sections": [
    "Z_gFxNFscbgo"
   ],
   "provenance": []
  },
  "kernelspec": {
   "display_name": "Python 3 (ipykernel)",
   "language": "python",
   "name": "python3"
  },
  "language_info": {
   "codemirror_mode": {
    "name": "ipython",
    "version": 3
   },
   "file_extension": ".py",
   "mimetype": "text/x-python",
   "name": "python",
   "nbconvert_exporter": "python",
   "pygments_lexer": "ipython3",
   "version": "3.11.1"
  }
 },
 "nbformat": 4,
 "nbformat_minor": 4
}
